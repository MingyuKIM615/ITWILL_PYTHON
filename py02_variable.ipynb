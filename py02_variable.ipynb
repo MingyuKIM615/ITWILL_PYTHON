{
  "nbformat": 4,
  "nbformat_minor": 0,
  "metadata": {
    "colab": {
      "name": "py02_variable.ipynb",
      "provenance": [],
      "collapsed_sections": [],
      "authorship_tag": "ABX9TyNoUsxXWkfJfOxJzqHnbpFQ",
      "include_colab_link": true
    },
    "kernelspec": {
      "name": "python3",
      "display_name": "Python 3"
    },
    "language_info": {
      "name": "python"
    }
  },
  "cells": [
    {
      "cell_type": "markdown",
      "metadata": {
        "id": "view-in-github",
        "colab_type": "text"
      },
      "source": [
        "<a href=\"https://colab.research.google.com/github/MingyuKIM615/ITWILL_PYTHON/blob/master/py02_variable.ipynb\" target=\"_parent\"><img src=\"https://colab.research.google.com/assets/colab-badge.svg\" alt=\"Open In Colab\"/></a>"
      ]
    },
    {
      "cell_type": "markdown",
      "source": [
        "# Python Data Type(자료 타입)\n",
        "\n",
        "* 숫자 타입:\n",
        "  * int : 정수\n",
        "  * float: 실수\n",
        "* 문자열 타입 : str\n",
        "* 논리 타입: bool(True/False)\n",
        "\n",
        "Python은 변수를 선언할 때 자료 타입을 명시하지 않음. 코드가 실행될 때 변수의 자료 타입이 결정."
      ],
      "metadata": {
        "id": "wg_4WvL5qinY"
      }
    },
    {
      "cell_type": "code",
      "execution_count": null,
      "metadata": {
        "colab": {
          "base_uri": "https://localhost:8080/"
        },
        "id": "fze1cMvSqcUp",
        "outputId": "4317a3e6-0db2-4969-ab4f-da8cbddf5a38"
      },
      "outputs": [
        {
          "output_type": "stream",
          "name": "stdout",
          "text": [
            "100\n",
            "<class 'int'>\n"
          ]
        }
      ],
      "source": [
        "# (주성, comment)\n",
        "# 변수 = 값\n",
        "n = 100\n",
        "print(n)\n",
        "print(type(n)) # type(value): value의 자료 타입을 리턴하는 함수"
      ]
    },
    {
      "cell_type": "code",
      "source": [
        "type(n)"
      ],
      "metadata": {
        "colab": {
          "base_uri": "https://localhost:8080/"
        },
        "id": "6gIDWDFSrhi6",
        "outputId": "66134870-682b-4857-c605-8f62fbe69ef7"
      },
      "execution_count": null,
      "outputs": [
        {
          "output_type": "execute_result",
          "data": {
            "text/plain": [
              "int"
            ]
          },
          "metadata": {},
          "execution_count": 26
        }
      ]
    },
    {
      "cell_type": "markdown",
      "source": [
        "식(expression): 변수, 리턴 값이 있는 함수 호출\n",
        "inynb 코드 셀에서 가장 마지막 줄에 있는 문장이 식(expression)인 경우, 식을 평가한 결과를 출력창에 출력해 줌."
      ],
      "metadata": {
        "id": "xkee3GfJsVn7"
      }
    },
    {
      "cell_type": "code",
      "source": [
        "n+1\n",
        "print(n)\n",
        "n+1"
      ],
      "metadata": {
        "colab": {
          "base_uri": "https://localhost:8080/"
        },
        "id": "KQbn0oSxsj1q",
        "outputId": "39354ce0-8d67-410a-895a-eec7f081abcc"
      },
      "execution_count": null,
      "outputs": [
        {
          "output_type": "stream",
          "name": "stdout",
          "text": [
            "100\n"
          ]
        },
        {
          "output_type": "execute_result",
          "data": {
            "text/plain": [
              "101"
            ]
          },
          "metadata": {},
          "execution_count": 27
        }
      ]
    },
    {
      "cell_type": "code",
      "source": [
        "pi = 3.14\n",
        "print(pi)\n",
        "type(pi)"
      ],
      "metadata": {
        "colab": {
          "base_uri": "https://localhost:8080/"
        },
        "id": "D_94ccPFtOoN",
        "outputId": "1fca217b-fb9e-4a5e-c7bc-e01a808bf69c"
      },
      "execution_count": null,
      "outputs": [
        {
          "output_type": "stream",
          "name": "stdout",
          "text": [
            "3.14\n"
          ]
        },
        {
          "output_type": "execute_result",
          "data": {
            "text/plain": [
              "float"
            ]
          },
          "metadata": {},
          "execution_count": 28
        }
      ]
    },
    {
      "cell_type": "markdown",
      "source": [
        "## 명시적 타입 변환\n",
        "\n",
        "* `int(값)` : 값을 정수 타입으로 변환하는 함수.\n",
        "* `float(값)` : 값을 실수 타입으로 변환하는 함수.\n",
        "* `str(값)` : 값을 문자열 타입으로 변환하는 함수."
      ],
      "metadata": {
        "id": "GZumuRPdtllo"
      }
    },
    {
      "cell_type": "code",
      "source": [
        "# 콘솔 창에서 사용자 입력 받기\n",
        "n = input('정수 입력 >>>')"
      ],
      "metadata": {
        "colab": {
          "base_uri": "https://localhost:8080/"
        },
        "id": "uRo7lJDxtkzt",
        "outputId": "b233eac4-5d77-411c-c989-4a9289f11c52"
      },
      "execution_count": null,
      "outputs": [
        {
          "name": "stdout",
          "output_type": "stream",
          "text": [
            "정수 입력 >>>123\n"
          ]
        }
      ]
    },
    {
      "cell_type": "code",
      "source": [
        "type(n) #> str(문자열)"
      ],
      "metadata": {
        "colab": {
          "base_uri": "https://localhost:8080/"
        },
        "id": "U97MKwpZufbQ",
        "outputId": "2251e5a1-e0c3-4d5c-ce70-c8457a317c7b"
      },
      "execution_count": null,
      "outputs": [
        {
          "output_type": "execute_result",
          "data": {
            "text/plain": [
              "str"
            ]
          },
          "metadata": {},
          "execution_count": 30
        }
      ]
    },
    {
      "cell_type": "code",
      "source": [
        "n = int(n) # 변수 n의 타입을 정수 타입으로 변환해서 저장"
      ],
      "metadata": {
        "id": "TS1Zv3Ihur1b"
      },
      "execution_count": null,
      "outputs": []
    },
    {
      "cell_type": "code",
      "source": [
        "type(n)"
      ],
      "metadata": {
        "colab": {
          "base_uri": "https://localhost:8080/"
        },
        "id": "rbzPM0abuwM6",
        "outputId": "1617a332-f314-4bd9-bd1d-a507becb876c"
      },
      "execution_count": null,
      "outputs": [
        {
          "output_type": "execute_result",
          "data": {
            "text/plain": [
              "int"
            ]
          },
          "metadata": {},
          "execution_count": 32
        }
      ]
    },
    {
      "cell_type": "markdown",
      "source": [
        "# 산술 연산자\n",
        "\n",
        "* 산술 연산자 : 숫자(int, float) 타입의 연산에 사용.\n",
        "* 산술 연산자 종류: `+`, `-`, `*`, `/`, `//`(몫), `%`(나머지), `**`(거듭제곱)"
      ],
      "metadata": {
        "id": "-JNq7NGPvPJT"
      }
    },
    {
      "cell_type": "code",
      "source": [
        "x = 10\n",
        "y = 3"
      ],
      "metadata": {
        "id": "SWkWVtM0uyM1"
      },
      "execution_count": null,
      "outputs": []
    },
    {
      "cell_type": "code",
      "source": [
        "print(f'{x} / {y} = {x / y}')\n",
        "print(f'{x} // {y} = {x // y}')\n",
        "print(f'{x} % {y} = {x % y}')\n",
        "print(f'{x} ^ 2 = {x ** 2}')\n",
        "print(f'{x} ^ -1 = {x ** -1}')"
      ],
      "metadata": {
        "colab": {
          "base_uri": "https://localhost:8080/"
        },
        "id": "k8rUpaXiv-s-",
        "outputId": "2527d72b-bd52-470e-a265-be3f18506b45"
      },
      "execution_count": null,
      "outputs": [
        {
          "output_type": "stream",
          "name": "stdout",
          "text": [
            "10 / 3 = 3.3333333333333335\n",
            "10 // 3 = 3\n",
            "10 % 3 = 1\n",
            "10 ^ 2 = 100\n",
            "10 ^ -1 = 0.1\n"
          ]
        }
      ]
    },
    {
      "cell_type": "markdown",
      "source": [
        "## 문자열(str) 타입에서 사용할 수 있는 연산자\n",
        "\n",
        "* `+`: concatenate. 문자열 이어 붙이기.\n",
        "* `*` : replicate. 문자열 복제"
      ],
      "metadata": {
        "id": "xBsDrZy_xIKr"
      }
    },
    {
      "cell_type": "code",
      "source": [
        "'Hello' + 'Python'"
      ],
      "metadata": {
        "colab": {
          "base_uri": "https://localhost:8080/",
          "height": 35
        },
        "id": "UG_b0LqfxxqI",
        "outputId": "46c36523-97f4-4e6a-9cd2-f86b96ff0802"
      },
      "execution_count": null,
      "outputs": [
        {
          "output_type": "execute_result",
          "data": {
            "application/vnd.google.colaboratory.intrinsic+json": {
              "type": "string"
            },
            "text/plain": [
              "'HelloPython'"
            ]
          },
          "metadata": {},
          "execution_count": 35
        }
      ]
    },
    {
      "cell_type": "code",
      "source": [
        "'Hello' * 3"
      ],
      "metadata": {
        "colab": {
          "base_uri": "https://localhost:8080/",
          "height": 35
        },
        "id": "B6A4sZXUx1Os",
        "outputId": "407d9e43-b15e-47f1-8517-ce8219f9c443"
      },
      "execution_count": null,
      "outputs": [
        {
          "output_type": "execute_result",
          "data": {
            "application/vnd.google.colaboratory.intrinsic+json": {
              "type": "string"
            },
            "text/plain": [
              "'HelloHelloHello'"
            ]
          },
          "metadata": {},
          "execution_count": 36
        }
      ]
    },
    {
      "cell_type": "markdown",
      "source": [
        "# 비교 연산자와 논리 연산자\n",
        "\n",
        "* 비교 연산자: `==`, `!=`, `>`, `<`, `>=`, `<=`\n",
        "* 논리 연산자: `and`, `or`, `not`"
      ],
      "metadata": {
        "id": "PufsDEIfEYDK"
      }
    },
    {
      "cell_type": "code",
      "source": [
        "x = 100"
      ],
      "metadata": {
        "id": "3wJq3ZsgE9NY"
      },
      "execution_count": null,
      "outputs": []
    },
    {
      "cell_type": "code",
      "source": [
        "(x > 50) and (x < 150)"
      ],
      "metadata": {
        "colab": {
          "base_uri": "https://localhost:8080/"
        },
        "id": "Fe68AKYUFGzp",
        "outputId": "9fce2734-d60e-4767-dd35-9dbb92fea603"
      },
      "execution_count": null,
      "outputs": [
        {
          "output_type": "execute_result",
          "data": {
            "text/plain": [
              "True"
            ]
          },
          "metadata": {},
          "execution_count": 40
        }
      ]
    },
    {
      "cell_type": "code",
      "source": [
        "50 < x < 150 # x > 50 and x < 150 와 같은 코드"
      ],
      "metadata": {
        "colab": {
          "base_uri": "https://localhost:8080/"
        },
        "id": "BPaCneCGFSAa",
        "outputId": "9eefc3e3-092f-4540-bad9-65df6ef268c8"
      },
      "execution_count": null,
      "outputs": [
        {
          "output_type": "execute_result",
          "data": {
            "text/plain": [
              "True"
            ]
          },
          "metadata": {},
          "execution_count": 41
        }
      ]
    },
    {
      "cell_type": "code",
      "source": [
        ""
      ],
      "metadata": {
        "id": "92m44_viF2WK"
      },
      "execution_count": null,
      "outputs": []
    }
  ]
}