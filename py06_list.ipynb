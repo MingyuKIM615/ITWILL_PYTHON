{
  "nbformat": 4,
  "nbformat_minor": 0,
  "metadata": {
    "colab": {
      "name": "py06_list.ipynb",
      "provenance": [],
      "collapsed_sections": [],
      "authorship_tag": "ABX9TyP3o8kexYXr6blBwczgd/D/",
      "include_colab_link": true
    },
    "kernelspec": {
      "name": "python3",
      "display_name": "Python 3"
    },
    "language_info": {
      "name": "python"
    }
  },
  "cells": [
    {
      "cell_type": "markdown",
      "metadata": {
        "id": "view-in-github",
        "colab_type": "text"
      },
      "source": [
        "<a href=\"https://colab.research.google.com/github/MingyuKIM615/ITWILL_PYTHON/blob/master/py06_list.ipynb\" target=\"_parent\"><img src=\"https://colab.research.google.com/assets/colab-badge.svg\" alt=\"Open In Colab\"/></a>"
      ]
    },
    {
      "cell_type": "markdown",
      "source": [
        "list: 여러개의 값들을 하나의 변수에 저장하기 위한 데이터 타입.\n",
        "\n",
        "* element(원소, 요소): 리스트에 저장되는 각각의 값.\n",
        "* index(인덱스): 리스트에 원소들이 저장된 위치(번호).\n",
        "    * 리스트의 인덱스는 **0**부터 시작.\n",
        "    * 리스트에서 마지막 원소의 인덱스는 **(원소의 개수 -1)**\n",
        "* 리스트는 원소들을 추가/삭제/변경할 수 있음.\n",
        "    * tuple과 다른 점!"
      ],
      "metadata": {
        "id": "mjL10zaVpNde"
      }
    },
    {
      "cell_type": "code",
      "execution_count": null,
      "metadata": {
        "id": "Kjl_KhsKpJuL"
      },
      "outputs": [],
      "source": [
        "# 숫자들을 저장하는 리스트\n",
        "numbers = [1, 20, 3, 40, 7]"
      ]
    },
    {
      "cell_type": "code",
      "source": [
        "print(numbers)"
      ],
      "metadata": {
        "colab": {
          "base_uri": "https://localhost:8080/"
        },
        "id": "ycJj33sSrBr3",
        "outputId": "b1923487-a970-40ae-e507-b85efc8841cc"
      },
      "execution_count": null,
      "outputs": [
        {
          "output_type": "stream",
          "name": "stdout",
          "text": [
            "[1, 20, 3, 40, 7]\n"
          ]
        }
      ]
    },
    {
      "cell_type": "code",
      "source": [
        "numbers "
      ],
      "metadata": {
        "colab": {
          "base_uri": "https://localhost:8080/"
        },
        "id": "QAxGfRdjrDdv",
        "outputId": "c528d6a3-9fa4-44b8-e954-e8f1085266a0"
      },
      "execution_count": null,
      "outputs": [
        {
          "output_type": "execute_result",
          "data": {
            "text/plain": [
              "[1, 20, 3, 40, 7]"
            ]
          },
          "metadata": {},
          "execution_count": 58
        }
      ]
    },
    {
      "cell_type": "markdown",
      "source": [
        "ipynb의 코드 셀에서 가장 마지막 줄의 문장이 식(expression: 변수, 값, 함수, 호출 등)이면 식을 평가한 결과를 자동으로 출력해줌"
      ],
      "metadata": {
        "id": "RUkpw_nqrosp"
      }
    },
    {
      "cell_type": "code",
      "source": [
        "type(numbers)"
      ],
      "metadata": {
        "colab": {
          "base_uri": "https://localhost:8080/"
        },
        "id": "dTiE49-PrFE_",
        "outputId": "e3889fbe-299c-4cb6-b1d4-3f99855d71af"
      },
      "execution_count": null,
      "outputs": [
        {
          "output_type": "execute_result",
          "data": {
            "text/plain": [
              "list"
            ]
          },
          "metadata": {},
          "execution_count": 59
        }
      ]
    },
    {
      "cell_type": "markdown",
      "source": [
        "# Indexing\n",
        "\n",
        "인덱스를 사용해서 리스트의 원소를 사용"
      ],
      "metadata": {
        "id": "Yai-Hy5SsDgA"
      }
    },
    {
      "cell_type": "code",
      "source": [
        "numbers"
      ],
      "metadata": {
        "colab": {
          "base_uri": "https://localhost:8080/"
        },
        "id": "MnH_T_RLsU7S",
        "outputId": "687d8fa4-e736-4458-dbee-d9754b0212e5"
      },
      "execution_count": null,
      "outputs": [
        {
          "output_type": "execute_result",
          "data": {
            "text/plain": [
              "[1, 20, 3, 40, 7]"
            ]
          },
          "metadata": {},
          "execution_count": 60
        }
      ]
    },
    {
      "cell_type": "code",
      "source": [
        "numbers[0] # list의 첫번째 원소"
      ],
      "metadata": {
        "colab": {
          "base_uri": "https://localhost:8080/"
        },
        "id": "BWvv9Kpjs4EV",
        "outputId": "4f2953ba-cdc3-4835-fbe9-db20dbc103b6"
      },
      "execution_count": null,
      "outputs": [
        {
          "output_type": "execute_result",
          "data": {
            "text/plain": [
              "1"
            ]
          },
          "metadata": {},
          "execution_count": 61
        }
      ]
    },
    {
      "cell_type": "code",
      "source": [
        "numbers[4] # list의 마지막 원소"
      ],
      "metadata": {
        "colab": {
          "base_uri": "https://localhost:8080/"
        },
        "id": "9egVwf4ws5Tx",
        "outputId": "3bb723e6-ac28-4723-a380-c776d6d50479"
      },
      "execution_count": null,
      "outputs": [
        {
          "output_type": "execute_result",
          "data": {
            "text/plain": [
              "7"
            ]
          },
          "metadata": {},
          "execution_count": 62
        }
      ]
    },
    {
      "cell_type": "code",
      "source": [
        "numbers[-1]"
      ],
      "metadata": {
        "colab": {
          "base_uri": "https://localhost:8080/"
        },
        "id": "mU6W5Psbs6s0",
        "outputId": "9023a295-3afc-4ab3-bda2-242c961e7a1f"
      },
      "execution_count": null,
      "outputs": [
        {
          "output_type": "execute_result",
          "data": {
            "text/plain": [
              "7"
            ]
          },
          "metadata": {},
          "execution_count": 63
        }
      ]
    },
    {
      "cell_type": "code",
      "source": [
        "numbers[-2] # list에서 끝에서 두번째 원소"
      ],
      "metadata": {
        "colab": {
          "base_uri": "https://localhost:8080/"
        },
        "id": "NLYuAXlAtDHA",
        "outputId": "a9873abe-6719-4996-891c-222755bba72b"
      },
      "execution_count": null,
      "outputs": [
        {
          "output_type": "execute_result",
          "data": {
            "text/plain": [
              "40"
            ]
          },
          "metadata": {},
          "execution_count": 64
        }
      ]
    },
    {
      "cell_type": "code",
      "source": [
        "# numbers[5] #> IndexError"
      ],
      "metadata": {
        "id": "FXyLcQEAuJdG"
      },
      "execution_count": null,
      "outputs": []
    },
    {
      "cell_type": "markdown",
      "source": [
        "# Slicing"
      ],
      "metadata": {
        "id": "mQzfqfGvuOQI"
      }
    },
    {
      "cell_type": "code",
      "source": [
        "numbers[1:4]"
      ],
      "metadata": {
        "colab": {
          "base_uri": "https://localhost:8080/"
        },
        "id": "17yU0R9muR3-",
        "outputId": "2f14175c-0a11-4a15-a13f-23bee9d2c1f2"
      },
      "execution_count": null,
      "outputs": [
        {
          "output_type": "execute_result",
          "data": {
            "text/plain": [
              "[20, 3, 40]"
            ]
          },
          "metadata": {},
          "execution_count": 66
        }
      ]
    },
    {
      "cell_type": "markdown",
      "source": [
        "```\n",
        "list[start:end]\n",
        "```\n",
        "* start <= index < end 범위의 인덱스 위치의 원소들을 선택.\n",
        "* start가 생략되면 리스트의 첫번째 원소부터 선택.(0<= index < end 범위의 원소들을 선택.)\n",
        "* end가 생략되면 리스트의 마지막 원소까지 선택.(start <= index 범위의 모든 원소들을 선택.)\n",
        "* slicing의 결과는 새로운 list"
      ],
      "metadata": {
        "id": "2kvYSLw2vBfd"
      }
    },
    {
      "cell_type": "code",
      "source": [
        "numbers[:3] # 리스트에서 첫번째 원소부터 순서대로 3개를 선택"
      ],
      "metadata": {
        "colab": {
          "base_uri": "https://localhost:8080/"
        },
        "id": "rgZ-UyEgwZ-L",
        "outputId": "893dacd5-47ea-4c5b-f001-00d869fa605a"
      },
      "execution_count": null,
      "outputs": [
        {
          "output_type": "execute_result",
          "data": {
            "text/plain": [
              "[1, 20, 3]"
            ]
          },
          "metadata": {},
          "execution_count": 67
        }
      ]
    },
    {
      "cell_type": "code",
      "source": [
        "#리스트에서 끝에서 3개의 원소를 선택\n",
        "numbers[2:]"
      ],
      "metadata": {
        "colab": {
          "base_uri": "https://localhost:8080/"
        },
        "id": "0T_DGJsgu9-V",
        "outputId": "c88ee725-dbfc-4316-f206-bb8d225b18f2"
      },
      "execution_count": null,
      "outputs": [
        {
          "output_type": "execute_result",
          "data": {
            "text/plain": [
              "[3, 40, 7]"
            ]
          },
          "metadata": {},
          "execution_count": 68
        }
      ]
    },
    {
      "cell_type": "code",
      "source": [
        "numbers[-3:]"
      ],
      "metadata": {
        "colab": {
          "base_uri": "https://localhost:8080/"
        },
        "id": "lwk0Dd6Uwo8N",
        "outputId": "9a7ff0e2-06c7-467c-f54a-78c3c50a80fc"
      },
      "execution_count": null,
      "outputs": [
        {
          "output_type": "execute_result",
          "data": {
            "text/plain": [
              "[3, 40, 7]"
            ]
          },
          "metadata": {},
          "execution_count": 69
        }
      ]
    },
    {
      "cell_type": "code",
      "source": [
        "numbers[0] # > indexing의 결과: 값(int)"
      ],
      "metadata": {
        "colab": {
          "base_uri": "https://localhost:8080/"
        },
        "id": "kVaCu3oPxiDz",
        "outputId": "8bb7cd64-973d-48ca-ddd0-5e8d34c0090f"
      },
      "execution_count": null,
      "outputs": [
        {
          "output_type": "execute_result",
          "data": {
            "text/plain": [
              "1"
            ]
          },
          "metadata": {},
          "execution_count": 70
        }
      ]
    },
    {
      "cell_type": "code",
      "source": [
        "numbers[0:1] #> slicing의 결과: 원소가 1개인 list"
      ],
      "metadata": {
        "colab": {
          "base_uri": "https://localhost:8080/"
        },
        "id": "hLWES4TGytmq",
        "outputId": "4d38b020-32d3-4fa0-a14e-ca34932599cd"
      },
      "execution_count": null,
      "outputs": [
        {
          "output_type": "execute_result",
          "data": {
            "text/plain": [
              "[1]"
            ]
          },
          "metadata": {},
          "execution_count": 71
        }
      ]
    },
    {
      "cell_type": "markdown",
      "source": [
        "# 문자열(str)\n",
        "\n",
        "문자들의 리스트\n",
        "\n",
        "* 문자열 객체도 리스트 객체처럼 indexing과 slicing을 사용할 수 있다."
      ],
      "metadata": {
        "id": "coo8s3pD1-mK"
      }
    },
    {
      "cell_type": "code",
      "source": [
        "message = 'Hello, Python!' # 14개의 문자들을 원소로 갖는 문자열"
      ],
      "metadata": {
        "id": "zZQkzuhV2UeG"
      },
      "execution_count": null,
      "outputs": []
    },
    {
      "cell_type": "code",
      "source": [
        "message[0] # 문자열에서 첫번째 문자"
      ],
      "metadata": {
        "colab": {
          "base_uri": "https://localhost:8080/",
          "height": 35
        },
        "id": "JNL59Rx4y2LN",
        "outputId": "bd22375e-77e8-4f27-b1a9-7390a4d741c9"
      },
      "execution_count": null,
      "outputs": [
        {
          "output_type": "execute_result",
          "data": {
            "application/vnd.google.colaboratory.intrinsic+json": {
              "type": "string"
            },
            "text/plain": [
              "'H'"
            ]
          },
          "metadata": {},
          "execution_count": 73
        }
      ]
    },
    {
      "cell_type": "code",
      "source": [
        "message[13] # 문자열에서 가장 마지막 문자"
      ],
      "metadata": {
        "colab": {
          "base_uri": "https://localhost:8080/",
          "height": 35
        },
        "id": "NlzPil0y21fQ",
        "outputId": "50ea0c0f-48ce-485f-c762-27a8c232d29d"
      },
      "execution_count": null,
      "outputs": [
        {
          "output_type": "execute_result",
          "data": {
            "application/vnd.google.colaboratory.intrinsic+json": {
              "type": "string"
            },
            "text/plain": [
              "'!'"
            ]
          },
          "metadata": {},
          "execution_count": 74
        }
      ]
    },
    {
      "cell_type": "code",
      "source": [
        "message[-1]"
      ],
      "metadata": {
        "colab": {
          "base_uri": "https://localhost:8080/",
          "height": 35
        },
        "id": "SUBNPD8n27j_",
        "outputId": "d8f146fb-9da2-46e8-904e-e4f6ac2f61f5"
      },
      "execution_count": null,
      "outputs": [
        {
          "output_type": "execute_result",
          "data": {
            "application/vnd.google.colaboratory.intrinsic+json": {
              "type": "string"
            },
            "text/plain": [
              "'!'"
            ]
          },
          "metadata": {},
          "execution_count": 75
        }
      ]
    },
    {
      "cell_type": "code",
      "source": [
        "message[:3] # 문자열에서 첫 3글자"
      ],
      "metadata": {
        "colab": {
          "base_uri": "https://localhost:8080/",
          "height": 35
        },
        "id": "WLXtNqAx29aa",
        "outputId": "a90df9fe-d76f-48fd-c871-47d741c718b9"
      },
      "execution_count": null,
      "outputs": [
        {
          "output_type": "execute_result",
          "data": {
            "application/vnd.google.colaboratory.intrinsic+json": {
              "type": "string"
            },
            "text/plain": [
              "'Hel'"
            ]
          },
          "metadata": {},
          "execution_count": 76
        }
      ]
    },
    {
      "cell_type": "code",
      "source": [
        "message[-3:] # 문자열에서 마지막 3글자"
      ],
      "metadata": {
        "colab": {
          "base_uri": "https://localhost:8080/",
          "height": 35
        },
        "id": "x_2SYXPi3ICO",
        "outputId": "de30fb26-89b3-4dc3-8374-b28fd49b9ff5"
      },
      "execution_count": null,
      "outputs": [
        {
          "output_type": "execute_result",
          "data": {
            "application/vnd.google.colaboratory.intrinsic+json": {
              "type": "string"
            },
            "text/plain": [
              "'on!'"
            ]
          },
          "metadata": {},
          "execution_count": 77
        }
      ]
    },
    {
      "cell_type": "markdown",
      "source": [
        "# list의 산술 연산\n",
        "\n",
        "* `+`: concatenate. 두 개의 리스트를 하나의 리스트로 합침.\n",
        "* `*`: replicate. 리스트의 원소들을 곱해주는 숫자만큼 복사해서 원소의 개수를 늘림."
      ],
      "metadata": {
        "id": "zqJjSgWd3vEM"
      }
    },
    {
      "cell_type": "code",
      "source": [
        "'Hello' + 'Python'"
      ],
      "metadata": {
        "colab": {
          "base_uri": "https://localhost:8080/",
          "height": 35
        },
        "id": "SAFwupUb3OII",
        "outputId": "d318bc19-f56c-4b1c-e301-1b1002d992ee"
      },
      "execution_count": null,
      "outputs": [
        {
          "output_type": "execute_result",
          "data": {
            "application/vnd.google.colaboratory.intrinsic+json": {
              "type": "string"
            },
            "text/plain": [
              "'HelloPython'"
            ]
          },
          "metadata": {},
          "execution_count": 78
        }
      ]
    },
    {
      "cell_type": "code",
      "source": [
        "[1, 2, 3] + [10, 20, 30]"
      ],
      "metadata": {
        "colab": {
          "base_uri": "https://localhost:8080/"
        },
        "id": "zuvMM5VM4AtE",
        "outputId": "185813c5-7ef4-428f-98ec-35f90d915e61"
      },
      "execution_count": null,
      "outputs": [
        {
          "output_type": "execute_result",
          "data": {
            "text/plain": [
              "[1, 2, 3, 10, 20, 30]"
            ]
          },
          "metadata": {},
          "execution_count": 79
        }
      ]
    },
    {
      "cell_type": "code",
      "source": [
        "'Hello' * 3"
      ],
      "metadata": {
        "colab": {
          "base_uri": "https://localhost:8080/",
          "height": 35
        },
        "id": "r0bYlOsF4Ig4",
        "outputId": "b9ef33cd-32a3-43b5-822e-f4369c016110"
      },
      "execution_count": null,
      "outputs": [
        {
          "output_type": "execute_result",
          "data": {
            "application/vnd.google.colaboratory.intrinsic+json": {
              "type": "string"
            },
            "text/plain": [
              "'HelloHelloHello'"
            ]
          },
          "metadata": {},
          "execution_count": 80
        }
      ]
    },
    {
      "cell_type": "code",
      "source": [
        "[1,2,3] * 3"
      ],
      "metadata": {
        "colab": {
          "base_uri": "https://localhost:8080/"
        },
        "id": "utjVW8Oe4Y_9",
        "outputId": "378eb3cd-3625-46dc-c10b-4976087a70cb"
      },
      "execution_count": null,
      "outputs": [
        {
          "output_type": "execute_result",
          "data": {
            "text/plain": [
              "[1, 2, 3, 1, 2, 3, 1, 2, 3]"
            ]
          },
          "metadata": {},
          "execution_count": 81
        }
      ]
    },
    {
      "cell_type": "markdown",
      "source": [
        "#list의 기능들(메서드)"
      ],
      "metadata": {
        "id": "IYNRJM8V4860"
      }
    },
    {
      "cell_type": "code",
      "source": [
        ""
      ],
      "metadata": {
        "id": "EorrGl-44ad5"
      },
      "execution_count": null,
      "outputs": []
    },
    {
      "cell_type": "markdown",
      "source": [
        "## element추가"
      ],
      "metadata": {
        "id": "XDXQZHxn4_-K"
      }
    },
    {
      "cell_type": "markdown",
      "source": [
        "```list.append(arg)```\n",
        "\n",
        "리스트의 가장 마지막에 새로운 원소(arg)를 추가"
      ],
      "metadata": {
        "id": "TzTRkf5x5Eqp"
      }
    },
    {
      "cell_type": "code",
      "source": [
        "numbers.append(100)"
      ],
      "metadata": {
        "id": "XkwBloaw5Dt_"
      },
      "execution_count": null,
      "outputs": []
    },
    {
      "cell_type": "code",
      "source": [
        "numbers"
      ],
      "metadata": {
        "colab": {
          "base_uri": "https://localhost:8080/"
        },
        "id": "xMalSmK_5Zy0",
        "outputId": "43d3f752-d8aa-4a58-e06f-79386a1b95a2"
      },
      "execution_count": null,
      "outputs": [
        {
          "output_type": "execute_result",
          "data": {
            "text/plain": [
              "[1, 20, 3, 40, 7, 100]"
            ]
          },
          "metadata": {},
          "execution_count": 83
        }
      ]
    },
    {
      "cell_type": "markdown",
      "source": [
        "`list.insert(index, value)` \n",
        "\n",
        "list의 index위치에 value를 추가(삽입)"
      ],
      "metadata": {
        "id": "ldzgDJXd5pNh"
      }
    },
    {
      "cell_type": "code",
      "source": [
        "numbers.insert(1, 100)"
      ],
      "metadata": {
        "id": "4qxSVv2X5a4t"
      },
      "execution_count": null,
      "outputs": []
    },
    {
      "cell_type": "code",
      "source": [
        "numbers"
      ],
      "metadata": {
        "colab": {
          "base_uri": "https://localhost:8080/"
        },
        "id": "422zT_wf5_6d",
        "outputId": "27a83b29-6fe7-4ae1-b99d-c4324bed91a3"
      },
      "execution_count": null,
      "outputs": [
        {
          "output_type": "execute_result",
          "data": {
            "text/plain": [
              "[1, 100, 20, 3, 40, 7, 100]"
            ]
          },
          "metadata": {},
          "execution_count": 85
        }
      ]
    },
    {
      "cell_type": "markdown",
      "source": [
        "`list.extend(iterable)`\n",
        "\n",
        "리스트 이어 붙이기(concatenate). `+`연산과 동일한 기능."
      ],
      "metadata": {
        "id": "j3ryb21a6VW-"
      }
    },
    {
      "cell_type": "code",
      "source": [
        "numbers.extend([2,4,6]) # numbers + [2,4,6]"
      ],
      "metadata": {
        "id": "2Zbvcy-u6-py"
      },
      "execution_count": null,
      "outputs": []
    },
    {
      "cell_type": "code",
      "source": [
        "numbers"
      ],
      "metadata": {
        "colab": {
          "base_uri": "https://localhost:8080/"
        },
        "id": "JdHmDrsE7EwJ",
        "outputId": "1e9f3974-d469-4c16-a897-615ddafae5c2"
      },
      "execution_count": null,
      "outputs": [
        {
          "output_type": "execute_result",
          "data": {
            "text/plain": [
              "[1, 100, 20, 3, 40, 7, 100, 2, 4, 6]"
            ]
          },
          "metadata": {},
          "execution_count": 87
        }
      ]
    },
    {
      "cell_type": "code",
      "source": [
        "# 주의!!!\n",
        "numbers.append([1,3,5]) #> 리스트의 가장 마지막에 다른 리스트가 원소로 추가."
      ],
      "metadata": {
        "id": "LoTQFjcQ7FhQ"
      },
      "execution_count": null,
      "outputs": []
    },
    {
      "cell_type": "code",
      "source": [
        "numbers"
      ],
      "metadata": {
        "colab": {
          "base_uri": "https://localhost:8080/"
        },
        "id": "ACyKNUgK7JMj",
        "outputId": "2a50d655-20fc-4027-d126-0f02d1dca7ec"
      },
      "execution_count": null,
      "outputs": [
        {
          "output_type": "execute_result",
          "data": {
            "text/plain": [
              "[1, 100, 20, 3, 40, 7, 100, 2, 4, 6, [1, 3, 5]]"
            ]
          },
          "metadata": {},
          "execution_count": 89
        }
      ]
    },
    {
      "cell_type": "markdown",
      "source": [
        "## element 삭제"
      ],
      "metadata": {
        "id": "Xe32eWYVM-W5"
      }
    },
    {
      "cell_type": "markdown",
      "source": [
        "`list.remove(value)`\n",
        "\n",
        "list에서 처음 등장하는 value 한 개를 삭제."
      ],
      "metadata": {
        "id": "9ji4xjNUNGOl"
      }
    },
    {
      "cell_type": "code",
      "source": [
        "numbers.remove(100)"
      ],
      "metadata": {
        "id": "jQYIXlTtNb0m"
      },
      "execution_count": null,
      "outputs": []
    },
    {
      "cell_type": "code",
      "source": [
        "numbers"
      ],
      "metadata": {
        "colab": {
          "base_uri": "https://localhost:8080/"
        },
        "id": "KaNNQETY7KVb",
        "outputId": "2520e6c6-2251-418c-b7e7-9c64ece0bc40"
      },
      "execution_count": null,
      "outputs": [
        {
          "output_type": "execute_result",
          "data": {
            "text/plain": [
              "[1, 20, 3, 40, 7, 100, 2, 4, 6, [1, 3, 5]]"
            ]
          },
          "metadata": {},
          "execution_count": 91
        }
      ]
    },
    {
      "cell_type": "markdown",
      "source": [
        "`list.pop(index)`\n",
        "\n",
        "list에서 index 위치에 있는 값을 리턴하고 삭제. index를 전달하지 않으면, list에서 *가장 마지막 원소*를 삭제"
      ],
      "metadata": {
        "id": "reUuMv9iNwUp"
      }
    },
    {
      "cell_type": "code",
      "source": [
        "numbers.pop(0)"
      ],
      "metadata": {
        "colab": {
          "base_uri": "https://localhost:8080/"
        },
        "id": "F1myAl1cNh7C",
        "outputId": "e61417ca-ca4a-40fb-eadd-2a34a056d894"
      },
      "execution_count": null,
      "outputs": [
        {
          "output_type": "execute_result",
          "data": {
            "text/plain": [
              "1"
            ]
          },
          "metadata": {},
          "execution_count": 92
        }
      ]
    },
    {
      "cell_type": "code",
      "source": [
        "numbers"
      ],
      "metadata": {
        "colab": {
          "base_uri": "https://localhost:8080/"
        },
        "id": "ZLSDcOqHOSEc",
        "outputId": "25a504db-e79b-4867-959c-792f94746af9"
      },
      "execution_count": null,
      "outputs": [
        {
          "output_type": "execute_result",
          "data": {
            "text/plain": [
              "[20, 3, 40, 7, 100, 2, 4, 6, [1, 3, 5]]"
            ]
          },
          "metadata": {},
          "execution_count": 93
        }
      ]
    },
    {
      "cell_type": "code",
      "source": [
        "numbers.pop()"
      ],
      "metadata": {
        "colab": {
          "base_uri": "https://localhost:8080/"
        },
        "id": "pAac_926OTll",
        "outputId": "593bdd4f-002f-4998-8998-5ded40576590"
      },
      "execution_count": null,
      "outputs": [
        {
          "output_type": "execute_result",
          "data": {
            "text/plain": [
              "[1, 3, 5]"
            ]
          },
          "metadata": {},
          "execution_count": 94
        }
      ]
    },
    {
      "cell_type": "code",
      "source": [
        "numbers"
      ],
      "metadata": {
        "colab": {
          "base_uri": "https://localhost:8080/"
        },
        "id": "eyHUYJv-Os0H",
        "outputId": "a12d51d1-b6a8-452a-ec71-5e4a073df80e"
      },
      "execution_count": null,
      "outputs": [
        {
          "output_type": "execute_result",
          "data": {
            "text/plain": [
              "[20, 3, 40, 7, 100, 2, 4, 6]"
            ]
          },
          "metadata": {},
          "execution_count": 95
        }
      ]
    },
    {
      "cell_type": "markdown",
      "source": [
        "`list.clear()`\n",
        "list의 모든 원소들을 삭제."
      ],
      "metadata": {
        "id": "Sl__WgXrPARi"
      }
    },
    {
      "cell_type": "code",
      "source": [
        "numbers.clear()"
      ],
      "metadata": {
        "id": "LorHURqQPEd0"
      },
      "execution_count": null,
      "outputs": []
    },
    {
      "cell_type": "code",
      "source": [
        "numbers#> empty list(빈 리스트)"
      ],
      "metadata": {
        "colab": {
          "base_uri": "https://localhost:8080/"
        },
        "id": "nZwAkpk6PF7w",
        "outputId": "048e6932-943e-4875-c668-01ec96f4b5ff"
      },
      "execution_count": null,
      "outputs": [
        {
          "output_type": "execute_result",
          "data": {
            "text/plain": [
              "[]"
            ]
          },
          "metadata": {},
          "execution_count": 97
        }
      ]
    },
    {
      "cell_type": "markdown",
      "source": [
        "## list의 값 수정\n",
        "\n",
        "```\n",
        "list[index] = value\n",
        "```"
      ],
      "metadata": {
        "id": "47ciZv-rPmaU"
      }
    },
    {
      "cell_type": "code",
      "source": [
        "numbers = [1, 3, 5, 7]\n",
        "numbers"
      ],
      "metadata": {
        "colab": {
          "base_uri": "https://localhost:8080/"
        },
        "id": "zdeF99ykPuFk",
        "outputId": "8c115d08-f859-4403-e079-7a358edac31a"
      },
      "execution_count": null,
      "outputs": [
        {
          "output_type": "execute_result",
          "data": {
            "text/plain": [
              "[1, 3, 5, 7]"
            ]
          },
          "metadata": {},
          "execution_count": 98
        }
      ]
    },
    {
      "cell_type": "code",
      "source": [
        "numbers[1] = 100 # 인덱스 1 위치의 값(3)을 100으로 변경"
      ],
      "metadata": {
        "id": "4IrlL1ksPwVH"
      },
      "execution_count": null,
      "outputs": []
    },
    {
      "cell_type": "code",
      "source": [
        "numbers"
      ],
      "metadata": {
        "colab": {
          "base_uri": "https://localhost:8080/"
        },
        "id": "2ASFBaQ0QADf",
        "outputId": "ae97e8e4-2848-4c1b-9c0f-0d4794a0c8be"
      },
      "execution_count": null,
      "outputs": [
        {
          "output_type": "execute_result",
          "data": {
            "text/plain": [
              "[1, 100, 5, 7]"
            ]
          },
          "metadata": {},
          "execution_count": 100
        }
      ]
    },
    {
      "cell_type": "markdown",
      "source": [
        "## list와 for 반복문"
      ],
      "metadata": {
        "id": "r-9hgBNeQLLx"
      }
    },
    {
      "cell_type": "code",
      "source": [
        "for x in 'hello':\n",
        "  print(x)"
      ],
      "metadata": {
        "colab": {
          "base_uri": "https://localhost:8080/"
        },
        "id": "AJ9yTxbgQEso",
        "outputId": "36216a8c-ceb5-46d5-d988-c03a9e53f9d3"
      },
      "execution_count": null,
      "outputs": [
        {
          "output_type": "stream",
          "name": "stdout",
          "text": [
            "h\n",
            "e\n",
            "l\n",
            "l\n",
            "o\n"
          ]
        }
      ]
    },
    {
      "cell_type": "code",
      "source": [
        "for x in numbers:\n",
        "  print(x)"
      ],
      "metadata": {
        "colab": {
          "base_uri": "https://localhost:8080/"
        },
        "id": "UHF-ZViSQbVK",
        "outputId": "168bf9e5-74aa-44eb-c12d-9c7d035a9a07"
      },
      "execution_count": null,
      "outputs": [
        {
          "output_type": "stream",
          "name": "stdout",
          "text": [
            "1\n",
            "100\n",
            "5\n",
            "7\n"
          ]
        }
      ]
    },
    {
      "cell_type": "markdown",
      "source": [
        "리스트에서 인덱스와 그 인덱스의 원소가 모두 필요한 경우"
      ],
      "metadata": {
        "id": "J22E5oWBRTuy"
      }
    },
    {
      "cell_type": "code",
      "source": [
        "len(numbers) # 리스트 numbers의 원소의 개수를 리턴."
      ],
      "metadata": {
        "colab": {
          "base_uri": "https://localhost:8080/"
        },
        "id": "kDS8EvjjQqsQ",
        "outputId": "95421653-5e8f-42dd-b378-0494adc742be"
      },
      "execution_count": null,
      "outputs": [
        {
          "output_type": "execute_result",
          "data": {
            "text/plain": [
              "4"
            ]
          },
          "metadata": {},
          "execution_count": 103
        }
      ]
    },
    {
      "cell_type": "code",
      "source": [
        "for i in range(len(numbers)):\n",
        "  print(i, ' : ', numbers[i])"
      ],
      "metadata": {
        "colab": {
          "base_uri": "https://localhost:8080/"
        },
        "id": "8vM92QqMRldQ",
        "outputId": "0b1a2a5f-5ef2-4011-a465-a5adebc152a3"
      },
      "execution_count": null,
      "outputs": [
        {
          "output_type": "stream",
          "name": "stdout",
          "text": [
            "0  :  1\n",
            "1  :  100\n",
            "2  :  5\n",
            "3  :  7\n"
          ]
        }
      ]
    },
    {
      "cell_type": "code",
      "source": [
        "# list에서 리스트의 인덱스와 그 인덱스 위치의 값을 동시에 반복(iteration)\n",
        "for index, value in enumerate(numbers):\n",
        "  print(index, ':', value)"
      ],
      "metadata": {
        "colab": {
          "base_uri": "https://localhost:8080/"
        },
        "id": "rOrS0NdASffN",
        "outputId": "3bb19a58-2c6d-48b2-9e84-ef5eadc5070b"
      },
      "execution_count": null,
      "outputs": [
        {
          "output_type": "stream",
          "name": "stdout",
          "text": [
            "0 : 1\n",
            "1 : 100\n",
            "2 : 5\n",
            "3 : 7\n"
          ]
        }
      ]
    },
    {
      "cell_type": "markdown",
      "source": [
        "# Exercises"
      ],
      "metadata": {
        "id": "UIDQ-BMXUztZ"
      }
    },
    {
      "cell_type": "markdown",
      "source": [
        "Pythond에서 난수(random number) 생성 : `radom` 모듈을 import하고, `random` 모듈에 있는 함수들을 사용.\n",
        "\n"
      ],
      "metadata": {
        "id": "u-mZUoXVVgvp"
      }
    },
    {
      "cell_type": "code",
      "source": [
        "import random #random 모듈 임포트(사용)"
      ],
      "metadata": {
        "id": "cCISl_rQVkrM"
      },
      "execution_count": null,
      "outputs": []
    },
    {
      "cell_type": "code",
      "source": [
        "random.random() # o<=x <1 범위의 실수(float) 난수를 리턴."
      ],
      "metadata": {
        "colab": {
          "base_uri": "https://localhost:8080/"
        },
        "id": "0MHQpHV-V8ow",
        "outputId": "15892f51-db83-42d9-a458-58a6ae91e01e"
      },
      "execution_count": null,
      "outputs": [
        {
          "output_type": "execute_result",
          "data": {
            "text/plain": [
              "0.8935622923435224"
            ]
          },
          "metadata": {},
          "execution_count": 107
        }
      ]
    },
    {
      "cell_type": "code",
      "source": [
        "random.randrange(1,5) # 1<= x < 5 범위의 정수(int) 난수를 리턴."
      ],
      "metadata": {
        "colab": {
          "base_uri": "https://localhost:8080/"
        },
        "id": "Ltmb5S3kWhVe",
        "outputId": "9c837196-1c30-4bb2-9709-c68e869575c6"
      },
      "execution_count": null,
      "outputs": [
        {
          "output_type": "execute_result",
          "data": {
            "text/plain": [
              "4"
            ]
          },
          "metadata": {},
          "execution_count": 108
        }
      ]
    },
    {
      "cell_type": "code",
      "source": [
        "random.randrange(5) # 1<= x < 5 범위의 정수(int) 난수를 리턴"
      ],
      "metadata": {
        "id": "3w4ZXaE9Xbvo",
        "colab": {
          "base_uri": "https://localhost:8080/"
        },
        "outputId": "0d77b6be-7d2b-46bd-d058-47749b077d55"
      },
      "execution_count": null,
      "outputs": [
        {
          "output_type": "execute_result",
          "data": {
            "text/plain": [
              "2"
            ]
          },
          "metadata": {},
          "execution_count": 109
        }
      ]
    },
    {
      "cell_type": "code",
      "source": [
        "random.randint(1,5) # 1<= x <= 5 범위의 정수(int) 난수를 리턴."
      ],
      "metadata": {
        "id": "2MYkJ7eSYHFD",
        "colab": {
          "base_uri": "https://localhost:8080/"
        },
        "outputId": "b0eb12f6-7fbe-4a80-a8c4-d19bc3ec4006"
      },
      "execution_count": null,
      "outputs": [
        {
          "output_type": "execute_result",
          "data": {
            "text/plain": [
              "4"
            ]
          },
          "metadata": {},
          "execution_count": 110
        }
      ]
    },
    {
      "cell_type": "markdown",
      "source": [
        "## Ex 1\n",
        "\n",
        "1. 빈 리스트를 생성.\n",
        "2. 1 이상 10 이하의 정수 난수 5개를 저장.\n",
        "3. 리스트에 저장된 모든 정수들의 합을 계산, 출력.\n",
        "4. 리스트에 저장된 모든 정수들의 평균을 계산, 출력."
      ],
      "metadata": {
        "id": "7vVGMUifU4Ag"
      }
    },
    {
      "cell_type": "code",
      "source": [
        "listNumber = []\n",
        "avg = 0\n",
        "for _ in range(5):\n",
        "  listNumber.append(random.randrange(1, 11))\n",
        "avg = sum(listNumber) / len(listNumber)\n",
        "print('평균', avg)"
      ],
      "metadata": {
        "colab": {
          "base_uri": "https://localhost:8080/"
        },
        "id": "uxGLx7XcVRNh",
        "outputId": "60b9bb1d-cbf9-44ff-c8b2-d286261d1945"
      },
      "execution_count": null,
      "outputs": [
        {
          "output_type": "stream",
          "name": "stdout",
          "text": [
            "평균 4.6\n"
          ]
        }
      ]
    },
    {
      "cell_type": "code",
      "source": [
        "sum(numbers) # sum(iterable): iterable 타입 객체의 모든 원소들의 합을 리턴"
      ],
      "metadata": {
        "id": "LZ20qVCwe9Xx",
        "colab": {
          "base_uri": "https://localhost:8080/"
        },
        "outputId": "eb9c7a3f-8fec-4950-c291-00606d4c4068"
      },
      "execution_count": null,
      "outputs": [
        {
          "output_type": "execute_result",
          "data": {
            "text/plain": [
              "113"
            ]
          },
          "metadata": {},
          "execution_count": 112
        }
      ]
    },
    {
      "cell_type": "code",
      "source": [
        "total = 0\n",
        "for x in numbers:\n",
        "  total += x\n",
        "total\n",
        "total / len(numbers)"
      ],
      "metadata": {
        "colab": {
          "base_uri": "https://localhost:8080/"
        },
        "id": "4qoQ-jzifFSl",
        "outputId": "10beef90-2cb4-48e8-ca88-197241868ac8"
      },
      "execution_count": null,
      "outputs": [
        {
          "output_type": "execute_result",
          "data": {
            "text/plain": [
              "28.25"
            ]
          },
          "metadata": {},
          "execution_count": 113
        }
      ]
    },
    {
      "cell_type": "markdown",
      "source": [
        "## Ex 2.\n",
        "1. 빈 리스트(numbers) 생성\n",
        "2. [10, 100) 범위의 난수 10개를 빈 리스트 numbers에 저장\n",
        "3. numbers에서 짝수들만 선택해서 evens 리스트에 저장.\n",
        "4. numbers에서 홀수들만 선택해서 odds 리스트에 저장."
      ],
      "metadata": {
        "id": "iXKrzbzwg0y6"
      }
    },
    {
      "cell_type": "code",
      "source": [
        "numbers = []\n",
        "evens = []\n",
        "odds = []\n",
        "for i in range(10): # 10번 반복하면서\n",
        "  numbers.append(random.randrange(10,100)) # 10이상 100미만의 난수를 리스트에 추가\n",
        "  if numbers[i] % 2:\n",
        "    odds.append(numbers[i])\n",
        "  else:\n",
        "    evens.append(numbers[i])\n",
        "print('전체', numbers, '홀수', odds, '짝수', evens)"
      ],
      "metadata": {
        "colab": {
          "base_uri": "https://localhost:8080/"
        },
        "id": "o_Oto6i1g0AM",
        "outputId": "c49c30db-a22e-48db-f791-cd366fae7a43"
      },
      "execution_count": null,
      "outputs": [
        {
          "output_type": "stream",
          "name": "stdout",
          "text": [
            "전체 [40, 78, 63, 72, 79, 63, 82, 26, 88, 47] 홀수 [63, 79, 63, 47] 짝수 [40, 78, 72, 82, 26, 88]\n"
          ]
        }
      ]
    },
    {
      "cell_type": "markdown",
      "source": [
        "## Ex 3.\n",
        "1. 빈 리스트(numbers)를 생성.\n",
        "2. [-10, 10]범위의 난수 10개를 numbers에 저장.\n",
        "3. numbers의 원소가 양수이면, True, 그렇지 않으면 False를 저장하는 리스트 is_positives를 만들고 출력."
      ],
      "metadata": {
        "id": "rmp9pcYBqNgj"
      }
    },
    {
      "cell_type": "code",
      "source": [
        "numbers = []\n",
        "is_positives = []\n",
        "\n",
        "for i in range(10):\n",
        "  numbers.append(random.randrange(-10,11))\n",
        "  if numbers[i] >= 0:\n",
        "    is_positives.append(True)\n",
        "  else:\n",
        "    is_positives.append(False)\n",
        "print(numbers, is_positives)"
      ],
      "metadata": {
        "id": "-ddBPVnmqxQk",
        "colab": {
          "base_uri": "https://localhost:8080/"
        },
        "outputId": "1eeaa450-f761-4ee3-d509-bb33f9fd2f77"
      },
      "execution_count": null,
      "outputs": [
        {
          "output_type": "stream",
          "name": "stdout",
          "text": [
            "[0, -4, 7, 9, -9, 5, -3, 10, -1, -5] [True, False, True, True, False, True, False, True, False, False]\n"
          ]
        }
      ]
    },
    {
      "cell_type": "markdown",
      "source": [
        "## Ex 4.\n",
        "1. 빈 리스트 gender_codes를 생성.\n",
        "2. gender_codes에 0 또는 1을 랜덤하게 10번 저장.\n",
        "3. gender_codes의 값이 0이면 'Male', 1이면 'Female'을 저장하는 리스트 genders를 만들고 출력."
      ],
      "metadata": {
        "id": "fanYmk1AqeEs"
      }
    },
    {
      "cell_type": "code",
      "source": [
        "gender_codes = []\n",
        "genders = []\n",
        "for i in range(10):\n",
        "  gender_codes.append(random.randrange(0,2))\n",
        "  if gender_codes[i] == 1:\n",
        "    genders.append('Female')\n",
        "  else:\n",
        "    genders.append('Male')\n",
        "print(gender_codes, genders)"
      ],
      "metadata": {
        "id": "CNk6kjRwrloO",
        "colab": {
          "base_uri": "https://localhost:8080/"
        },
        "outputId": "cd38bf49-bf02-4bfa-f859-6a7d5567ec64"
      },
      "execution_count": null,
      "outputs": [
        {
          "output_type": "stream",
          "name": "stdout",
          "text": [
            "[1, 0, 0, 0, 1, 0, 1, 1, 0, 0] ['Female', 'Male', 'Male', 'Male', 'Female', 'Male', 'Female', 'Female', 'Male', 'Male']\n"
          ]
        }
      ]
    },
    {
      "cell_type": "markdown",
      "source": [
        "# List Comprehension(리스트 내포)\n"
      ],
      "metadata": {
        "id": "2VqBBto8wEbW"
      }
    },
    {
      "cell_type": "markdown",
      "source": [
        "1 ~ 10까지 정수를 차례로 저장하고 있는 리스트:`[1, 2, 3, ... , 9, 10]"
      ],
      "metadata": {
        "id": "LebwC2Qewgvq"
      }
    },
    {
      "cell_type": "code",
      "source": [
        "numbers = []\n",
        "for x in range(1, 11):\n",
        "  numbers.append(x)\n",
        "numbers"
      ],
      "metadata": {
        "colab": {
          "base_uri": "https://localhost:8080/"
        },
        "id": "Lis9mtCYwPKE",
        "outputId": "fea1c727-217a-4b58-d738-f74c981e543b"
      },
      "execution_count": null,
      "outputs": [
        {
          "output_type": "execute_result",
          "data": {
            "text/plain": [
              "[1, 2, 3, 4, 5, 6, 7, 8, 9, 10]"
            ]
          },
          "metadata": {},
          "execution_count": 117
        }
      ]
    },
    {
      "cell_type": "code",
      "source": [
        "numbers = [x for x in range(1,11)]\n",
        "numbers"
      ],
      "metadata": {
        "colab": {
          "base_uri": "https://localhost:8080/"
        },
        "id": "03UWoz5sw_c6",
        "outputId": "28146c45-d4fb-4be1-f9bc-33ad477be78e"
      },
      "execution_count": null,
      "outputs": [
        {
          "output_type": "execute_result",
          "data": {
            "text/plain": [
              "[1, 2, 3, 4, 5, 6, 7, 8, 9, 10]"
            ]
          },
          "metadata": {},
          "execution_count": 118
        }
      ]
    },
    {
      "cell_type": "markdown",
      "source": [
        "1부터 10까지 정수들의 제곱을 저장하는 리스트: `[1, 4, 9 16, 25, ... , 81, 100]`"
      ],
      "metadata": {
        "id": "42DPVLm3xvzO"
      }
    },
    {
      "cell_type": "code",
      "source": [
        "numbers = [x **2 for x in range(1,11)]\n",
        "numbers"
      ],
      "metadata": {
        "colab": {
          "base_uri": "https://localhost:8080/"
        },
        "id": "jCBHbsvcx7Vy",
        "outputId": "bae95074-781d-48d4-fcd8-44ba7639ecbd"
      },
      "execution_count": null,
      "outputs": [
        {
          "output_type": "execute_result",
          "data": {
            "text/plain": [
              "[1, 4, 9, 16, 25, 36, 49, 64, 81, 100]"
            ]
          },
          "metadata": {},
          "execution_count": 119
        }
      ]
    },
    {
      "cell_type": "markdown",
      "source": [
        "0 이상 10 이하의 짝수들을 저장하는 리스트: `[0, 2, 4, 6, 8, 10]`"
      ],
      "metadata": {
        "id": "f_DuJAPPzcg3"
      }
    },
    {
      "cell_type": "code",
      "source": [
        "[x for x in range(0,11, 2)]"
      ],
      "metadata": {
        "colab": {
          "base_uri": "https://localhost:8080/"
        },
        "id": "HHIUbD4xzjnv",
        "outputId": "cbcc9977-7089-42bf-b4e5-74faf22474d5"
      },
      "execution_count": null,
      "outputs": [
        {
          "output_type": "execute_result",
          "data": {
            "text/plain": [
              "[0, 2, 4, 6, 8, 10]"
            ]
          },
          "metadata": {},
          "execution_count": 120
        }
      ]
    },
    {
      "cell_type": "markdown",
      "source": [
        "0 이상 10 이하의 홀수들을 저장하는 리스트 : `[1, 3, 5, 7, 9]`"
      ],
      "metadata": {
        "id": "Fv_XGkA00Os3"
      }
    },
    {
      "cell_type": "code",
      "source": [
        "[x for x in range(1, 10, 2)]"
      ],
      "metadata": {
        "colab": {
          "base_uri": "https://localhost:8080/"
        },
        "id": "5qmogzmL0U9l",
        "outputId": "b875abb8-222c-440f-839d-5f8a72d9e7d1"
      },
      "execution_count": null,
      "outputs": [
        {
          "output_type": "execute_result",
          "data": {
            "text/plain": [
              "[1, 3, 5, 7, 9]"
            ]
          },
          "metadata": {},
          "execution_count": 121
        }
      ]
    },
    {
      "cell_type": "code",
      "source": [
        "# 10 이상 100 미만의 정수 10개를 저장하는 리스트\n",
        "numbers = [random.randrange(10,100) for _ in range(10)]\n",
        "numbers"
      ],
      "metadata": {
        "colab": {
          "base_uri": "https://localhost:8080/"
        },
        "id": "7EXa8OqH4QD2",
        "outputId": "36204f0b-d120-41c8-a809-71968bb1add6"
      },
      "execution_count": null,
      "outputs": [
        {
          "output_type": "execute_result",
          "data": {
            "text/plain": [
              "[73, 23, 47, 56, 91, 95, 27, 95, 78, 46]"
            ]
          },
          "metadata": {},
          "execution_count": 122
        }
      ]
    },
    {
      "cell_type": "code",
      "source": [
        "# numbers에서 짝수들만 선택해서 저장한 리스트\n",
        "evens = [x for x in numbers if x%2 == 0]\n",
        "evens"
      ],
      "metadata": {
        "colab": {
          "base_uri": "https://localhost:8080/"
        },
        "id": "ymulEBqE5ZRX",
        "outputId": "228083c4-d287-4788-af6f-17aca1fb88be"
      },
      "execution_count": null,
      "outputs": [
        {
          "output_type": "execute_result",
          "data": {
            "text/plain": [
              "[56, 78, 46]"
            ]
          },
          "metadata": {},
          "execution_count": 123
        }
      ]
    },
    {
      "cell_type": "code",
      "source": [
        "# numbers에서 홀수들만 선택해서 저장한 리스트\n",
        "odds = [x for x in numbers if x%2]\n",
        "odds"
      ],
      "metadata": {
        "colab": {
          "base_uri": "https://localhost:8080/"
        },
        "id": "CaIVke8P6JR3",
        "outputId": "d6bf3072-78c1-4ad9-9124-d0958a04cb3e"
      },
      "execution_count": null,
      "outputs": [
        {
          "output_type": "execute_result",
          "data": {
            "text/plain": [
              "[73, 23, 47, 91, 95, 27, 95]"
            ]
          },
          "metadata": {},
          "execution_count": 124
        }
      ]
    },
    {
      "cell_type": "code",
      "source": [
        "# numbers의 숫자가 짝수이면 'even', 홀수이면'odd'를 저장하는 리스트\n",
        "is_even = ['even' if x % 2 == 0 else \n",
        "           'odd' for x in numbers]\n",
        "is_even"
      ],
      "metadata": {
        "colab": {
          "base_uri": "https://localhost:8080/"
        },
        "id": "c6oNrCbt6noL",
        "outputId": "4ce292fe-cfa2-4703-8383-683010b21c44"
      },
      "execution_count": null,
      "outputs": [
        {
          "output_type": "execute_result",
          "data": {
            "text/plain": [
              "['odd', 'odd', 'odd', 'even', 'odd', 'odd', 'odd', 'odd', 'even', 'even']"
            ]
          },
          "metadata": {},
          "execution_count": 125
        }
      ]
    },
    {
      "cell_type": "code",
      "source": [
        "x = 100\n",
        "is_positive = True if x > 0 else False # if-else 표현식 - Java의 삼항 연산자(if 조건 ? 값1 : 값2)\n",
        "is_positive"
      ],
      "metadata": {
        "colab": {
          "base_uri": "https://localhost:8080/"
        },
        "id": "kkyquC5T9HSY",
        "outputId": "0182d869-cbbf-4fc2-d801-04ec06182219"
      },
      "execution_count": null,
      "outputs": [
        {
          "output_type": "execute_result",
          "data": {
            "text/plain": [
              "True"
            ]
          },
          "metadata": {},
          "execution_count": 126
        }
      ]
    },
    {
      "cell_type": "code",
      "source": [
        "# -10 이상 10 이하의 정수 난수 10개를 저장하는 리스트\n",
        "numbers = [random.randrange(-10,11) for _ in range(10)]\n",
        "numbers"
      ],
      "metadata": {
        "colab": {
          "base_uri": "https://localhost:8080/"
        },
        "id": "UlS-WkCh-Wqc",
        "outputId": "3efc5ecd-1ba5-432d-be6f-0d7bda4045cd"
      },
      "execution_count": null,
      "outputs": [
        {
          "output_type": "execute_result",
          "data": {
            "text/plain": [
              "[5, 4, 9, -3, -9, 4, -8, -6, 3, -5]"
            ]
          },
          "metadata": {},
          "execution_count": 127
        }
      ]
    },
    {
      "cell_type": "code",
      "source": [
        "# numbers의 원소들 중에서 양수들만 저장하는 리스트\n",
        "positives = [x for x in numbers if x >= 0]\n",
        "positives"
      ],
      "metadata": {
        "colab": {
          "base_uri": "https://localhost:8080/"
        },
        "id": "kOGrnFlr-gI-",
        "outputId": "96b1e72a-a236-4583-c124-40e54f75fdca"
      },
      "execution_count": null,
      "outputs": [
        {
          "output_type": "execute_result",
          "data": {
            "text/plain": [
              "[5, 4, 9, 4, 3]"
            ]
          },
          "metadata": {},
          "execution_count": 128
        }
      ]
    },
    {
      "cell_type": "code",
      "source": [
        "# numbers의 원소들 중에서 양수가 아닌(음수 또는 0) 숫자들만 저장하는 리스트\n",
        "not_positives = [x for x in numbers if x < 0]\n",
        "not_positives"
      ],
      "metadata": {
        "colab": {
          "base_uri": "https://localhost:8080/"
        },
        "id": "pJ6-SfSY-oU3",
        "outputId": "954acc3c-6554-4bc1-a6bb-36d7c4442c37"
      },
      "execution_count": null,
      "outputs": [
        {
          "output_type": "execute_result",
          "data": {
            "text/plain": [
              "[-3, -9, -8, -6, -5]"
            ]
          },
          "metadata": {},
          "execution_count": 129
        }
      ]
    },
    {
      "cell_type": "code",
      "source": [
        "# numbers의 원소가 양수이면 True, 그렇지 않으면 False를 저장하는 리스트\n",
        "is_positives = [True if x >= 0 else False \n",
        "                for x in numbers]\n",
        "print(is_positives)"
      ],
      "metadata": {
        "colab": {
          "base_uri": "https://localhost:8080/"
        },
        "id": "A5M9FeKy-yDt",
        "outputId": "ee5faf9b-c38f-4cf3-c630-2c703a240c84"
      },
      "execution_count": null,
      "outputs": [
        {
          "output_type": "stream",
          "name": "stdout",
          "text": [
            "[True, True, True, False, False, True, False, False, True, False]\n"
          ]
        }
      ]
    },
    {
      "cell_type": "markdown",
      "source": [
        "## Ex 1.\n",
        "1. 0 또는 1을 랜덤하게 10개를 저장하는 리스트 gender_codes를 만들고 출력.\n",
        "2. gender_codes의 값이 0이면 'Male', 1이면 'Female'을 저장하는 리스트 genders를 만들고 출력"
      ],
      "metadata": {
        "id": "BIlG2EPPF3VP"
      }
    },
    {
      "cell_type": "code",
      "source": [
        "gender_codes = [random.randrange(0,2) for _ in range(10)]\n",
        "print(gender_codes)\n",
        "genders = ['Male' if x==0 else 'Female' for x in gender_codes]\n",
        "print(genders)"
      ],
      "metadata": {
        "colab": {
          "base_uri": "https://localhost:8080/"
        },
        "id": "c2S2Mt_cGGSY",
        "outputId": "18f7c33c-f5f4-43df-f1c7-847680ec072e"
      },
      "execution_count": null,
      "outputs": [
        {
          "output_type": "stream",
          "name": "stdout",
          "text": [
            "[0, 1, 1, 0, 0, 0, 1, 0, 0, 1]\n",
            "['Male', 'Female', 'Female', 'Male', 'Male', 'Male', 'Female', 'Male', 'Male', 'Female']\n"
          ]
        }
      ]
    },
    {
      "cell_type": "markdown",
      "source": [
        "## Ex 2.\n",
        "1. 0, 1, 2를 랜덤하게 10개 저장하는 리스트 gender_codes를 만들고 출력.\n",
        "2. gender_codes의 값이 0이면 'Male', 1이면 'Female', 2이면 'Unknown'을 저장하는 리스트 genders를 만들고 출력."
      ],
      "metadata": {
        "id": "ZPKbEGKJGGl_"
      }
    },
    {
      "cell_type": "code",
      "source": [
        "gender_codes = [random.randrange(0,3) for _ in range(10)]\n",
        "print(gender_codes)\n",
        "genders = ['Male' if x==0 else 'Female' if x==1 else 'Unknown' for x in gender_codes]\n",
        "print(genders)"
      ],
      "metadata": {
        "colab": {
          "base_uri": "https://localhost:8080/"
        },
        "id": "brIVYb__GG2L",
        "outputId": "05236773-57db-492f-98ee-bba16b742c3d"
      },
      "execution_count": null,
      "outputs": [
        {
          "output_type": "stream",
          "name": "stdout",
          "text": [
            "[1, 1, 2, 1, 2, 0, 2, 0, 2, 1]\n",
            "['Female', 'Female', 'Unknown', 'Female', 'Unknown', 'Male', 'Unknown', 'Male', 'Unknown', 'Female']\n"
          ]
        }
      ]
    },
    {
      "cell_type": "markdown",
      "source": [
        "## Ex 3.\n",
        "1. 0이상 10 미만의 정수 난수 10개를 저장하는 리스트 numbers1을 만들고 출력.\n",
        "2. 0이상 10 미만의 정수 난수 10개를 저장하는 리스트 numbers2을 만들고 출력.\n",
        "3. numbers1과 numbers2에서 같은 인덱스의 원소들끼리의 합을 저장하는 리스트 adds를 만들고 출력.\n",
        "4. numbers1과 numbers2에서 같은 인덱스의 원소들끼리의 곱을 저장하는 리스트 mutiplications를 만들고 출력.\n",
        "5. multiplications의 모든 원소들의 합을 계산하고 출력."
      ],
      "metadata": {
        "id": "NVwUHqt3GHKS"
      }
    },
    {
      "cell_type": "code",
      "source": [
        "number1 = [random.randrange(0,10) for x in range(10)]\n",
        "print('number1 : ', number1)\n",
        "\n",
        "number2 = [random.randrange(0,10) for x in range(10)]\n",
        "print('number2 : ', number2)\n",
        "\n",
        "adds = [number1[i] + number2[i] for i in range(10)]\n",
        "print('adds : ', adds)\n",
        "\n",
        "[x + y for x, y in zip(number1, number2)]\n",
        "\n",
        "multiplications = [number1[i]*number2[i] for i in range(10)]\n",
        "print('multiplications : ', multiplications)\n",
        "\n",
        "[x * y for x, y in zip(number1, number2)]\n",
        "\n",
        "sum = 0\n",
        "for x in multiplications:\n",
        "  sum += x\n",
        "print('multiplications의 합', sum)"
      ],
      "metadata": {
        "colab": {
          "base_uri": "https://localhost:8080/"
        },
        "id": "XHQsGspdG3XT",
        "outputId": "c1d27468-d9b3-475a-c53a-e81cc7d2c132"
      },
      "execution_count": null,
      "outputs": [
        {
          "output_type": "stream",
          "name": "stdout",
          "text": [
            "multiplications :  [9, 48, 32, 30, 18, 36, 56, 24, 24, 49]\n"
          ]
        }
      ]
    },
    {
      "cell_type": "markdown",
      "source": [
        "# 다차원 리스트"
      ],
      "metadata": {
        "id": "Ct2PNlNc8NHK"
      }
    },
    {
      "cell_type": "code",
      "source": [
        "matrix = [[1,2,3],\n",
        "          [4,5,6],\n",
        "          [7,8,9]]\n",
        "matrix"
      ],
      "metadata": {
        "colab": {
          "base_uri": "https://localhost:8080/"
        },
        "id": "IKFpEM2V7LkO",
        "outputId": "c0cfd107-4499-406a-ad6c-367944f5cec1"
      },
      "execution_count": null,
      "outputs": [
        {
          "output_type": "execute_result",
          "data": {
            "text/plain": [
              "[[1, 2, 3], [4, 5, 6], [7, 8, 9]]"
            ]
          },
          "metadata": {},
          "execution_count": 138
        }
      ]
    },
    {
      "cell_type": "markdown",
      "source": [
        "## 2차원 리스트의 indexing"
      ],
      "metadata": {
        "id": "Q74cZev58uuZ"
      }
    },
    {
      "cell_type": "code",
      "source": [
        "matrix[0] #> 1차원 리스트"
      ],
      "metadata": {
        "colab": {
          "base_uri": "https://localhost:8080/"
        },
        "id": "QBbgAAXI8sz_",
        "outputId": "e839ef41-d869-4108-db47-428fadb03f2f"
      },
      "execution_count": null,
      "outputs": [
        {
          "output_type": "execute_result",
          "data": {
            "text/plain": [
              "[1, 2, 3]"
            ]
          },
          "metadata": {},
          "execution_count": 140
        }
      ]
    },
    {
      "cell_type": "code",
      "source": [
        "matrix[0][0]"
      ],
      "metadata": {
        "colab": {
          "base_uri": "https://localhost:8080/"
        },
        "id": "USrx9EH_9CqA",
        "outputId": "bd658d19-67c5-403d-c94e-1a53b429d99b"
      },
      "execution_count": null,
      "outputs": [
        {
          "output_type": "execute_result",
          "data": {
            "text/plain": [
              "1"
            ]
          },
          "metadata": {},
          "execution_count": 141
        }
      ]
    },
    {
      "cell_type": "code",
      "source": [
        "matrix[1][2] #> 6"
      ],
      "metadata": {
        "colab": {
          "base_uri": "https://localhost:8080/"
        },
        "id": "UgC_l4ye9Gb3",
        "outputId": "14fa04e3-43b3-4d1a-e981-f694019ab4f6"
      },
      "execution_count": null,
      "outputs": [
        {
          "output_type": "execute_result",
          "data": {
            "text/plain": [
              "6"
            ]
          },
          "metadata": {},
          "execution_count": 142
        }
      ]
    },
    {
      "cell_type": "markdown",
      "source": [
        "## 2차원 리스트와 for반복문"
      ],
      "metadata": {
        "id": "uvztEMde9tht"
      }
    },
    {
      "cell_type": "code",
      "source": [
        "for row in matrix:\n",
        "  print(row)"
      ],
      "metadata": {
        "colab": {
          "base_uri": "https://localhost:8080/"
        },
        "id": "9P3Kl7C49ckV",
        "outputId": "16d80aab-e900-4c18-f1ce-fab1c6fe7e88"
      },
      "execution_count": null,
      "outputs": [
        {
          "output_type": "stream",
          "name": "stdout",
          "text": [
            "[1, 2, 3]\n",
            "[4, 5, 6]\n",
            "[7, 8, 9]\n"
          ]
        }
      ]
    },
    {
      "cell_type": "code",
      "source": [
        "for row in matrix:\n",
        "  for col in row:\n",
        "    print(col)"
      ],
      "metadata": {
        "colab": {
          "base_uri": "https://localhost:8080/"
        },
        "id": "zf8T8TcF90bY",
        "outputId": "ac6fe62e-a42b-4f9f-e27a-e9a7ccbbe408"
      },
      "execution_count": null,
      "outputs": [
        {
          "output_type": "stream",
          "name": "stdout",
          "text": [
            "1\n",
            "2\n",
            "3\n",
            "4\n",
            "5\n",
            "6\n",
            "7\n",
            "8\n",
            "9\n"
          ]
        }
      ]
    },
    {
      "cell_type": "code",
      "source": [
        "for row in matrix:\n",
        "  for x in row:\n",
        "    print(x, end=' ')\n",
        "  print() # 줄바꿈"
      ],
      "metadata": {
        "colab": {
          "base_uri": "https://localhost:8080/"
        },
        "id": "RIXwphfS-mq_",
        "outputId": "d5eee926-4b11-4b49-baf8-fbf337a8444e"
      },
      "execution_count": null,
      "outputs": [
        {
          "output_type": "stream",
          "name": "stdout",
          "text": [
            "1 2 3 \n",
            "4 5 6 \n",
            "7 8 9 \n"
          ]
        }
      ]
    },
    {
      "cell_type": "markdown",
      "source": [
        "## 2차원 리스트와 list comprehension"
      ],
      "metadata": {
        "id": "hKoJBXLaDYhd"
      }
    },
    {
      "cell_type": "code",
      "source": [
        "# 3x3 모양의 정수 난수 9개를 저장하는 2차원 리스트를 생성.\n",
        "matrix1 = [] # 빈 리스트 - 1차원 리스트들을 저장하기 위한 리스트.\n",
        "for _ in range(3):\n",
        "  row = [] # 빈 리스트 - 3개의 난수를 저장하기 위한 리스트.\n",
        "  for _ in range(3):\n",
        "    row.append(random.randrange(10))\n",
        "  matrix1.append(row)\n",
        "matrix1"
      ],
      "metadata": {
        "colab": {
          "base_uri": "https://localhost:8080/"
        },
        "id": "N1Cwxdik-91d",
        "outputId": "4cc784d9-73fb-43fe-b350-5a9509d2fe67"
      },
      "execution_count": null,
      "outputs": [
        {
          "output_type": "execute_result",
          "data": {
            "text/plain": [
              "[[4, 0, 5], [0, 0, 8], [3, 5, 4]]"
            ]
          },
          "metadata": {},
          "execution_count": 150
        }
      ]
    },
    {
      "cell_type": "code",
      "source": [
        "matrix2 = []\n",
        "for _ in range(3):\n",
        "  row = [random.randrange(10) for _ in range(3)]\n",
        "  matrix2.append(row)\n",
        "matrix2"
      ],
      "metadata": {
        "colab": {
          "base_uri": "https://localhost:8080/"
        },
        "id": "y403wpkhFoUx",
        "outputId": "e6fd338c-e23d-494b-913e-4aa81c83c3f2"
      },
      "execution_count": null,
      "outputs": [
        {
          "output_type": "execute_result",
          "data": {
            "text/plain": [
              "[[9, 7, 3], [8, 9, 5], [0, 2, 0]]"
            ]
          },
          "metadata": {},
          "execution_count": 152
        }
      ]
    },
    {
      "cell_type": "code",
      "source": [
        "matrix3 = [ [random.randrange(10) for _ in range(3)] \n",
        "           for _ in range(3)]\n",
        "\n",
        "matrix3"
      ],
      "metadata": {
        "colab": {
          "base_uri": "https://localhost:8080/"
        },
        "id": "fVfe-rJ3F59T",
        "outputId": "bb1d5b2e-2c76-4e63-82c9-0a100e4e4b8d"
      },
      "execution_count": null,
      "outputs": [
        {
          "output_type": "execute_result",
          "data": {
            "text/plain": [
              "[[0, 7, 2], [9, 4, 2], [0, 4, 4]]"
            ]
          },
          "metadata": {},
          "execution_count": 153
        }
      ]
    },
    {
      "cell_type": "code",
      "source": [
        "# matrix1, matrix2의 같은 인덱스에 있는 원소들끼리의 합을 원소로 갖는 리슽.\n",
        "[ [matrix1[i][j] + matrix2[i][j] \n",
        "   for j in range(3) ] \n",
        "           for i in range(3)]"
      ],
      "metadata": {
        "colab": {
          "base_uri": "https://localhost:8080/"
        },
        "id": "rL3e-faEHDds",
        "outputId": "18dd13b5-9d06-405e-ca73-10014f550a1e"
      },
      "execution_count": null,
      "outputs": [
        {
          "output_type": "execute_result",
          "data": {
            "text/plain": [
              "[[13, 7, 8], [8, 9, 13], [3, 7, 4]]"
            ]
          },
          "metadata": {},
          "execution_count": 156
        }
      ]
    },
    {
      "cell_type": "code",
      "source": [
        "adds = [] # 각원소들끼리의 합을 저장할 (2차원) 리스트\n",
        "for row1, row2 in zip(matrix1, matrix2):\n",
        "  temp = []\n",
        "  for x, y in zip(row1, row2):\n",
        "    temp.append(x+y)\n",
        "  adds.append(temp)\n",
        "adds\n",
        "    "
      ],
      "metadata": {
        "colab": {
          "base_uri": "https://localhost:8080/"
        },
        "id": "Zr-hOQo7INP4",
        "outputId": "de781e94-eb84-46b6-95ce-0bb105bd37f5"
      },
      "execution_count": null,
      "outputs": [
        {
          "output_type": "execute_result",
          "data": {
            "text/plain": [
              "[[13, 7, 8], [8, 9, 13], [3, 7, 4]]"
            ]
          },
          "metadata": {},
          "execution_count": 157
        }
      ]
    },
    {
      "cell_type": "code",
      "source": [
        "adds = []\n",
        "for row1, row2 in zip(matrix1, matrix2):\n",
        "  temp = [x + y for x, y in zip(row1, row2)]\n",
        "  adds.append(temp)\n",
        "\n",
        "adds"
      ],
      "metadata": {
        "colab": {
          "base_uri": "https://localhost:8080/"
        },
        "id": "9gtl5TM_Ln9V",
        "outputId": "b2bac301-ed6f-4a67-a1b7-f2f6b32b8977"
      },
      "execution_count": null,
      "outputs": [
        {
          "output_type": "execute_result",
          "data": {
            "text/plain": [
              "[[13, 7, 8], [8, 9, 13], [3, 7, 4]]"
            ]
          },
          "metadata": {},
          "execution_count": 158
        }
      ]
    },
    {
      "cell_type": "code",
      "source": [
        "adds = [[x + y for x, y in zip(row1, row2)]\n",
        "        for row1, row2 in zip(matrix1, matrix2)]\n",
        "\n",
        "adds"
      ],
      "metadata": {
        "colab": {
          "base_uri": "https://localhost:8080/"
        },
        "id": "IWVNIuhcL2Jf",
        "outputId": "bf40ee6c-0a78-406a-ec7a-140d81a7ef98"
      },
      "execution_count": null,
      "outputs": [
        {
          "output_type": "execute_result",
          "data": {
            "text/plain": [
              "[[13, 7, 8], [8, 9, 13], [3, 7, 4]]"
            ]
          },
          "metadata": {},
          "execution_count": 159
        }
      ]
    }
  ]
}