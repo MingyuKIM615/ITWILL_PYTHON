{
  "nbformat": 4,
  "nbformat_minor": 0,
  "metadata": {
    "colab": {
      "name": "py16_file.ipynb",
      "provenance": [],
      "collapsed_sections": [],
      "mount_file_id": "1b24y8UAI-Y3FOzxp_U9agGE43_7NFDZY",
      "authorship_tag": "ABX9TyN7MGsdQNTMItbodn4MWrjP",
      "include_colab_link": true
    },
    "kernelspec": {
      "name": "python3",
      "display_name": "Python 3"
    },
    "language_info": {
      "name": "python"
    }
  },
  "cells": [
    {
      "cell_type": "markdown",
      "metadata": {
        "id": "view-in-github",
        "colab_type": "text"
      },
      "source": [
        "<a href=\"https://colab.research.google.com/github/MingyuKIM615/ITWILL_PYTHON/blob/master/py16_file.ipynb\" target=\"_parent\"><img src=\"https://colab.research.google.com/assets/colab-badge.svg\" alt=\"Open In Colab\"/></a>"
      ]
    },
    {
      "cell_type": "markdown",
      "source": [
        "# 파일 쓰기(write)\n",
        "\n",
        "1. 파일 열기(open)\n",
        "2. 파일 내용 쓰기(write)\n",
        "3. 파일 닫기(close)"
      ],
      "metadata": {
        "id": "9AxF47P09O29"
      }
    },
    {
      "cell_type": "markdown",
      "source": [
        "```\n",
        "open(file, mode='rt', ...):  파일 열기\n",
        "```\n",
        "\n",
        "* `file`:  디렉토리(폴더)를 포함한 파일 이름.\n",
        "* `mode`: \n",
        "    * r(read): 읽기. 기본 값\n",
        "    * w(write): 쓰기. 기존 내용이 모두 삭제되고 파일 처음부터 다시 쓰기 시작.\n",
        "    * a(append): 추가. 기존 내용 다음부터 쓰기 시작.\n",
        "    * t(text): 텍스트. 기본 값.\n",
        "    * b(binary): 이전 데이터(이미지, mp3, 동영상)."
      ],
      "metadata": {
        "id": "2Ql-LFku9gdh"
      }
    },
    {
      "cell_type": "code",
      "execution_count": null,
      "metadata": {
        "id": "2smUtn108t3P"
      },
      "outputs": [],
      "source": [
        "# 1) 파일 열기\n",
        "f = open('hello.txt', mode='wt') # text 모드는 기본값이므로, mode='w'과 동일.\n",
        "\n",
        "# 2) 파일 내용 쓰기.\n",
        "f.write('Hello,\\n') # '\\n': new line. 줄바꿈\n",
        "f.write('안녕하세요.\\n')\n",
        "f.write('0123456789\\n')\n",
        "\n",
        "# 3) 파일 닫기\n",
        "f.close()"
      ]
    },
    {
      "cell_type": "code",
      "source": [
        "# with ~ as ... 구문\n",
        "with open('hello.txt', mode='at') as f:\n",
        "  f.write('파일 append 테스트 \\n')\n",
        "# with 블록이 끝나면 open된 파일 객체 f의 close() 메서드가 자동으로 호출됨.\n"
      ],
      "metadata": {
        "id": "MpIbpFdqB9-M"
      },
      "execution_count": null,
      "outputs": []
    },
    {
      "cell_type": "markdown",
      "source": [
        "# 파일 읽기(read)\n",
        "1. 파일 open\n",
        "2. file.read\n",
        "3. file.close"
      ],
      "metadata": {
        "id": "_wIBeagDDOw7"
      }
    },
    {
      "cell_type": "code",
      "source": [
        "# 1) 파일 열기\n",
        "f = open('hello.txt', mode='rt') # mode의 기본값은 read text이기 때문에, mode 파라미터는 생략 가능.\n",
        "\n",
        "# 2) 파일 내용 읽기\n",
        "line = f.readline().strip()\n",
        "print(line)\n",
        "line = f.readline().strip()\n",
        "print(line)\n",
        "\n",
        "# 3) 파일 닫기\n",
        "f.close()"
      ],
      "metadata": {
        "colab": {
          "base_uri": "https://localhost:8080/"
        },
        "id": "lK79m5iGCtO9",
        "outputId": "6845c4fe-8057-4af6-b3a7-ef5b8129d6d5"
      },
      "execution_count": null,
      "outputs": [
        {
          "output_type": "stream",
          "name": "stdout",
          "text": [
            "Hello,\n",
            "안녕하세요.\n"
          ]
        }
      ]
    },
    {
      "cell_type": "code",
      "source": [
        "with open('hello.txt') as f: # 파일을 'rt' 모드로 열기\n",
        "  for line in f: # 파일 객체 f의 처음부터 파일의 끝까지 반복하면서 f.readline() 호출\n",
        "    print(line.strip())"
      ],
      "metadata": {
        "colab": {
          "base_uri": "https://localhost:8080/"
        },
        "id": "GFdaqP3ZEK7Y",
        "outputId": "c5a2a2e0-36f8-43d6-f6b4-2ffe1eed71e7"
      },
      "execution_count": null,
      "outputs": [
        {
          "output_type": "stream",
          "name": "stdout",
          "text": [
            "Hello,\n",
            "안녕하세요.\n",
            "0123456789\n",
            "파일 append 테스트\n"
          ]
        }
      ]
    },
    {
      "cell_type": "markdown",
      "source": [
        "* 지금까지의 과정은 Goolge Colab에서 임대한 가상 머신(Virtual Machine)의 하드 디스크에서 파일을 읽고 쓰는 기능을 수행한 것.\n",
        "* Google Colab과 연결이 끊어지면, 임대했던 가상 머신의 모든 리소스(CPU, HDD, RAM, ...)를 반환하게 됨.\n",
        "    * Colab 디렉토리(폴더)에 저장했던 파일은 모두 사라짐.\n"
      ],
      "metadata": {
        "id": "WnBbNJjdGes8"
      }
    },
    {
      "cell_type": "markdown",
      "source": [
        "# Google Drive 연결"
      ],
      "metadata": {
        "id": "39KwpAdZHpU0"
      }
    },
    {
      "cell_type": "code",
      "source": [
        "dir_path = '/content/drive/MyDrive/Colab Notebooks/lab_python'\n",
        "file_name = 'emails.txt'"
      ],
      "metadata": {
        "id": "Nr50BtrzF1Yq"
      },
      "execution_count": null,
      "outputs": []
    },
    {
      "cell_type": "code",
      "source": [
        "import os # os 모듈 임포트: os.path.join() 함수를 사용하기 위해서"
      ],
      "metadata": {
        "id": "jZbaRtBTJsjQ"
      },
      "execution_count": null,
      "outputs": []
    },
    {
      "cell_type": "code",
      "source": [
        "# 폴더(디렉토리) 경로와 파일 이름을 OS에서 사용하는 파일 구분자를 사용해서 이어붙여줌.\n",
        "file_path = os.path.join(dir_path, file_name)\n",
        "file_path"
      ],
      "metadata": {
        "colab": {
          "base_uri": "https://localhost:8080/",
          "height": 35
        },
        "id": "swwPI_8oJ76n",
        "outputId": "4c945e70-2d12-4102-e8ab-e5b6be53681e"
      },
      "execution_count": null,
      "outputs": [
        {
          "output_type": "execute_result",
          "data": {
            "application/vnd.google.colaboratory.intrinsic+json": {
              "type": "string"
            },
            "text/plain": [
              "'/content/drive/MyDrive/Colab Notebooks/lab_python/emails.txt'"
            ]
          },
          "metadata": {},
          "execution_count": 13
        }
      ]
    },
    {
      "cell_type": "code",
      "source": [
        "with open(file_path, mode='wt') as f:\n",
        "  f.write('guest@naver.com\\n')\n",
        "  f.write('test@gmail.com\\n')\n",
        "  f.write('guest@kakao.com\\n')"
      ],
      "metadata": {
        "id": "yuDPNiODKD89"
      },
      "execution_count": null,
      "outputs": []
    },
    {
      "cell_type": "code",
      "source": [
        "with open(file_path, mode='rt') as f:\n",
        "  for line in f:\n",
        "    print(line.strip())"
      ],
      "metadata": {
        "colab": {
          "base_uri": "https://localhost:8080/"
        },
        "id": "-Hnte78TLSp3",
        "outputId": "75559102-00f1-4b3c-d804-bc730fa9ff56"
      },
      "execution_count": null,
      "outputs": [
        {
          "output_type": "stream",
          "name": "stdout",
          "text": [
            "guest@naver.com\n",
            "test@gmail.com\n",
            "guest@kakao.com\n"
          ]
        }
      ]
    },
    {
      "cell_type": "code",
      "source": [
        ""
      ],
      "metadata": {
        "id": "nUtHDYRkL5EX"
      },
      "execution_count": null,
      "outputs": []
    }
  ]
}