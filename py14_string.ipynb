{
  "nbformat": 4,
  "nbformat_minor": 0,
  "metadata": {
    "colab": {
      "name": "py14_string.ipynb",
      "provenance": [],
      "collapsed_sections": [],
      "authorship_tag": "ABX9TyOh34csOl8eDYdqqydWz4vF",
      "include_colab_link": true
    },
    "kernelspec": {
      "name": "python3",
      "display_name": "Python 3"
    },
    "language_info": {
      "name": "python"
    }
  },
  "cells": [
    {
      "cell_type": "markdown",
      "metadata": {
        "id": "view-in-github",
        "colab_type": "text"
      },
      "source": [
        "<a href=\"https://colab.research.google.com/github/MingyuKIM615/ITWILL_PYTHON/blob/master/py14_string.ipynb\" target=\"_parent\"><img src=\"https://colab.research.google.com/assets/colab-badge.svg\" alt=\"Open In Colab\"/></a>"
      ]
    },
    {
      "cell_type": "markdown",
      "source": [
        "# str 클래스의 메서드\n",
        "\n",
        "* str 클래스의 메서드들은 원본 문자열을 변경하지 않음!\n",
        "* 원본 문자열을 변환한 새로운 문자열을 반환함."
      ],
      "metadata": {
        "id": "kpdrLudsPzRk"
      }
    },
    {
      "cell_type": "code",
      "execution_count": null,
      "metadata": {
        "id": "-ELD1RnKPvoI"
      },
      "outputs": [],
      "source": [
        "s = 'heLLo, pyTHon! 안녕하세요. 12345' # str 클래스의 인스턴스 생성"
      ]
    },
    {
      "cell_type": "code",
      "source": [
        "s"
      ],
      "metadata": {
        "colab": {
          "base_uri": "https://localhost:8080/",
          "height": 35
        },
        "id": "0SRDaZG7QZbc",
        "outputId": "05cf1468-41ee-4136-e271-56f8eaabdcf7"
      },
      "execution_count": null,
      "outputs": [
        {
          "output_type": "execute_result",
          "data": {
            "application/vnd.google.colaboratory.intrinsic+json": {
              "type": "string"
            },
            "text/plain": [
              "'heLLo, pyTHon! 안녕하세요. 12345'"
            ]
          },
          "metadata": {},
          "execution_count": 2
        }
      ]
    },
    {
      "cell_type": "code",
      "source": [
        "s.lower() # 소문자로 변환된 \"새로운\" 문자열을 리턴."
      ],
      "metadata": {
        "colab": {
          "base_uri": "https://localhost:8080/",
          "height": 35
        },
        "id": "JOlQEOAZQaiL",
        "outputId": "c2d5668f-f255-4e43-f74a-7bf1a4a959ac"
      },
      "execution_count": null,
      "outputs": [
        {
          "output_type": "execute_result",
          "data": {
            "application/vnd.google.colaboratory.intrinsic+json": {
              "type": "string"
            },
            "text/plain": [
              "'hello, python! 안녕하세요. 12345'"
            ]
          },
          "metadata": {},
          "execution_count": 3
        }
      ]
    },
    {
      "cell_type": "code",
      "source": [
        "s # 원본 문자열 s는 변경되지 않음!"
      ],
      "metadata": {
        "colab": {
          "base_uri": "https://localhost:8080/",
          "height": 35
        },
        "id": "M-Tf1YVrQjlR",
        "outputId": "1b77a9e9-2534-48c4-9e4d-dcc9c4cb7666"
      },
      "execution_count": null,
      "outputs": [
        {
          "output_type": "execute_result",
          "data": {
            "application/vnd.google.colaboratory.intrinsic+json": {
              "type": "string"
            },
            "text/plain": [
              "'heLLo, pyTHon! 안녕하세요. 12345'"
            ]
          },
          "metadata": {},
          "execution_count": 4
        }
      ]
    },
    {
      "cell_type": "code",
      "source": [
        "s.upper() # 대문자로 변환된 문자열을 리턴."
      ],
      "metadata": {
        "colab": {
          "base_uri": "https://localhost:8080/",
          "height": 35
        },
        "id": "IYAKHwr5Q75a",
        "outputId": "e2844b21-27b4-4c4f-fd40-916c95312e82"
      },
      "execution_count": null,
      "outputs": [
        {
          "output_type": "execute_result",
          "data": {
            "application/vnd.google.colaboratory.intrinsic+json": {
              "type": "string"
            },
            "text/plain": [
              "'HELLO, PYTHON! 안녕하세요. 12345'"
            ]
          },
          "metadata": {},
          "execution_count": 5
        }
      ]
    },
    {
      "cell_type": "code",
      "source": [
        "s.capitalize() # 문자열의 첫 글자만 대문자, 나머지는 소문자로 변환한 문자열을 리턴."
      ],
      "metadata": {
        "colab": {
          "base_uri": "https://localhost:8080/",
          "height": 35
        },
        "id": "mQPxcdDxRc9W",
        "outputId": "9767b7cb-9613-420c-c723-6a1e4229913b"
      },
      "execution_count": null,
      "outputs": [
        {
          "output_type": "execute_result",
          "data": {
            "application/vnd.google.colaboratory.intrinsic+json": {
              "type": "string"
            },
            "text/plain": [
              "'Hello, python! 안녕하세요. 12345'"
            ]
          },
          "metadata": {},
          "execution_count": 6
        }
      ]
    },
    {
      "cell_type": "code",
      "source": [
        "s.count('L') # 문자열에서 substring이 등장하는 회수를 리턴."
      ],
      "metadata": {
        "colab": {
          "base_uri": "https://localhost:8080/"
        },
        "id": "NjW7G6swR9fj",
        "outputId": "631c958e-07fc-4efb-f837-67488217de96"
      },
      "execution_count": null,
      "outputs": [
        {
          "output_type": "execute_result",
          "data": {
            "text/plain": [
              "2"
            ]
          },
          "metadata": {},
          "execution_count": 9
        }
      ]
    },
    {
      "cell_type": "code",
      "source": [
        "url = 'http://www.python.org/'\n",
        "url.startswith('http')"
      ],
      "metadata": {
        "colab": {
          "base_uri": "https://localhost:8080/"
        },
        "id": "gCcn61YBSq8G",
        "outputId": "cff21ead-4437-4335-a0ff-d4d73ce98909"
      },
      "execution_count": null,
      "outputs": [
        {
          "output_type": "execute_result",
          "data": {
            "text/plain": [
              "True"
            ]
          },
          "metadata": {},
          "execution_count": 10
        }
      ]
    },
    {
      "cell_type": "code",
      "source": [
        "url.startswith('ftp')"
      ],
      "metadata": {
        "colab": {
          "base_uri": "https://localhost:8080/"
        },
        "id": "SHh1EyTbVNE6",
        "outputId": "ee3bdefc-f8f6-49a9-f1d5-e4ae6b31b07d"
      },
      "execution_count": null,
      "outputs": [
        {
          "output_type": "execute_result",
          "data": {
            "text/plain": [
              "False"
            ]
          },
          "metadata": {},
          "execution_count": 13
        }
      ]
    },
    {
      "cell_type": "code",
      "source": [
        "tel = '010-1234-5678'\n",
        "tel.endswith('5678')"
      ],
      "metadata": {
        "colab": {
          "base_uri": "https://localhost:8080/"
        },
        "id": "44UEP7tfVgpW",
        "outputId": "6e05acb8-293f-46ef-b093-44b80e30bd8b"
      },
      "execution_count": null,
      "outputs": [
        {
          "output_type": "execute_result",
          "data": {
            "text/plain": [
              "True"
            ]
          },
          "metadata": {},
          "execution_count": 12
        }
      ]
    },
    {
      "cell_type": "code",
      "source": [
        "# substring이 string에 포함되어 있는지를  검사: substirng in string\n",
        "'1234' in tel"
      ],
      "metadata": {
        "colab": {
          "base_uri": "https://localhost:8080/"
        },
        "id": "ZdA5IpZUV3WT",
        "outputId": "aec6f286-7849-4d74-aae7-ba91e74b5334"
      },
      "execution_count": null,
      "outputs": [
        {
          "output_type": "execute_result",
          "data": {
            "text/plain": [
              "True"
            ]
          },
          "metadata": {},
          "execution_count": 14
        }
      ]
    },
    {
      "cell_type": "code",
      "source": [
        "'0000' in tel"
      ],
      "metadata": {
        "colab": {
          "base_uri": "https://localhost:8080/"
        },
        "id": "JfFlAm8nWYQw",
        "outputId": "7bc26567-84f7-41ae-816d-84dd1827a4d5"
      },
      "execution_count": null,
      "outputs": [
        {
          "output_type": "execute_result",
          "data": {
            "text/plain": [
              "False"
            ]
          },
          "metadata": {},
          "execution_count": 15
        }
      ]
    },
    {
      "cell_type": "code",
      "source": [
        "email = 'abc.def@gmail.com'\n",
        "email.find('!') # argument로 전달한 문자열이 처음 등장하는 인덱스. 만약 문자열이 없으면 -1을 리턴."
      ],
      "metadata": {
        "colab": {
          "base_uri": "https://localhost:8080/"
        },
        "id": "gexlDS1mWbzX",
        "outputId": "516667da-f08a-469b-a54f-4af7b5ccccb4"
      },
      "execution_count": null,
      "outputs": [
        {
          "output_type": "execute_result",
          "data": {
            "text/plain": [
              "-1"
            ]
          },
          "metadata": {},
          "execution_count": 17
        }
      ]
    },
    {
      "cell_type": "code",
      "source": [
        "idx = email.find('@')\n",
        "print(email[:idx]) # 문자열 slicing\n",
        "print(email[idx+1:])"
      ],
      "metadata": {
        "colab": {
          "base_uri": "https://localhost:8080/"
        },
        "id": "0q-9x6A7XLm0",
        "outputId": "da038152-62be-45a7-cab6-d3be1dbaf7ca"
      },
      "execution_count": null,
      "outputs": [
        {
          "output_type": "stream",
          "name": "stdout",
          "text": [
            "abc.def\n",
            "gmail.com\n"
          ]
        }
      ]
    },
    {
      "cell_type": "code",
      "source": [
        "sentence = 'Textual data in Python is handled with str objects, or strings.'"
      ],
      "metadata": {
        "id": "Vxo1wTgGX87L"
      },
      "execution_count": null,
      "outputs": []
    },
    {
      "cell_type": "code",
      "source": [
        "sentence.split() #> 공백(space, tab, enter)을 기준으로 나뉜 문자열들의 list"
      ],
      "metadata": {
        "colab": {
          "base_uri": "https://localhost:8080/"
        },
        "id": "JgpZ8ltsYxYA",
        "outputId": "f02d862f-5517-4536-f9a8-fa171d933339"
      },
      "execution_count": null,
      "outputs": [
        {
          "output_type": "execute_result",
          "data": {
            "text/plain": [
              "['Textual',\n",
              " 'data',\n",
              " 'in',\n",
              " 'Python',\n",
              " 'is',\n",
              " 'handled',\n",
              " 'with',\n",
              " 'str',\n",
              " 'objects,',\n",
              " 'or',\n",
              " 'strings.']"
            ]
          },
          "metadata": {},
          "execution_count": 21
        }
      ]
    },
    {
      "cell_type": "code",
      "source": [
        "date = '2022-03-11'\n",
        "date.split(sep='-')"
      ],
      "metadata": {
        "colab": {
          "base_uri": "https://localhost:8080/"
        },
        "id": "oCOQ7vn4ZL0g",
        "outputId": "90db2773-9b09-4243-ce2e-c4111c18870c"
      },
      "execution_count": null,
      "outputs": [
        {
          "output_type": "execute_result",
          "data": {
            "text/plain": [
              "['2022', '03', '11']"
            ]
          },
          "metadata": {},
          "execution_count": 22
        }
      ]
    },
    {
      "cell_type": "code",
      "source": [
        "time = '14:19:30'\n",
        "time.split(sep=':')"
      ],
      "metadata": {
        "colab": {
          "base_uri": "https://localhost:8080/"
        },
        "id": "M-FjW39NafTW",
        "outputId": "0230a578-54bc-4b36-881b-2dbcbecb3ed7"
      },
      "execution_count": null,
      "outputs": [
        {
          "output_type": "execute_result",
          "data": {
            "text/plain": [
              "['14', '19', '30']"
            ]
          },
          "metadata": {},
          "execution_count": 23
        }
      ]
    },
    {
      "cell_type": "code",
      "source": [
        "# CSV : Comma-Separated Values\n",
        "csv='100,Scott,200,scott@itwill.co.kr,1234-5678,IT'\n",
        "csv.split(sep=',')"
      ],
      "metadata": {
        "colab": {
          "base_uri": "https://localhost:8080/"
        },
        "id": "qmR6C3I_a24L",
        "outputId": "7686585e-ba15-45a4-ab7f-b0bc9f5c095d"
      },
      "execution_count": null,
      "outputs": [
        {
          "output_type": "execute_result",
          "data": {
            "text/plain": [
              "['100', 'Scott', '200', 'scott@itwill.co.kr', '1234-5678', 'IT']"
            ]
          },
          "metadata": {},
          "execution_count": 24
        }
      ]
    },
    {
      "cell_type": "code",
      "source": [
        "'/'.join(['2022', '03', '11'])"
      ],
      "metadata": {
        "colab": {
          "base_uri": "https://localhost:8080/",
          "height": 35
        },
        "id": "M04z5rrWb2s2",
        "outputId": "d079e597-57dd-46d5-eecd-12891518677d"
      },
      "execution_count": null,
      "outputs": [
        {
          "output_type": "execute_result",
          "data": {
            "application/vnd.google.colaboratory.intrinsic+json": {
              "type": "string"
            },
            "text/plain": [
              "'2022/03/11'"
            ]
          },
          "metadata": {},
          "execution_count": 25
        }
      ]
    },
    {
      "cell_type": "code",
      "source": [
        "':'.join(['14', '45', '30'])"
      ],
      "metadata": {
        "colab": {
          "base_uri": "https://localhost:8080/",
          "height": 35
        },
        "id": "PioiumjJgXp7",
        "outputId": "b601e486-53fe-4276-d196-9a05656a9a63"
      },
      "execution_count": null,
      "outputs": [
        {
          "output_type": "execute_result",
          "data": {
            "application/vnd.google.colaboratory.intrinsic+json": {
              "type": "string"
            },
            "text/plain": [
              "'14:45:30'"
            ]
          },
          "metadata": {},
          "execution_count": 26
        }
      ]
    },
    {
      "cell_type": "code",
      "source": [
        "' '.join(['홍길동', 'abc', '123-456'])"
      ],
      "metadata": {
        "colab": {
          "base_uri": "https://localhost:8080/",
          "height": 35
        },
        "id": "EvitbjsVguaQ",
        "outputId": "d5d2d09c-00e5-449d-ab94-a322e28b3ac2"
      },
      "execution_count": null,
      "outputs": [
        {
          "output_type": "execute_result",
          "data": {
            "application/vnd.google.colaboratory.intrinsic+json": {
              "type": "string"
            },
            "text/plain": [
              "'홍길동 abc 123-456'"
            ]
          },
          "metadata": {},
          "execution_count": 27
        }
      ]
    },
    {
      "cell_type": "code",
      "source": [
        "s = '        Hello, Python!    안녕하세요...        '\n",
        "print(s)\n",
        "print(s.lstrip()) # 문자열의 왼쪽(시작 부분)에 있는 모든 공백들을제거\n",
        "print(s.rstrip()) # 문자열의 오른쪽(끝나는 부분)에 있는 모든 공백들을 제거\n",
        "print(s.strip()) # 문자열의 시작과 끝 부분에 있는 모든 공백들을 제거"
      ],
      "metadata": {
        "colab": {
          "base_uri": "https://localhost:8080/"
        },
        "id": "eQYkF0EWhFuf",
        "outputId": "78283bfc-f89b-4ac0-859c-a9f730c55054"
      },
      "execution_count": null,
      "outputs": [
        {
          "output_type": "stream",
          "name": "stdout",
          "text": [
            "        Hello, Python!    안녕하세요...        \n",
            "Hello, Python!    안녕하세요...        \n",
            "        Hello, Python!    안녕하세요...\n",
            "Hello, Python!    안녕하세요...\n"
          ]
        }
      ]
    },
    {
      "cell_type": "code",
      "source": [
        "s = '<<<Hello, Python>>>'\n",
        "s.lstrip('<').rstrip('>')"
      ],
      "metadata": {
        "colab": {
          "base_uri": "https://localhost:8080/",
          "height": 35
        },
        "id": "D7JxZDI5hXrj",
        "outputId": "91986fca-0666-4223-de24-3fe426d655c2"
      },
      "execution_count": null,
      "outputs": [
        {
          "output_type": "execute_result",
          "data": {
            "application/vnd.google.colaboratory.intrinsic+json": {
              "type": "string"
            },
            "text/plain": [
              "'Hello, Python'"
            ]
          },
          "metadata": {},
          "execution_count": 32
        }
      ]
    },
    {
      "cell_type": "code",
      "source": [
        "s = 'hello,안녕,python,100'\n",
        "s.replace(',', '::') # 문자열 s에서 ','를 '::'로 대체"
      ],
      "metadata": {
        "colab": {
          "base_uri": "https://localhost:8080/",
          "height": 35
        },
        "id": "btSPxaQNi9R4",
        "outputId": "d8a2f33a-df18-4bc6-f9eb-9e8c7dc32eff"
      },
      "execution_count": null,
      "outputs": [
        {
          "output_type": "execute_result",
          "data": {
            "application/vnd.google.colaboratory.intrinsic+json": {
              "type": "string"
            },
            "text/plain": [
              "'hello::안녕::python::100'"
            ]
          },
          "metadata": {},
          "execution_count": 33
        }
      ]
    },
    {
      "cell_type": "code",
      "source": [
        "sentence = 'Textual data in Python is handled with str objects, or strings.'\n",
        "# 구두점(, .)들은 제거하고 단어들로 이루어진 리스트를 만듦.\n",
        "sentence.replace(',', '').replace('.','').split(' ')"
      ],
      "metadata": {
        "colab": {
          "base_uri": "https://localhost:8080/"
        },
        "id": "H74PjWynji-d",
        "outputId": "598fca81-6a08-463b-ad46-dd125f4bc2ce"
      },
      "execution_count": null,
      "outputs": [
        {
          "output_type": "execute_result",
          "data": {
            "text/plain": [
              "['Textual',\n",
              " 'data',\n",
              " 'in',\n",
              " 'Python',\n",
              " 'is',\n",
              " 'handled',\n",
              " 'with',\n",
              " 'str',\n",
              " 'objects',\n",
              " 'or',\n",
              " 'strings']"
            ]
          },
          "metadata": {},
          "execution_count": 38
        }
      ]
    },
    {
      "cell_type": "code",
      "source": [
        ""
      ],
      "metadata": {
        "id": "SNzRVucUkQj7"
      },
      "execution_count": null,
      "outputs": []
    }
  ]
}