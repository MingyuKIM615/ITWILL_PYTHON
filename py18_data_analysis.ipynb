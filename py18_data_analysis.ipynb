{
  "nbformat": 4,
  "nbformat_minor": 0,
  "metadata": {
    "colab": {
      "name": "py18_data_analysis.ipynb",
      "provenance": [],
      "collapsed_sections": [],
      "authorship_tag": "ABX9TyPlBJA4TbIWbil8LlXAmATP",
      "include_colab_link": true
    },
    "kernelspec": {
      "name": "python3",
      "display_name": "Python 3"
    },
    "language_info": {
      "name": "python"
    }
  },
  "cells": [
    {
      "cell_type": "markdown",
      "metadata": {
        "id": "view-in-github",
        "colab_type": "text"
      },
      "source": [
        "<a href=\"https://colab.research.google.com/github/MingyuKIM615/ITWILL_PYTHON/blob/master/py18_data_analysis.ipynb\" target=\"_parent\"><img src=\"https://colab.research.google.com/assets/colab-badge.svg\" alt=\"Open In Colab\"/></a>"
      ]
    },
    {
      "cell_type": "markdown",
      "source": [
        "# 데이터 분석에 많이 사용되는 패키지\n",
        "\n",
        "* NumPy: 다차원 배열(n-dimensional array)을 다루는 패키지. 머신 러닝(machine learning)에서 중요하게 사용됨.\n",
        "* pandas: 데이터 프레임(DataFrame)과 시리즈(Series)를 다루는 패키지. 데이터 분석에서 기본으로 사용되는 패키지.\n",
        "* emtplotlib: 데이터 시각화(그래프).\n",
        "\n",
        "Google Colab은 데이터 분석과 머신 러닝에 필요한 대붑ㄴ의 패키지들이 이미 설치되어 있음."
      ],
      "metadata": {
        "id": "fGsHLxPGSbsh"
      }
    },
    {
      "cell_type": "code",
      "execution_count": null,
      "metadata": {
        "id": "EGWN9eLgSMp_"
      },
      "outputs": [],
      "source": [
        "import numpy as np\n",
        "import pandas as pd\n",
        "import matplotlib"
      ]
    },
    {
      "cell_type": "code",
      "source": [
        "# Google Colab에 설치된 패키지 버전\n",
        "print('NumPy version',np.__version__)\n",
        "print('pandas version',pd.__version__)\n",
        "print('matplotlib version', matplotlib.__version__)"
      ],
      "metadata": {
        "colab": {
          "base_uri": "https://localhost:8080/"
        },
        "id": "fW0le01TUMAI",
        "outputId": "4fa54116-c55c-4af5-a97d-cf3d45a315a5"
      },
      "execution_count": null,
      "outputs": [
        {
          "output_type": "stream",
          "name": "stdout",
          "text": [
            "NumPy version 1.21.5\n",
            "pandas version 1.3.5\n",
            "matplotlib version 3.2.2\n"
          ]
        }
      ]
    },
    {
      "cell_type": "markdown",
      "source": [
        "# Python list\n",
        "* 여러개의 값들을 저장할 수 있는 데이터 타입.\n",
        "* 인덱스를 기반으로 값들을 저장하는 데이터 타입.\n",
        "    * indexing : 인덱스로 원하는 위치의 값을 참조.\n",
        "    * slicing : `[start, end)` 인덱스 범위의 값들로 이루어진 부분집합(list)을 만듦.\n",
        "* `list + list` : extend 메서드 기능. 두 개의 리스트를 이어붙여서 하나의 리스트를 만듦.\n",
        "* `list * lint, int * list` : list의 원소들을 정수 개수만큼 반복해서 추가.\n",
        "    ```\n",
        "    [1, 2] * 3 = [1, 2, 1, 2, 1, 2]\n",
        "    3 * [1, 2] = [1, 2, 1, 2, 1, 2]\n",
        "    ```"
      ],
      "metadata": {
        "id": "0Xul6mfAXXXJ"
      }
    },
    {
      "cell_type": "code",
      "source": [
        "num_list1 = [1,2,3]\n",
        "num_list2 = [10, 20, 30]"
      ],
      "metadata": {
        "id": "nBoCtsndU3E-"
      },
      "execution_count": null,
      "outputs": []
    },
    {
      "cell_type": "code",
      "source": [
        "# indexing\n",
        "print(num_list1[0])\n",
        "print(num_list1[-1])"
      ],
      "metadata": {
        "colab": {
          "base_uri": "https://localhost:8080/"
        },
        "id": "KS6ia3T6Y-2B",
        "outputId": "e1303ca3-0da9-41cf-a0ba-a3ce6ba7f37d"
      },
      "execution_count": null,
      "outputs": [
        {
          "output_type": "stream",
          "name": "stdout",
          "text": [
            "1\n",
            "3\n"
          ]
        }
      ]
    },
    {
      "cell_type": "code",
      "source": [
        "# slicing\n",
        "print(num_list1[:2])\n",
        "print(num_list1[-2:])"
      ],
      "metadata": {
        "colab": {
          "base_uri": "https://localhost:8080/"
        },
        "id": "6bkOLx3CZFC6",
        "outputId": "b26ae84e-4e1c-423a-9b68-80aa9e5e0dac"
      },
      "execution_count": null,
      "outputs": [
        {
          "output_type": "stream",
          "name": "stdout",
          "text": [
            "[1, 2]\n",
            "[2, 3]\n"
          ]
        }
      ]
    },
    {
      "cell_type": "code",
      "source": [
        "num_list1 + num_list2"
      ],
      "metadata": {
        "colab": {
          "base_uri": "https://localhost:8080/"
        },
        "id": "0or0Bg5gZlE7",
        "outputId": "f363323b-2d89-4c4c-c2fb-fa7650622abc"
      },
      "execution_count": null,
      "outputs": [
        {
          "output_type": "execute_result",
          "data": {
            "text/plain": [
              "[1, 2, 3, 10, 20, 30]"
            ]
          },
          "metadata": {},
          "execution_count": 8
        }
      ]
    },
    {
      "cell_type": "code",
      "source": [
        "2 * num_list1"
      ],
      "metadata": {
        "colab": {
          "base_uri": "https://localhost:8080/"
        },
        "id": "4iv0U9boZobx",
        "outputId": "ac63bafb-3019-412a-ea4c-ef12fef22f98"
      },
      "execution_count": null,
      "outputs": [
        {
          "output_type": "execute_result",
          "data": {
            "text/plain": [
              "[1, 2, 3, 1, 2, 3]"
            ]
          },
          "metadata": {},
          "execution_count": 9
        }
      ]
    },
    {
      "cell_type": "code",
      "source": [
        "# num_list1과 num_list2의 같은 인덱스의 원소들끼리의 합을 원소로 갖는 리스트\n",
        "add_list = []\n",
        "for x, y in zip(num_list1, num_list2):\n",
        "  add_list.append(x + y)\n",
        "  \n",
        "add_list"
      ],
      "metadata": {
        "colab": {
          "base_uri": "https://localhost:8080/"
        },
        "id": "d-Qar0K5uWjE",
        "outputId": "9b7a618a-0310-4ccc-cca5-266da754962e"
      },
      "execution_count": null,
      "outputs": [
        {
          "output_type": "execute_result",
          "data": {
            "text/plain": [
              "[11, 22, 33]"
            ]
          },
          "metadata": {},
          "execution_count": 10
        }
      ]
    },
    {
      "cell_type": "code",
      "source": [
        "# num_list1의 모든 원소에 곱하기 2를 한 결과\n",
        "[2 * x for x in num_list1]"
      ],
      "metadata": {
        "colab": {
          "base_uri": "https://localhost:8080/"
        },
        "id": "Wo0z6GsfvhtE",
        "outputId": "63d590fe-25c3-4d8d-8997-5d0ca8ae9e30"
      },
      "execution_count": null,
      "outputs": [
        {
          "output_type": "execute_result",
          "data": {
            "text/plain": [
              "[2, 4, 6]"
            ]
          },
          "metadata": {},
          "execution_count": 12
        }
      ]
    },
    {
      "cell_type": "markdown",
      "source": [
        "# NumPy(Numerical Python)\n",
        "\n",
        "* 배열(array)을 쉽고 빠르게 연산(+, -, *, /, ...)하기 위한 라이브러리.\n",
        "* NumPy 패키지의 대붑ㄴ의 기능(함수, 메서드)들은 반복문의 기능을 가지고 있음.\n",
        "* `np.ndarray` 클래스 : NumPy 패키지의 기본 데이터 타입. n차원 배열(n-dimensional array).\n",
        "    * ndarray의 연산은 같은 인덱스의 원소들끼리(element-wise)연산을 수행함."
      ],
      "metadata": {
        "id": "XtaCFe2vtCv5"
      }
    },
    {
      "cell_type": "code",
      "source": [
        "num_arr1 = np.array(num_list1)"
      ],
      "metadata": {
        "id": "fBB5zi7kZs7g"
      },
      "execution_count": null,
      "outputs": []
    },
    {
      "cell_type": "code",
      "source": [
        "num_arr1 # 식(expression) 출력 - ndarray.__repr__() 메서드의 리턴값을 출력"
      ],
      "metadata": {
        "colab": {
          "base_uri": "https://localhost:8080/"
        },
        "id": "uqih-QNywmUA",
        "outputId": "981f1ac9-6aea-41b9-f6da-5b78a9bd6179"
      },
      "execution_count": null,
      "outputs": [
        {
          "output_type": "execute_result",
          "data": {
            "text/plain": [
              "array([1, 2, 3])"
            ]
          },
          "metadata": {},
          "execution_count": 18
        }
      ]
    },
    {
      "cell_type": "code",
      "source": [
        "print(num_arr1) # print() 함수는 ndarray.__str__() 메서드의 리턴값을 출력"
      ],
      "metadata": {
        "colab": {
          "base_uri": "https://localhost:8080/"
        },
        "id": "-fmGM_SZwnPw",
        "outputId": "2c11002e-60f9-4296-c002-8e528a32bde9"
      },
      "execution_count": null,
      "outputs": [
        {
          "output_type": "stream",
          "name": "stdout",
          "text": [
            "[1 2 3]\n"
          ]
        }
      ]
    },
    {
      "cell_type": "code",
      "source": [
        "type(num_arr1)"
      ],
      "metadata": {
        "colab": {
          "base_uri": "https://localhost:8080/"
        },
        "id": "kBXFX5qExQW2",
        "outputId": "1f8ca432-89b6-4997-e568-3b555d915713"
      },
      "execution_count": null,
      "outputs": [
        {
          "output_type": "execute_result",
          "data": {
            "text/plain": [
              "numpy.ndarray"
            ]
          },
          "metadata": {},
          "execution_count": 20
        }
      ]
    },
    {
      "cell_type": "code",
      "source": [
        "num_arr2 = np.array(num_list2)\n",
        "print(num_arr2)"
      ],
      "metadata": {
        "colab": {
          "base_uri": "https://localhost:8080/"
        },
        "id": "qB3MnqqpxxvE",
        "outputId": "934f7d85-43cd-4264-d051-42af35008f83"
      },
      "execution_count": null,
      "outputs": [
        {
          "output_type": "stream",
          "name": "stdout",
          "text": [
            "[10 20 30]\n"
          ]
        }
      ]
    },
    {
      "cell_type": "code",
      "source": [
        "# ndarray의 사칙연산 - element-wise operation\n",
        "print(num_arr1 + num_arr2)\n",
        "print(num_arr1 - num_arr2)\n",
        "print(num_arr1 * num_arr2)\n",
        "print(num_arr1 / num_arr2)"
      ],
      "metadata": {
        "colab": {
          "base_uri": "https://localhost:8080/"
        },
        "id": "T48ZLPQByt_Z",
        "outputId": "e4b9dec5-c610-4f34-ebc0-e5cf9500e9ba"
      },
      "execution_count": null,
      "outputs": [
        {
          "output_type": "stream",
          "name": "stdout",
          "text": [
            "[11 22 33]\n",
            "[ -9 -18 -27]\n",
            "[10 40 90]\n",
            "[0.1 0.1 0.1]\n"
          ]
        }
      ]
    },
    {
      "cell_type": "code",
      "source": [
        "print(num_arr1 * 2)"
      ],
      "metadata": {
        "colab": {
          "base_uri": "https://localhost:8080/"
        },
        "id": "2yboTE2by6Pa",
        "outputId": "3b8e9720-ca88-4fef-864c-c9067cabaf9f"
      },
      "execution_count": null,
      "outputs": [
        {
          "output_type": "stream",
          "name": "stdout",
          "text": [
            "[2 4 6]\n"
          ]
        }
      ]
    },
    {
      "cell_type": "code",
      "source": [
        "# ndarray의 속성들(attributes)\n",
        "print(num_arr1)\n",
        "print('ndim=', num_arr1.ndim) # 차원(dimension)\n",
        "print('size=', num_arr1.size) # ndarray의 크기\n",
        "print('shape=', num_arr1.shape) # 각 차원에서의 원소의 개수\n",
        "print('dtype=',num_arr1.dtype) # 원소의 데이터 타입"
      ],
      "metadata": {
        "colab": {
          "base_uri": "https://localhost:8080/"
        },
        "id": "R3tOwWxiz4u0",
        "outputId": "6e8fd046-f3da-4b99-b8ec-c80287250074"
      },
      "execution_count": null,
      "outputs": [
        {
          "output_type": "stream",
          "name": "stdout",
          "text": [
            "[1 2 3]\n",
            "ndim= 1\n",
            "size= 3\n",
            "shape= (3,)\n",
            "dtype= int64\n"
          ]
        }
      ]
    },
    {
      "cell_type": "markdown",
      "source": [
        "* Python 숫자 타입\n",
        "    * 정수 : int\n",
        "    * 실수 : float\n",
        "* np의 숫자 타입\n",
        "    * 정수 : int8, int16, int32, int64, ...\n",
        "    * 실수 : float16, float32, float64, ..."
      ],
      "metadata": {
        "id": "lhiBOfXA2son"
      }
    },
    {
      "cell_type": "markdown",
      "source": [
        "# 2차원 ndarray"
      ],
      "metadata": {
        "id": "D87aQMeu3GLY"
      }
    },
    {
      "cell_type": "code",
      "source": [
        "arr_2d = np.array([[1,2,3], [4,5,6]])\n",
        "print(arr_2d)"
      ],
      "metadata": {
        "colab": {
          "base_uri": "https://localhost:8080/"
        },
        "id": "O8_rolHL0-A8",
        "outputId": "4e039456-8848-42bc-8f6f-3bcabdcbd6e6"
      },
      "execution_count": null,
      "outputs": [
        {
          "output_type": "stream",
          "name": "stdout",
          "text": [
            "[[1 2 3]\n",
            " [4 5 6]]\n"
          ]
        }
      ]
    },
    {
      "cell_type": "code",
      "source": [
        "print('ndim = ', arr_2d.ndim)\n",
        "print('size = ', arr_2d.size)\n",
        "print('shape = ', arr_2d.shape)\n",
        "print('dtype= ', arr_2d.dtype)"
      ],
      "metadata": {
        "colab": {
          "base_uri": "https://localhost:8080/"
        },
        "id": "4bXEzYp33ZWa",
        "outputId": "d45c3ae3-dffb-41f2-dfdd-36ca84c096d2"
      },
      "execution_count": null,
      "outputs": [
        {
          "output_type": "stream",
          "name": "stdout",
          "text": [
            "ndim =  2\n",
            "size =  9\n",
            "shape =  (3, 3)\n",
            "dtype=  int64\n"
          ]
        }
      ]
    },
    {
      "cell_type": "markdown",
      "source": [
        "# np.ndarray 객체 생성 함수"
      ],
      "metadata": {
        "id": "ZLsXSwXB8VWh"
      }
    },
    {
      "cell_type": "markdown",
      "source": [
        "```\n",
        "np.array(object)\n",
        "```\n",
        "\n",
        "* object: 배열과 비슷한 객체들(리스트, 튜플, dict, ndarray, ...)"
      ],
      "metadata": {
        "id": "wLszcXl08hPK"
      }
    },
    {
      "cell_type": "code",
      "source": [
        "# 0이상 10 이하의 짝수드로 이루어진 ndarray\n",
        "evens = np.array([2 * x for x in range(6)])\n",
        "print(evens)"
      ],
      "metadata": {
        "colab": {
          "base_uri": "https://localhost:8080/"
        },
        "id": "FudtDuZC3sm9",
        "outputId": "0425e270-52b9-40db-8782-421232875597"
      },
      "execution_count": null,
      "outputs": [
        {
          "output_type": "stream",
          "name": "stdout",
          "text": [
            "[ 0  2  4  6  8 10]\n"
          ]
        }
      ]
    },
    {
      "cell_type": "markdown",
      "source": [
        "```\n",
        "np.arrange(start, end, step)\n",
        "```\n",
        "\n",
        "* `range(start, end, step)` 함수의 사용 방법과 동일\n",
        "* 1차원 배열 생성"
      ],
      "metadata": {
        "id": "BY_1CtY_9hoQ"
      }
    },
    {
      "cell_type": "code",
      "source": [
        "evens = np.arange(0,11,2)\n",
        "print(evens)"
      ],
      "metadata": {
        "colab": {
          "base_uri": "https://localhost:8080/"
        },
        "id": "2WB5RoRQ9FWR",
        "outputId": "0e6325b0-927c-49ed-df5d-ddc5640043d3"
      },
      "execution_count": null,
      "outputs": [
        {
          "output_type": "stream",
          "name": "stdout",
          "text": [
            "[ 0  2  4  6  8 10]\n"
          ]
        }
      ]
    },
    {
      "cell_type": "markdown",
      "source": [
        "```\n",
        "np.reshape(array, shape) 함수\n",
        "np.ndarray.reshape(shape) 메서드\n",
        "```"
      ],
      "metadata": {
        "id": "-59K6r26-NwO"
      }
    },
    {
      "cell_type": "code",
      "source": [
        "arr = np.arange(12)\n",
        "print(arr) # (12,) shape의 1차원 배열"
      ],
      "metadata": {
        "colab": {
          "base_uri": "https://localhost:8080/"
        },
        "id": "s_tPuc10-3fL",
        "outputId": "f2a23a0e-8c98-40a3-f23f-740534678edb"
      },
      "execution_count": null,
      "outputs": [
        {
          "output_type": "stream",
          "name": "stdout",
          "text": [
            "[ 0  1  2  3  4  5  6  7  8  9 10 11]\n"
          ]
        }
      ]
    },
    {
      "cell_type": "code",
      "source": [
        "# 함수 호출\n",
        "np.reshape(arr, (3,4))"
      ],
      "metadata": {
        "colab": {
          "base_uri": "https://localhost:8080/"
        },
        "id": "-7b3oilr_05M",
        "outputId": "0024818f-c174-438b-b526-ba933055effd"
      },
      "execution_count": null,
      "outputs": [
        {
          "output_type": "execute_result",
          "data": {
            "text/plain": [
              "array([[ 0,  1,  2,  3],\n",
              "       [ 4,  5,  6,  7],\n",
              "       [ 8,  9, 10, 11]])"
            ]
          },
          "metadata": {},
          "execution_count": 48
        }
      ]
    },
    {
      "cell_type": "code",
      "source": [
        "# 메서드 호출\n",
        "arr.reshape(3,4)"
      ],
      "metadata": {
        "colab": {
          "base_uri": "https://localhost:8080/"
        },
        "id": "B1NNvQ2CAjZ4",
        "outputId": "776e627f-faec-4472-8c28-7003e0292c90"
      },
      "execution_count": null,
      "outputs": [
        {
          "output_type": "execute_result",
          "data": {
            "text/plain": [
              "array([[ 0,  1,  2,  3],\n",
              "       [ 4,  5,  6,  7],\n",
              "       [ 8,  9, 10, 11]])"
            ]
          },
          "metadata": {},
          "execution_count": 50
        }
      ]
    },
    {
      "cell_type": "code",
      "source": [
        "# 함수(메서드) 연쇄 호출\n",
        "np.arange(6).reshape((3,2))"
      ],
      "metadata": {
        "colab": {
          "base_uri": "https://localhost:8080/"
        },
        "id": "F6VQ5KGIAnbR",
        "outputId": "a90f0462-9de0-4fc6-c0f9-e923a3a99d3b"
      },
      "execution_count": null,
      "outputs": [
        {
          "output_type": "execute_result",
          "data": {
            "text/plain": [
              "array([[0, 1],\n",
              "       [2, 3],\n",
              "       [4, 5]])"
            ]
          },
          "metadata": {},
          "execution_count": 52
        }
      ]
    },
    {
      "cell_type": "markdown",
      "source": [
        "```\n",
        "np.random.rand(d0, d1, d2, d3, ...) 함수\n",
        "```\n",
        "\n",
        "* `[0,1)` 범위의 균등분포를 따르는 난수들로 만들어진 ndarray를 생성.\n",
        "* `d0, d1, d2, ...`: ndarray에서 각 차원의 원소의 개수"
      ],
      "metadata": {
        "id": "DcT-7xxrDRq1"
      }
    },
    {
      "cell_type": "code",
      "source": [
        "np.random.rand(5) # (5,) shape의 1차원 배열"
      ],
      "metadata": {
        "colab": {
          "base_uri": "https://localhost:8080/"
        },
        "id": "Ai_Je0JpC87k",
        "outputId": "e86950ab-c8cf-4e4c-abaf-51e00025d514"
      },
      "execution_count": null,
      "outputs": [
        {
          "output_type": "execute_result",
          "data": {
            "text/plain": [
              "array([0.30869072, 0.55765555, 0.37587329, 0.17812101, 0.26917807,\n",
              "       0.66465341, 0.52139297, 0.65289925, 0.20225714, 0.70111094])"
            ]
          },
          "metadata": {},
          "execution_count": 53
        }
      ]
    },
    {
      "cell_type": "code",
      "source": [
        "np.random.rand(3,4) # (3, 4) shape의 2차원 배열"
      ],
      "metadata": {
        "colab": {
          "base_uri": "https://localhost:8080/"
        },
        "id": "EQC0x7KeEVF9",
        "outputId": "1763150a-8fac-44fa-98ee-b92524c191b0"
      },
      "execution_count": null,
      "outputs": [
        {
          "output_type": "execute_result",
          "data": {
            "text/plain": [
              "array([[0.50857962, 0.25865966, 0.50647281, 0.02566886],\n",
              "       [0.49111612, 0.79668141, 0.98456409, 0.88379717],\n",
              "       [0.04581459, 0.63999043, 0.68447857, 0.45574291]])"
            ]
          },
          "metadata": {},
          "execution_count": 54
        }
      ]
    },
    {
      "cell_type": "markdown",
      "source": [
        "```\n",
        "np.random.randn(d0, d1, d2,...) 함수\n",
        "```\n",
        "\n",
        "* 평균이 0이고 표준편차가 1인 표준정규분포(standard normal distribution)를 따르는 난수들의 배열을 생성.\n",
        "* `d0, d1, d2, ...` : ndarray의 각 차원의 원소의 개수."
      ],
      "metadata": {
        "id": "y05G7X5LFFGN"
      }
    },
    {
      "cell_type": "code",
      "source": [
        "np.random.randn(5)"
      ],
      "metadata": {
        "colab": {
          "base_uri": "https://localhost:8080/"
        },
        "id": "Xhtt5CJdEors",
        "outputId": "2d184e03-597a-4fbd-d50b-99fb6864298d"
      },
      "execution_count": null,
      "outputs": [
        {
          "output_type": "execute_result",
          "data": {
            "text/plain": [
              "array([ 1.13790914, -0.39178843, -0.32948307,  1.69362193, -1.16299398])"
            ]
          },
          "metadata": {},
          "execution_count": 55
        }
      ]
    },
    {
      "cell_type": "code",
      "source": [
        "np.random.randn(3,4)"
      ],
      "metadata": {
        "colab": {
          "base_uri": "https://localhost:8080/"
        },
        "id": "xpSfcGUEF__5",
        "outputId": "24bab05b-bc1e-4339-9ffd-ca820098db74"
      },
      "execution_count": null,
      "outputs": [
        {
          "output_type": "execute_result",
          "data": {
            "text/plain": [
              "array([[-0.63189966,  0.84928956, -1.2979192 , -1.56736736],\n",
              "       [ 2.31211326,  0.01375439, -1.77745401,  0.03512053],\n",
              "       [-0.21320561,  1.09363599, -1.44317095,  0.63474665]])"
            ]
          },
          "metadata": {},
          "execution_count": 56
        }
      ]
    },
    {
      "cell_type": "markdown",
      "source": [
        "```\n",
        "np.random.randint(low, high, size, dtype)함수\n",
        "```\n",
        "* `[low, high)` 범위의 균등분포를 따르는 정수 난수들의 배열 생성.\n",
        "*  `size` : ndarray의 모양(shape). 정수 또는 정수들의 tuple.\n",
        "* `dtype`: int8, int16, int32, int64"
      ],
      "metadata": {
        "id": "yagJctZhGZPg"
      }
    },
    {
      "cell_type": "code",
      "source": [
        "# 0 이상 10 미만의 정수 난수 5개로 이루어진 리스트\n",
        "np.random.randint(0, 10, size=5)"
      ],
      "metadata": {
        "colab": {
          "base_uri": "https://localhost:8080/"
        },
        "id": "cqONKuHiGB4e",
        "outputId": "90d42b54-871a-44f3-e0b2-6ed23593a652"
      },
      "execution_count": null,
      "outputs": [
        {
          "output_type": "execute_result",
          "data": {
            "text/plain": [
              "array([2, 9, 7, 1, 0])"
            ]
          },
          "metadata": {},
          "execution_count": 58
        }
      ]
    },
    {
      "cell_type": "code",
      "source": [
        "np.random.randint(0,10, size=(3,4))"
      ],
      "metadata": {
        "colab": {
          "base_uri": "https://localhost:8080/"
        },
        "id": "mIFOEE19HN0t",
        "outputId": "d745c844-4b56-4a39-acde-46c7c76c3533"
      },
      "execution_count": null,
      "outputs": [
        {
          "output_type": "execute_result",
          "data": {
            "text/plain": [
              "array([[3, 4, 9, 5],\n",
              "       [7, 6, 9, 9],\n",
              "       [1, 8, 1, 2]])"
            ]
          },
          "metadata": {},
          "execution_count": 59
        }
      ]
    },
    {
      "cell_type": "markdown",
      "source": [
        "# np.ndarry활용 - 그래프"
      ],
      "metadata": {
        "id": "5U5NjcrsLgkx"
      }
    },
    {
      "cell_type": "code",
      "source": [
        "x = np.arange(-3,4)\n",
        "print(x)"
      ],
      "metadata": {
        "colab": {
          "base_uri": "https://localhost:8080/"
        },
        "id": "dgPUlhdhHWSR",
        "outputId": "b94813a0-48cd-4abe-e4d7-d6c563b407bf"
      },
      "execution_count": null,
      "outputs": [
        {
          "output_type": "stream",
          "name": "stdout",
          "text": [
            "[-3 -2 -1  0  1  2  3]\n"
          ]
        }
      ]
    },
    {
      "cell_type": "code",
      "source": [
        "y = x ** 2\n",
        "print(y)"
      ],
      "metadata": {
        "colab": {
          "base_uri": "https://localhost:8080/"
        },
        "id": "mh5mb4tbLnVv",
        "outputId": "4ab27efb-6dfd-4464-f9f5-3a9d08c6e77c"
      },
      "execution_count": null,
      "outputs": [
        {
          "output_type": "stream",
          "name": "stdout",
          "text": [
            "[9 4 1 0 1 4 9]\n"
          ]
        }
      ]
    },
    {
      "cell_type": "code",
      "source": [
        "import matplotlib.pylab as plt"
      ],
      "metadata": {
        "id": "wwgWg7x5Lp45"
      },
      "execution_count": null,
      "outputs": []
    },
    {
      "cell_type": "code",
      "source": [
        "plt.plot(x,y)\n",
        "plt.grid()\n",
        "plt.show()"
      ],
      "metadata": {
        "colab": {
          "base_uri": "https://localhost:8080/",
          "height": 265
        },
        "id": "eIAyoOEgMNfD",
        "outputId": "3ac0178e-dc69-4246-a406-21501229b7fa"
      },
      "execution_count": null,
      "outputs": [
        {
          "output_type": "display_data",
          "data": {
            "text/plain": [
              "<Figure size 432x288 with 1 Axes>"
            ],
            "image/png": "[encoded data removed]"
          },
          "metadata": {
            "needs_background": "light"
          }
        }
      ]
    },
    {
      "cell_type": "code",
      "source": [
        "x = np.arange(-3,3,0.001)\n",
        "y = x ** 2\n",
        "print(x)\n",
        "print(y)"
      ],
      "metadata": {
        "colab": {
          "base_uri": "https://localhost:8080/"
        },
        "id": "K9qKAGYkMP3Y",
        "outputId": "22040611-954d-45f0-90a1-f4b79033e36e"
      },
      "execution_count": null,
      "outputs": [
        {
          "output_type": "stream",
          "name": "stdout",
          "text": [
            "[-3.    -2.999 -2.998 ...  2.997  2.998  2.999]\n",
            "[9.       8.994001 8.988004 ... 8.982009 8.988004 8.994001]\n"
          ]
        }
      ]
    },
    {
      "cell_type": "code",
      "source": [
        "plt.plot(x, y)\n",
        "plt.grid()\n",
        "plt.show()"
      ],
      "metadata": {
        "colab": {
          "base_uri": "https://localhost:8080/",
          "height": 265
        },
        "id": "YOIpz60-MwrE",
        "outputId": "c26f85a9-cdf3-457a-cfe6-9e57d7144a3c"
      },
      "execution_count": null,
      "outputs": [
        {
          "output_type": "display_data",
          "data": {
            "text/plain": [
              "<Figure size 432x288 with 1 Axes>"
            ],
            "image/png": "[encoded data removed]"
          },
          "metadata": {
            "needs_background": "light"
          }
        }
      ]
    },
    {
      "cell_type": "markdown",
      "source": [
        "# Array Index"
      ],
      "metadata": {
        "id": "d4-gfohYOBK6"
      }
    },
    {
      "cell_type": "code",
      "source": [
        "arr = np.arange(10)\n",
        "print(arr)"
      ],
      "metadata": {
        "colab": {
          "base_uri": "https://localhost:8080/"
        },
        "id": "okyNQgr5Mz_7",
        "outputId": "6e2d38f9-a6ff-4864-83bf-e773ec4a282a"
      },
      "execution_count": null,
      "outputs": [
        {
          "output_type": "stream",
          "name": "stdout",
          "text": [
            "[0 1 2 3 4 5 6 7 8 9]\n"
          ]
        }
      ]
    },
    {
      "cell_type": "code",
      "source": [
        "# indexing: 인덱스를 사용해서 배열의 원소를 참조\n",
        "print(arr[0]) # 시작 인덱스 = 0\n",
        "print(arr[9]) # 마지막 인덱스 = 원소 개수 - 1\n",
        "print(arr[-1]) # 끝에서 첫번째 원소"
      ],
      "metadata": {
        "colab": {
          "base_uri": "https://localhost:8080/"
        },
        "id": "Fd3dOiHLOGla",
        "outputId": "deb2b2e8-5a72-4048-b34c-a0b5054805bf"
      },
      "execution_count": null,
      "outputs": [
        {
          "output_type": "stream",
          "name": "stdout",
          "text": [
            "0\n",
            "9\n",
            "9\n"
          ]
        }
      ]
    },
    {
      "cell_type": "code",
      "source": [
        "# slicing : [start, end) 범위의 원소들로 이루어진 배열\n",
        "print(arr[0:5])\n",
        "print(arr[:5]) # 앞에서 5개를 선택한 배열\n",
        "print(arr[-5:]) # 뒤에서 5개를 선택한 배열"
      ],
      "metadata": {
        "colab": {
          "base_uri": "https://localhost:8080/"
        },
        "id": "72_x1uSPObmy",
        "outputId": "29b2f8a5-fdd4-478d-dc78-82f1d1b30c64"
      },
      "execution_count": null,
      "outputs": [
        {
          "output_type": "stream",
          "name": "stdout",
          "text": [
            "[0 1 2 3 4]\n",
            "[0 1 2 3 4]\n",
            "[5 6 7 8 9]\n"
          ]
        }
      ]
    },
    {
      "cell_type": "code",
      "source": [
        "print(arr[:1]) # slicing의 결과는 배열.\n",
        "print(arr[0])"
      ],
      "metadata": {
        "colab": {
          "base_uri": "https://localhost:8080/"
        },
        "id": "kS8cnV6ROqqC",
        "outputId": "78707123-772c-45f3-8705-f2cee1c4c9b1"
      },
      "execution_count": null,
      "outputs": [
        {
          "output_type": "stream",
          "name": "stdout",
          "text": [
            "[0]\n",
            "0\n"
          ]
        }
      ]
    },
    {
      "cell_type": "markdown",
      "source": [
        "## fancy indexing\n",
        "\n",
        "* 배열과 비슷한 객체(ndarry, list, typle, ...)를 사용해서 indexing하는 방법.\n",
        "* fency indexing의 결과는 ndarray."
      ],
      "metadata": {
        "id": "8iHCKqJeP_9Z"
      }
    },
    {
      "cell_type": "code",
      "source": [
        "np.random.seed(1) # 난수 생성 순서 고정\n",
        "arr = np.random.randint(100, size=10) # 0이상 100 미만의 정수 난수 10개로 이루어진 1차원 배열\n",
        "print(arr)"
      ],
      "metadata": {
        "colab": {
          "base_uri": "https://localhost:8080/"
        },
        "id": "oCxzzRE5PhLg",
        "outputId": "cb7fa2cf-a90d-4079-ea82-5ae57e1a26f1"
      },
      "execution_count": null,
      "outputs": [
        {
          "output_type": "stream",
          "name": "stdout",
          "text": [
            "[37 12 72  9 75  5 79 64 16  1]\n"
          ]
        }
      ]
    },
    {
      "cell_type": "code",
      "source": [
        "arr[[0, 2, 4]]"
      ],
      "metadata": {
        "colab": {
          "base_uri": "https://localhost:8080/"
        },
        "id": "I3v09VS_QkUS",
        "outputId": "06c6a217-0021-4e98-d6a1-39fcbbb1c1de"
      },
      "execution_count": null,
      "outputs": [
        {
          "output_type": "execute_result",
          "data": {
            "text/plain": [
              "array([37, 72, 75])"
            ]
          },
          "metadata": {},
          "execution_count": 89
        }
      ]
    },
    {
      "cell_type": "code",
      "source": [
        "print(arr[1]) #> indexing : 숫자 1개\n",
        "print(arr[[1]]) #> fancy indexing : 숫자 1개로 이루어진 배열"
      ],
      "metadata": {
        "colab": {
          "base_uri": "https://localhost:8080/"
        },
        "id": "WRkm41TKRAfe",
        "outputId": "c0b72032-7eb2-4a24-d212-1e4a859ce6e2"
      },
      "execution_count": null,
      "outputs": [
        {
          "output_type": "stream",
          "name": "stdout",
          "text": [
            "12\n",
            "[12]\n"
          ]
        }
      ]
    },
    {
      "cell_type": "markdown",
      "source": [
        "## boolean indexing\n",
        "\n",
        "* 논리값들의 배열(리스트, 튜플)을 사용한 fancy indexing.\n",
        "* 배열에서 조건을 만족하는 원소들로 이루어진 부분집합(ndarray)를 생성"
      ],
      "metadata": {
        "id": "UA2zVbA6R2de"
      }
    },
    {
      "cell_type": "code",
      "source": [
        "print(arr)"
      ],
      "metadata": {
        "colab": {
          "base_uri": "https://localhost:8080/"
        },
        "id": "OgKhx0jaRa1w",
        "outputId": "41c28e85-edfb-4dcb-f8f6-55540358f724"
      },
      "execution_count": null,
      "outputs": [
        {
          "output_type": "stream",
          "name": "stdout",
          "text": [
            "[37 12 72  9 75  5 79 64 16  1]\n"
          ]
        }
      ]
    },
    {
      "cell_type": "code",
      "source": [
        "indices = [False, True, True, False, False, False, False, True, True , False]\n",
        "arr[indices]"
      ],
      "metadata": {
        "colab": {
          "base_uri": "https://localhost:8080/"
        },
        "id": "FYGKXiJBSPxM",
        "outputId": "a374d17c-c86f-41bc-9406-dd1da6e1c24f"
      },
      "execution_count": null,
      "outputs": [
        {
          "output_type": "execute_result",
          "data": {
            "text/plain": [
              "array([12, 72, 64, 16])"
            ]
          },
          "metadata": {},
          "execution_count": 94
        }
      ]
    },
    {
      "cell_type": "code",
      "source": [
        "arr[arr % 2 ==1]"
      ],
      "metadata": {
        "colab": {
          "base_uri": "https://localhost:8080/"
        },
        "id": "coIBHBgUS5bc",
        "outputId": "93cb4d20-a3b6-4df8-9220-a12dd8d2520d"
      },
      "execution_count": null,
      "outputs": [
        {
          "output_type": "execute_result",
          "data": {
            "text/plain": [
              "array([37,  9, 75,  5, 79,  1])"
            ]
          },
          "metadata": {},
          "execution_count": 98
        }
      ]
    },
    {
      "cell_type": "markdown",
      "source": [
        "# NumPy 통계 함수/메서드\n",
        "\n",
        "```\n",
        "np.function_name(array) 함수\n",
        "np.ndarray.method_name() 메서드\n",
        "```"
      ],
      "metadata": {
        "id": "vyGn4z6iY9-J"
      }
    },
    {
      "cell_type": "code",
      "source": [
        "print(arr)"
      ],
      "metadata": {
        "colab": {
          "base_uri": "https://localhost:8080/"
        },
        "id": "7ou8X_mhTGfy",
        "outputId": "21d0018a-3eb3-4d38-ac0d-7567a2b0f991"
      },
      "execution_count": null,
      "outputs": [
        {
          "output_type": "stream",
          "name": "stdout",
          "text": [
            "[37 12 72  9 75  5 79 64 16  1]\n"
          ]
        }
      ]
    },
    {
      "cell_type": "code",
      "source": [
        "# 평균\n",
        "print(np.mean(arr)) # 함수 호출\n",
        "print(arr.mean())   # 메서드 호출"
      ],
      "metadata": {
        "colab": {
          "base_uri": "https://localhost:8080/"
        },
        "id": "IDF_nJODZcSD",
        "outputId": "931e6b8b-1b82-4a54-b972-7a5eba9ca2d1"
      },
      "execution_count": null,
      "outputs": [
        {
          "output_type": "stream",
          "name": "stdout",
          "text": [
            "37.0\n",
            "37.0\n"
          ]
        }
      ]
    },
    {
      "cell_type": "code",
      "source": [
        "print('합계:', np.sum(arr), arr.sum())\n",
        "print('평균:', np.mean(arr), arr.mean())\n",
        "print('분산:', np.var(arr), arr.var()) # variance\n",
        "print('표준편차:', np.std(arr), arr.std()) # standard deviation\n",
        "print('최댓값:', np.max(arr), arr.max())\n",
        "print('최솟값:', np.min(arr), arr.min())\n",
        "print('중앙값:', np.median(arr)) # ndarray는 중앙값을 리턴하는 메서드를 제공하지 않음!"
      ],
      "metadata": {
        "colab": {
          "base_uri": "https://localhost:8080/"
        },
        "id": "v6KZOF4FZm4k",
        "outputId": "9a70e30b-6887-4bb6-c7c8-5657a1dbaf6b"
      },
      "execution_count": null,
      "outputs": [
        {
          "output_type": "stream",
          "name": "stdout",
          "text": [
            "합계: 370 370\n",
            "평균: 37.0 37.0\n",
            "분산: 933.2 933.2\n",
            "표준편차: 30.548322376196047 30.548322376196047\n",
            "최댓값: 79 79\n",
            "최솟값: 1 1\n",
            "중앙값: 26.5\n"
          ]
        }
      ]
    },
    {
      "cell_type": "code",
      "source": [
        "np.sort(arr)"
      ],
      "metadata": {
        "colab": {
          "base_uri": "https://localhost:8080/"
        },
        "id": "CNfJUqchaUTX",
        "outputId": "770e3eb1-1927-4419-d511-689a080cb520"
      },
      "execution_count": null,
      "outputs": [
        {
          "output_type": "execute_result",
          "data": {
            "text/plain": [
              "array([ 1,  5,  9, 12, 16, 37, 64, 72, 75, 79])"
            ]
          },
          "metadata": {},
          "execution_count": 108
        }
      ]
    },
    {
      "cell_type": "code",
      "source": [
        "(16 + 37) / 2"
      ],
      "metadata": {
        "colab": {
          "base_uri": "https://localhost:8080/"
        },
        "id": "gKZC70RIbnaR",
        "outputId": "ab3e5c37-a3e0-413b-9de7-a598cc1a0463"
      },
      "execution_count": null,
      "outputs": [
        {
          "output_type": "execute_result",
          "data": {
            "text/plain": [
              "26.5"
            ]
          },
          "metadata": {},
          "execution_count": 109
        }
      ]
    },
    {
      "cell_type": "markdown",
      "source": [
        "## 2차원 배열에서의 통계 함수/메서드"
      ],
      "metadata": {
        "id": "b3ubwe8hch0D"
      }
    },
    {
      "cell_type": "code",
      "source": [
        "np.random.seed(2)\n",
        "arr = np.random.randint(100, size = (3,4))\n",
        "print(arr)"
      ],
      "metadata": {
        "colab": {
          "base_uri": "https://localhost:8080/"
        },
        "id": "gLw76vRJcgZd",
        "outputId": "90cf4f17-7790-4349-ccd2-88abd3ed335f"
      },
      "execution_count": null,
      "outputs": [
        {
          "output_type": "stream",
          "name": "stdout",
          "text": [
            "[[40 15 72 22]\n",
            " [43 82 75  7]\n",
            " [34 49 95 75]]\n"
          ]
        }
      ]
    },
    {
      "cell_type": "code",
      "source": [
        "# 2차원 배열의 모든 원소들의 합\n",
        "np.sum(arr) # arr.sum()"
      ],
      "metadata": {
        "colab": {
          "base_uri": "https://localhost:8080/"
        },
        "id": "H1xwpbQtcz5c",
        "outputId": "a27e20d2-62d0-4052-afa9-66ddcf786bae"
      },
      "execution_count": null,
      "outputs": [
        {
          "output_type": "execute_result",
          "data": {
            "text/plain": [
              "609"
            ]
          },
          "metadata": {},
          "execution_count": 112
        }
      ]
    },
    {
      "cell_type": "code",
      "source": [
        "# row index가 증가하는 방향으로 원소들의 합\n",
        "np.sum(arr, axis=0) # arr.sum(axis=0)"
      ],
      "metadata": {
        "colab": {
          "base_uri": "https://localhost:8080/"
        },
        "id": "kItetXG2d5l6",
        "outputId": "edbcf2d9-b8c2-4568-bf3a-20499f0e1f8c"
      },
      "execution_count": null,
      "outputs": [
        {
          "output_type": "execute_result",
          "data": {
            "text/plain": [
              "array([117, 146, 242, 104])"
            ]
          },
          "metadata": {},
          "execution_count": 113
        }
      ]
    },
    {
      "cell_type": "code",
      "source": [
        "# column index가 증가하는 방향으로 원소들의 합\n",
        "np.sum(arr, axis=1) # arr.sum(axis=1)"
      ],
      "metadata": {
        "colab": {
          "base_uri": "https://localhost:8080/"
        },
        "id": "SbEuJ9DwebmY",
        "outputId": "e0e62ab9-711c-4523-f1c6-d1aa2debf743"
      },
      "execution_count": null,
      "outputs": [
        {
          "output_type": "execute_result",
          "data": {
            "text/plain": [
              "array([149, 207, 253])"
            ]
          },
          "metadata": {},
          "execution_count": 114
        }
      ]
    },
    {
      "cell_type": "code",
      "source": [
        "np.sum(arr, axis=1, keepdims=True) # arr.sum(axis=1, keepdims=True)"
      ],
      "metadata": {
        "colab": {
          "base_uri": "https://localhost:8080/"
        },
        "id": "bOx0wzHjevYu",
        "outputId": "158825e4-1cb1-41a0-f81d-69feba4236f3"
      },
      "execution_count": null,
      "outputs": [
        {
          "output_type": "execute_result",
          "data": {
            "text/plain": [
              "array([[149],\n",
              "       [207],\n",
              "       [253]])"
            ]
          },
          "metadata": {},
          "execution_count": 115
        }
      ]
    },
    {
      "cell_type": "code",
      "source": [
        "# 전체 원소의 평균\n",
        "np.mean(arr)"
      ],
      "metadata": {
        "colab": {
          "base_uri": "https://localhost:8080/"
        },
        "id": "4zd-2i9Oe-Fz",
        "outputId": "fb840cef-8846-4131-b965-2dd24afebe36"
      },
      "execution_count": null,
      "outputs": [
        {
          "output_type": "execute_result",
          "data": {
            "text/plain": [
              "50.75"
            ]
          },
          "metadata": {},
          "execution_count": 116
        }
      ]
    },
    {
      "cell_type": "code",
      "source": [
        "# row index가 증가하는 방향으로 원소들의 평균\n",
        "np.mean(arr, axis=0, keepdims=True)"
      ],
      "metadata": {
        "colab": {
          "base_uri": "https://localhost:8080/"
        },
        "id": "FUaHIWSuf2QK",
        "outputId": "1c07cf0e-dc16-432c-d893-6c91725bb153"
      },
      "execution_count": null,
      "outputs": [
        {
          "output_type": "execute_result",
          "data": {
            "text/plain": [
              "array([[39.        , 48.66666667, 80.66666667, 34.66666667]])"
            ]
          },
          "metadata": {},
          "execution_count": 119
        }
      ]
    },
    {
      "cell_type": "code",
      "source": [
        "# column index가 증가하는 방향으로 원소들의 평균\n",
        "np.mean(arr, axis=1, keepdims=True)"
      ],
      "metadata": {
        "colab": {
          "base_uri": "https://localhost:8080/"
        },
        "id": "dMjQtdyOf4lq",
        "outputId": "53583efe-65a7-4bfe-d1aa-a3af77ecdd0c"
      },
      "execution_count": null,
      "outputs": [
        {
          "output_type": "execute_result",
          "data": {
            "text/plain": [
              "array([[37.25],\n",
              "       [51.75],\n",
              "       [63.25]])"
            ]
          },
          "metadata": {},
          "execution_count": 120
        }
      ]
    },
    {
      "cell_type": "markdown",
      "source": [
        "# Ex. \n",
        "\n",
        "* 0 이상 100 미만의 정수 난수 10개로 이루어진 1차원 배열을 생성, 출력\n",
        "* 배열에서 평균값보다 큰 값들로 이루어진 배열을 만들고 출력.(boolean indexing)"
      ],
      "metadata": {
        "id": "wOw4mXuYg28V"
      }
    },
    {
      "cell_type": "code",
      "source": [
        "# 100미만의 정수 난수 10개 생성\n",
        "arr = np.random.randint(100, size=10)\n",
        "print(arr)"
      ],
      "metadata": {
        "colab": {
          "base_uri": "https://localhost:8080/"
        },
        "id": "a1qDxh59gF-4",
        "outputId": "e84a3d38-8aee-4e2a-a1e1-3ac2038cbf91"
      },
      "execution_count": null,
      "outputs": [
        {
          "output_type": "stream",
          "name": "stdout",
          "text": [
            "[42 51 38 33 58 67 69 88 68 46]\n"
          ]
        }
      ]
    },
    {
      "cell_type": "code",
      "source": [
        "# 평균 구하기\n",
        "np.mean(arr)"
      ],
      "metadata": {
        "colab": {
          "base_uri": "https://localhost:8080/"
        },
        "id": "fnljonlchSMU",
        "outputId": "d2036547-8cdf-447a-c70f-278aade8c2c6"
      },
      "execution_count": null,
      "outputs": [
        {
          "output_type": "execute_result",
          "data": {
            "text/plain": [
              "56.0"
            ]
          },
          "metadata": {},
          "execution_count": 127
        }
      ]
    },
    {
      "cell_type": "code",
      "source": [
        "# 평균 보다 큰 숫자 출력\n",
        "arr[arr>np.mean(arr)]"
      ],
      "metadata": {
        "colab": {
          "base_uri": "https://localhost:8080/"
        },
        "id": "U6eAkccHhY3J",
        "outputId": "45d230cb-8d02-499f-cefb-2a0bd8379af5"
      },
      "execution_count": null,
      "outputs": [
        {
          "output_type": "execute_result",
          "data": {
            "text/plain": [
              "array([58, 67, 69, 88, 68])"
            ]
          },
          "metadata": {},
          "execution_count": 128
        }
      ]
    },
    {
      "cell_type": "code",
      "source": [
        ""
      ],
      "metadata": {
        "id": "6v3xdA60h0ZQ"
      },
      "execution_count": null,
      "outputs": []
    }
  ]
}