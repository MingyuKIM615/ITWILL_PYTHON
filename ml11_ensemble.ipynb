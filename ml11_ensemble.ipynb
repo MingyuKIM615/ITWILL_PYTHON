{
  "nbformat": 4,
  "nbformat_minor": 0,
  "metadata": {
    "colab": {
      "name": "ml11_ensemble.ipynb",
      "provenance": [],
      "collapsed_sections": [
        "he8L9PyTLfqB",
        "zs9_OQ46Rb3y",
        "B9hL5AryS258",
        "7IN2HeDNZj7v",
        "V1tPqeJjghTk"
      ],
      "authorship_tag": "ABX9TyPqsPlKXofBsI4CjM+3JLqf",
      "include_colab_link": true
    },
    "kernelspec": {
      "name": "python3",
      "display_name": "Python 3"
    },
    "language_info": {
      "name": "python"
    }
  },
  "cells": [
    {
      "cell_type": "markdown",
      "metadata": {
        "id": "view-in-github",
        "colab_type": "text"
      },
      "source": [
        "<a href=\"https://colab.research.google.com/github/MingyuKIM615/ITWILL_PYTHON/blob/master/ml11_ensemble.ipynb\" target=\"_parent\"><img src=\"https://colab.research.google.com/assets/colab-badge.svg\" alt=\"Open In Colab\"/></a>"
      ]
    },
    {
      "cell_type": "markdown",
      "source": [
        "# Ensemble Learning(앙상블 학습 방법)\n",
        "\n",
        "* 앙상블(ensemble): 머신 러닝에서 사용되는 일련의 모델(알고리즘)들.\n",
        "    * 서로 다른 모델 여러개를 학습시키는 방법.\n",
        "    * 한 가지 모델을 서로 다른 훈련 셋에서 학습시키는 방법.\n",
        "* 앙상블 학습 방법\n",
        "    * 투표(voting) 방식: 여러 모델을 학습시켜서 각각의 예측값들을 투표(다수결) 또는 평균값으로 예측하는 방식\n",
        "    * __Bagging(Bootstrap Aggregating)__: 중복을 허용해서 샘플링한 훈련 셋의 부분집합들을 하나의 알고리즘에 학습시켜서 예측(다수결, 평균)하는 방법.\n",
        "    * Pasting: 중복을 허용하지 않고 샘플링한 훈련 셋의 부분집합들을 하나의 알고리즘에 학습시켜서 예측하는 방법.\n",
        "* __Random Forest__: Bagging을 사용한 Decision Tree들의 Ensemble 학습 방법"
      ],
      "metadata": {
        "id": "he8L9PyTLfqB"
      }
    },
    {
      "cell_type": "markdown",
      "source": [
        "# Imports"
      ],
      "metadata": {
        "id": "zs9_OQ46Rb3y"
      }
    },
    {
      "cell_type": "code",
      "execution_count": null,
      "metadata": {
        "id": "-B8OU1vPLYBJ"
      },
      "outputs": [],
      "source": [
        "import numpy as np\n",
        "import pandas as pd\n",
        "import matplotlib.pyplot as plt\n",
        "\n",
        "from sklearn.datasets import make_moons\n",
        "from sklearn.model_selection import train_test_split, cross_validate, cross_val_score\n",
        "from sklearn.neighbors import KNeighborsClassifier\n",
        "from sklearn.linear_model import LogisticRegression, SGDClassifier\n",
        "from sklearn.tree import DecisionTreeClassifier\n",
        "from sklearn.svm import SVC # SVM(Support Vecter Machine)을 사용한 분류 알고리즘.\n",
        "from sklearn.ensemble import VotingClassifier, BaggingClassifier, RandomForestClassifier"
      ]
    },
    {
      "cell_type": "markdown",
      "source": [
        "# Datasets 준비\n",
        "\n",
        "2개의 특성(x1, x2)과 2개 클래스(0, 1)를 갖는 가상의 데이터 셋 - 분류(classificaiton) 문제"
      ],
      "metadata": {
        "id": "B9hL5AryS258"
      }
    },
    {
      "cell_type": "code",
      "source": [
        "X, y = make_moons(n_samples=500, noise=0.3, random_state=42)"
      ],
      "metadata": {
        "id": "HS4FKvESSx2W"
      },
      "execution_count": null,
      "outputs": []
    },
    {
      "cell_type": "code",
      "source": [
        "X.shape, y.shape"
      ],
      "metadata": {
        "colab": {
          "base_uri": "https://localhost:8080/"
        },
        "id": "D4Q36OSrTkcx",
        "outputId": "16b6a579-3ffe-4fe0-bb23-e44bb1314dbf"
      },
      "execution_count": null,
      "outputs": [
        {
          "output_type": "execute_result",
          "data": {
            "text/plain": [
              "((500, 2), (500,))"
            ]
          },
          "metadata": {},
          "execution_count": 3
        }
      ]
    },
    {
      "cell_type": "code",
      "source": [
        "np.unique(y, return_counts = True)"
      ],
      "metadata": {
        "colab": {
          "base_uri": "https://localhost:8080/"
        },
        "id": "OdRhpVtaTpeY",
        "outputId": "acc9f9c5-7802-4cb4-b6e9-690a7caf1a83"
      },
      "execution_count": null,
      "outputs": [
        {
          "output_type": "execute_result",
          "data": {
            "text/plain": [
              "(array([0, 1]), array([250, 250]))"
            ]
          },
          "metadata": {},
          "execution_count": 6
        }
      ]
    },
    {
      "cell_type": "code",
      "source": [
        "# 데이터 셋 시각화\n",
        "plt.scatter(X[y == 0, 0], X[y==0, 1], label='class-0')\n",
        "plt.scatter(X[y== 1, 0], X[y==1, 1], label='class-1')\n",
        "\n",
        "plt.xlabel('$X_1$')\n",
        "plt.ylabel('$X_2$')\n",
        "plt.legend()\n",
        "plt.grid()\n",
        "plt.show()"
      ],
      "metadata": {
        "colab": {
          "base_uri": "https://localhost:8080/",
          "height": 283
        },
        "id": "SCqvjrB2T0RM",
        "outputId": "4fac16fd-1992-4d13-e742-58edb302cf48"
      },
      "execution_count": null,
      "outputs": [
        {
          "output_type": "display_data",
          "data": {
            "text/plain": [
              "<Figure size 432x288 with 1 Axes>"
            ],
            "image/png": "[encoded data removed]"
          },
          "metadata": {
            "needs_background": "light"
          }
        }
      ]
    },
    {
      "cell_type": "code",
      "source": [
        "# 훈련/테스트 셋 분리\n",
        "X_train, X_test, y_train, y_test = train_test_split(X, y , test_size=0.2, stratify=y, random_state=42)"
      ],
      "metadata": {
        "id": "q5asupNqUYI0"
      },
      "execution_count": null,
      "outputs": []
    },
    {
      "cell_type": "code",
      "source": [
        "  X_train.shape, X_test.shape"
      ],
      "metadata": {
        "colab": {
          "base_uri": "https://localhost:8080/"
        },
        "id": "dUBPnipwVyGL",
        "outputId": "3ebb4081-4662-4866-82c4-ff75635941a7"
      },
      "execution_count": null,
      "outputs": [
        {
          "output_type": "execute_result",
          "data": {
            "text/plain": [
              "((400, 2), (100, 2))"
            ]
          },
          "metadata": {},
          "execution_count": 12
        }
      ]
    },
    {
      "cell_type": "markdown",
      "source": [
        "# 머신 러닝 모델 비교\n",
        "\n",
        "* 여러개의 머신 러닝 모델들을 훈련 셋(X_train, y_train)으로 학습시킴.\n",
        "    * KNN, Logisctic Regression, SGD, Decision Tree, SVM\n",
        "* 훈련된 각 모델의 교차 검증 점수(정확도)를 계산, 평가"
      ],
      "metadata": {
        "id": "7IN2HeDNZj7v"
      }
    },
    {
      "cell_type": "code",
      "source": [
        "knn = KNeighborsClassifier(n_jobs=-1)\n",
        "log_reg = LogisticRegression(random_state=42, n_jobs=-1)\n",
        "sgd = SGDClassifier(loss='log', random_state=42,n_jobs = -1) # loss='log' 이유: 분류 확률을 계산할 필요가 있을 때.\n",
        "tree = DecisionTreeClassifier(random_state=42)\n",
        "svm = SVC(probability=True, random_state=42)"
      ],
      "metadata": {
        "id": "ROI74ynmV09L"
      },
      "execution_count": null,
      "outputs": []
    },
    {
      "cell_type": "code",
      "source": [
        "classifiers = [knn, log_reg, sgd, tree, svm]\n",
        "for clf in classifiers:\n",
        "  cv = cross_validate(estimator=clf, X=X_train, y=y_train, n_jobs=-1, cv=5)\n",
        "  score = np.mean(cv['test_score'])\n",
        "  print(clf.__class__.__name__,'acc:', score)"
      ],
      "metadata": {
        "colab": {
          "base_uri": "https://localhost:8080/"
        },
        "id": "8rq9bq6eapYq",
        "outputId": "5dd11120-9528-4313-c544-d6ee032f88b2"
      },
      "execution_count": null,
      "outputs": [
        {
          "output_type": "stream",
          "name": "stdout",
          "text": [
            "KNeighborsClassifier acc: 0.9099999999999999\n",
            "LogisticRegression acc: 0.845\n",
            "SGDClassifier acc: 0.8375\n",
            "DecisionTreeClassifier acc: 0.8925000000000001\n",
            "SVC acc: 0.9225\n"
          ]
        }
      ]
    },
    {
      "cell_type": "markdown",
      "source": [
        "# Voting Enesemble"
      ],
      "metadata": {
        "id": "V1tPqeJjghTk"
      }
    },
    {
      "cell_type": "code",
      "source": [
        "voting = VotingClassifier(estimators = [('knn', knn),\n",
        "                                        ('log_reg', log_reg),\n",
        "                                        ('sgd', sgd),\n",
        "                                        ('tree', tree),\n",
        "                                        ('svm', svm)],\n",
        "                          voting='soft', n_jobs=-1)\n",
        "\n",
        "# VotingClassifier 파라미터\n",
        "#> estimators : 투표 방식 앙상블ㅇ르 만들기 위한 ML 모델들의 리스트\n",
        "#> voting: 투표 방식\n",
        "#>> hard: 모든 앙상블들이 동이랗게 1표씩 행사. 예측 확률을 계산할 필요가 없음.\n",
        "#>> soft: 각 모델의 예측값에 각 모델에서 예측된 예측 확률을 가중치로 곱한 값을 사용해서 예측.\n",
        "# 일반적으로, soft voting 방식이 hard voting 방식보다 성능이 더 좋다고 알려져 있음."
      ],
      "metadata": {
        "id": "G_5YHcXTdTjz"
      },
      "execution_count": null,
      "outputs": []
    },
    {
      "cell_type": "code",
      "source": [
        "cv = cross_validate(estimator=voting, X=X_train,y=y_train,cv=5, n_jobs=-1)"
      ],
      "metadata": {
        "id": "1GlTu7bHhoIc"
      },
      "execution_count": null,
      "outputs": []
    },
    {
      "cell_type": "code",
      "source": [
        "np.mean(cv['test_score'])"
      ],
      "metadata": {
        "colab": {
          "base_uri": "https://localhost:8080/"
        },
        "id": "1DhWlR9rho49",
        "outputId": "d62cedb4-53b7-48a8-d5a1-2e1374747a81"
      },
      "execution_count": null,
      "outputs": [
        {
          "output_type": "execute_result",
          "data": {
            "text/plain": [
              "0.9075000000000001"
            ]
          },
          "metadata": {},
          "execution_count": 22
        }
      ]
    },
    {
      "cell_type": "markdown",
      "source": [
        "# Bagging(Bootstrap Aggregating) Ensemble"
      ],
      "metadata": {
        "id": "GvQPV6ojnd-W"
      }
    },
    {
      "cell_type": "code",
      "source": [
        "bagging = BaggingClassifier(base_estimator=DecisionTreeClassifier(random_state=42),\n",
        "                            n_estimators=50,\n",
        "                            max_samples=100,\n",
        "                            bootstrap=True,\n",
        "                            oob_score=True,\n",
        "                            n_jobs=-1,\n",
        "                            random_state=42)"
      ],
      "metadata": {
        "id": "6Z-CkKiXkIff"
      },
      "execution_count": null,
      "outputs": []
    },
    {
      "cell_type": "markdown",
      "source": [
        "BaggingClassifier 파라미터:\n",
        "* base_estimator: 기본 예측기, 머신 러닝 알고리즘(모델) 객체\n",
        "* n_estimator: 앙상블을 만드는 예측기(머신 러닝 모델)의 개수\n",
        "* max_sampels: 훈련 셋의 부분집합이 가질 수 있는 최대 샘플 개수(정수) 또는 비율(0 ~ 1.0)\n",
        "* bootstrap: True(중복 허용 샘플링), False(중복 허용하지 않고 샘플링 - pasting)\n",
        "* oob_score: True(OOB 샘플들로 평가 점수 계산), False(OOB 샘플들로 평가 점수를 계산하지 않음). 기본값은 False.\n",
        "    * OOB(Out-Of-Bagging) 샘플: 중복을 허용해서 샘플링하는 (부분집합을 만드는) 동안에 한번도 샘플링되지 못하고 남아 있는 훈련 셋의 샘플들. 앙상블 학습 동안에 한번도 학습에 사용되지 못한 샘플들.\n",
        "    * OOB 샘플들 검증 셋(validation set)의 역할을 할 수 있음.\n",
        "    * 테스트 셋에서의 점수를 예상할 수 있음."
      ],
      "metadata": {
        "id": "3USuRc7-oIeY"
      }
    },
    {
      "cell_type": "code",
      "source": [
        "bagging.fit(X_train, y_train) # bagging ensemble 모델 훈련"
      ],
      "metadata": {
        "colab": {
          "base_uri": "https://localhost:8080/"
        },
        "id": "-EkktmLpoHkP",
        "outputId": "c39be913-60da-43fe-93b9-a75075745aad"
      },
      "execution_count": null,
      "outputs": [
        {
          "output_type": "execute_result",
          "data": {
            "text/plain": [
              "BaggingClassifier(base_estimator=DecisionTreeClassifier(random_state=42),\n",
              "                  max_samples=100, n_estimators=50, n_jobs=-1, oob_score=True,\n",
              "                  random_state=42)"
            ]
          },
          "metadata": {},
          "execution_count": 24
        }
      ]
    },
    {
      "cell_type": "code",
      "source": [
        "bagging.oob_score_ # OOB 샘플들로 계산한 정확도 --> 보통 테스트 셋의 점수와 비슷함."
      ],
      "metadata": {
        "colab": {
          "base_uri": "https://localhost:8080/"
        },
        "id": "jDhK_OjZrI7P",
        "outputId": "73ed33f1-5377-47e3-9120-e0dd44fb7bc3"
      },
      "execution_count": null,
      "outputs": [
        {
          "output_type": "execute_result",
          "data": {
            "text/plain": [
              "0.91"
            ]
          },
          "metadata": {},
          "execution_count": 25
        }
      ]
    },
    {
      "cell_type": "code",
      "source": [
        "bagging.score(X_test, y_test)"
      ],
      "metadata": {
        "colab": {
          "base_uri": "https://localhost:8080/"
        },
        "id": "ZDUBYswLrTXk",
        "outputId": "32084c1e-18bd-46a7-8e61-af346a04b04d"
      },
      "execution_count": null,
      "outputs": [
        {
          "output_type": "execute_result",
          "data": {
            "text/plain": [
              "0.9"
            ]
          },
          "metadata": {},
          "execution_count": 27
        }
      ]
    },
    {
      "cell_type": "markdown",
      "source": [
        "# Random Forest\n",
        "\n",
        "Decision Tree들을 사용하는 Bagging ensemble 학습 방법"
      ],
      "metadata": {
        "id": "UZ_LaYVWr-CE"
      }
    },
    {
      "cell_type": "code",
      "source": [
        "# Random Forest 분류기 객체 생성\n",
        "forest = RandomForestClassifier(n_estimators=50, max_samples=100, oob_score=True, n_jobs=-1, random_state=42)"
      ],
      "metadata": {
        "id": "gFwewIVeriEI"
      },
      "execution_count": null,
      "outputs": []
    },
    {
      "cell_type": "code",
      "source": [
        "# 모델 훈련\n",
        "forest.fit(X_train, y_train)"
      ],
      "metadata": {
        "colab": {
          "base_uri": "https://localhost:8080/"
        },
        "id": "0EagNlH7swkk",
        "outputId": "1c3257a5-e7d4-45d9-cc5a-9588354368df"
      },
      "execution_count": null,
      "outputs": [
        {
          "output_type": "execute_result",
          "data": {
            "text/plain": [
              "RandomForestClassifier(max_samples=100, n_estimators=50, n_jobs=-1,\n",
              "                       oob_score=True, random_state=42)"
            ]
          },
          "metadata": {},
          "execution_count": 29
        }
      ]
    },
    {
      "cell_type": "code",
      "source": [
        "# OOB 점수\n",
        "forest.oob_score_"
      ],
      "metadata": {
        "colab": {
          "base_uri": "https://localhost:8080/"
        },
        "id": "dTtI6tsAs6ZY",
        "outputId": "dc1f47d1-96f6-43ee-dcf1-f7a7669a2235"
      },
      "execution_count": null,
      "outputs": [
        {
          "output_type": "execute_result",
          "data": {
            "text/plain": [
              "0.9125"
            ]
          },
          "metadata": {},
          "execution_count": 30
        }
      ]
    },
    {
      "cell_type": "code",
      "source": [
        ""
      ],
      "metadata": {
        "id": "vNIRz740ZceD"
      },
      "execution_count": null,
      "outputs": []
    }
  ]
}