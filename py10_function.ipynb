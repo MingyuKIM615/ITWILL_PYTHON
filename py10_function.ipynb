{
  "nbformat": 4,
  "nbformat_minor": 0,
  "metadata": {
    "colab": {
      "name": "py10_function.ipynb",
      "provenance": [],
      "collapsed_sections": [],
      "authorship_tag": "ABX9TyOEdkRnyQ2vVGtdsI7r3abI",
      "include_colab_link": true
    },
    "kernelspec": {
      "name": "python3",
      "display_name": "Python 3"
    },
    "language_info": {
      "name": "python"
    }
  },
  "cells": [
    {
      "cell_type": "markdown",
      "metadata": {
        "id": "view-in-github",
        "colab_type": "text"
      },
      "source": [
        "<a href=\"https://colab.research.google.com/github/MingyuKIM615/ITWILL_PYTHON/blob/master/py10_function.ipynb\" target=\"_parent\"><img src=\"https://colab.research.google.com/assets/colab-badge.svg\" alt=\"Open In Colab\"/></a>"
      ]
    },
    {
      "cell_type": "markdown",
      "source": [
        "# 함수(Function)\n",
        "\n",
        "* **함수(function)**: 기증을 수행하는 코드 블록.\n",
        "* **인수(argument)**: 함수를 호출할 때, 함수에게 전달하는 값(들)\n",
        "* **매개변수(parameter)**: argument를 저장하기 위해서, 함수를 정의할 때 선언하는 (지역) 변수.\n",
        "* **변환 값(return value)**: 함수가 기능 수행의 결과로 반환하는 값.\n",
        "    * 반환 값이 있는 함수\n",
        "    * 반환 값이 없느 함수"
      ],
      "metadata": {
        "id": "yhu_T3_bOXDR"
      }
    },
    {
      "cell_type": "code",
      "source": [
        "result = len([1, 2, 3, 4, 5])\n",
        "# function: len\n",
        "# argument: [1, 2, 3, 4, 5]\n",
        "# 함수 호출(call, invoke) : len([1, 2, 3, 4, 5])\n",
        "# return value : 5"
      ],
      "metadata": {
        "id": "eyXqlmC5QDKw"
      },
      "execution_count": null,
      "outputs": []
    },
    {
      "cell_type": "code",
      "source": [
        "result"
      ],
      "metadata": {
        "colab": {
          "base_uri": "https://localhost:8080/"
        },
        "id": "c88TklypQJY7",
        "outputId": "11b854e8-8884-457b-92b2-167744086beb"
      },
      "execution_count": null,
      "outputs": [
        {
          "output_type": "execute_result",
          "data": {
            "text/plain": [
              "5"
            ]
          },
          "metadata": {},
          "execution_count": 2
        }
      ]
    },
    {
      "cell_type": "markdown",
      "source": [
        "# 함수 정의(선언) 방법\n",
        "\n",
        "```\n",
        "def function_name([param1, ...]):\n",
        "  [\"\"\"문서화 주석(documentaion comment): 함수에 대한 설명\"\"\"]\n",
        "  함수 기능 작성(코드)\n",
        "  [return 반환 값]\n",
        "```"
      ],
      "metadata": {
        "id": "NVEVI250U0BP"
      }
    },
    {
      "cell_type": "code",
      "source": [
        "def subtract(x, y):\n",
        "  \"\"\"\n",
        "  숫자 2개 (x, y)를 전달받아서, x - y를 반환하는 함수.\n",
        "  \"\"\"\n",
        "  return x - y"
      ],
      "metadata": {
        "id": "Ibj11EUMQJzr"
      },
      "execution_count": null,
      "outputs": []
    },
    {
      "cell_type": "code",
      "source": [
        "result = subtract(2, 1)\n",
        "result"
      ],
      "metadata": {
        "colab": {
          "base_uri": "https://localhost:8080/"
        },
        "id": "H7zym0SJXW7K",
        "outputId": "816c4e99-32f4-4497-f351-8b45a1abf62e"
      },
      "execution_count": null,
      "outputs": [
        {
          "output_type": "execute_result",
          "data": {
            "text/plain": [
              "1"
            ]
          },
          "metadata": {},
          "execution_count": 6
        }
      ]
    },
    {
      "cell_type": "markdown",
      "source": [
        "파이썬은 2개 이상의 값을 반환하는 함수를 정의할 수 있음."
      ],
      "metadata": {
        "id": "aW81qqwkYlxr"
      }
    },
    {
      "cell_type": "code",
      "source": [
        "def plus_and_minus(x, y):\n",
        "  \"\"\"\n",
        "  2개의 숫자 x, y를 전달받아서, x+y와 x-y를 반환하는 함수\n",
        "  \"\"\"\n",
        "  return x + y, x - y"
      ],
      "metadata": {
        "id": "QlLfbcv5XY41"
      },
      "execution_count": null,
      "outputs": []
    },
    {
      "cell_type": "code",
      "source": [
        "result = plus_and_minus(1,2)\n",
        "result #> tuple"
      ],
      "metadata": {
        "colab": {
          "base_uri": "https://localhost:8080/"
        },
        "id": "i_y_AmURY7by",
        "outputId": "83c482ca-e6f8-40cf-b34a-616fffec7cb3"
      },
      "execution_count": null,
      "outputs": [
        {
          "output_type": "execute_result",
          "data": {
            "text/plain": [
              "(3, -1)"
            ]
          },
          "metadata": {},
          "execution_count": 14
        }
      ]
    },
    {
      "cell_type": "code",
      "source": [
        "# tuple decomposition(분해): x, y = (3, -1)\n",
        "plus, minus = plus_and_minus(1, 2)\n",
        "print(plus)\n",
        "print(minus)"
      ],
      "metadata": {
        "colab": {
          "base_uri": "https://localhost:8080/"
        },
        "id": "XA4IpUAYZRJl",
        "outputId": "38809e77-66e5-46ad-a568-752be1f645dc"
      },
      "execution_count": null,
      "outputs": [
        {
          "output_type": "stream",
          "name": "stdout",
          "text": [
            "3\n",
            "-1\n"
          ]
        }
      ]
    },
    {
      "cell_type": "markdown",
      "source": [
        "값을 반환하지 않는 함수"
      ],
      "metadata": {
        "id": "4R9OU0Z1asV3"
      }
    },
    {
      "cell_type": "code",
      "source": [
        "def repeat_messages(message, n):\n",
        "  \"\"\"문자열 message와 양의 정수 n을 전달받아서,\n",
        "    전달받은 문자열을 n번 반복해서 출력하는 함수.\n",
        "  \"\"\"\n",
        "  for _ in range(n):\n",
        "    print(message)\n",
        "  return None \n",
        "  # 반환 값이 없다는 것을 명시적으로 작성.\n",
        "  # 반환 값이 없는 경우 return None 문장을 보통 생략함."
      ],
      "metadata": {
        "id": "N8e-oGGmadKS"
      },
      "execution_count": null,
      "outputs": []
    },
    {
      "cell_type": "code",
      "source": [
        "result = repeat_messages('안녕하세요', 3)"
      ],
      "metadata": {
        "colab": {
          "base_uri": "https://localhost:8080/"
        },
        "id": "4qCcxAnabiVC",
        "outputId": "2926bec6-3100-47cb-99d4-e2cbc05df142"
      },
      "execution_count": null,
      "outputs": [
        {
          "output_type": "stream",
          "name": "stdout",
          "text": [
            "안녕하세요\n",
            "안녕하세요\n",
            "안녕하세요\n",
            "None\n"
          ]
        }
      ]
    },
    {
      "cell_type": "code",
      "source": [
        "print(result) #> None: 값이 없다."
      ],
      "metadata": {
        "colab": {
          "base_uri": "https://localhost:8080/"
        },
        "id": "-PgD5k6db_Df",
        "outputId": "cce9532d-195e-441d-e6be-d42f1835cf8e"
      },
      "execution_count": null,
      "outputs": [
        {
          "output_type": "stream",
          "name": "stdout",
          "text": [
            "None\n"
          ]
        }
      ]
    },
    {
      "cell_type": "markdown",
      "source": [
        "# Ex 1.\n",
        "* 함수이름 : make_list\n",
        "* 기능: start이상 end 미만의 정수 난수 n개를 갖는 리스트를 반환."
      ],
      "metadata": {
        "id": "AFGdA4yGgNLa"
      }
    },
    {
      "cell_type": "code",
      "source": [
        "# 랜덤 함수 import\n",
        "import random"
      ],
      "metadata": {
        "id": "K6biSk5UhpD2"
      },
      "execution_count": null,
      "outputs": []
    },
    {
      "cell_type": "code",
      "source": [
        "# 함수 생성\n",
        "def make_list(start, end, n):\n",
        "  \"\"\"start이상 end 미만의 정수 난수 n개를 갖는 리스트를 반환.\n",
        "  \"\"\"\n",
        "  return [random.randrange(start, end) for _ in range(n)]"
      ],
      "metadata": {
        "id": "_ad2-ZppcH_Y"
      },
      "execution_count": null,
      "outputs": []
    },
    {
      "cell_type": "code",
      "source": [
        "# 함수 적용하기\n",
        "result = []\n",
        "result = make_list(1, 10, 3)\n",
        "print(result)"
      ],
      "metadata": {
        "colab": {
          "base_uri": "https://localhost:8080/"
        },
        "id": "6t882UkLiEwl",
        "outputId": "286a5763-77bd-49cf-a654-4bfe2ff68b16"
      },
      "execution_count": null,
      "outputs": [
        {
          "output_type": "stream",
          "name": "stdout",
          "text": [
            "[5, 7, 1]\n"
          ]
        }
      ]
    },
    {
      "cell_type": "markdown",
      "source": [
        "# Ex 2.\n",
        "* 함수이름 : calc_sum\n",
        "* 기능: 숫자들을 저장하고 있는 리스트의 모든 원소들의 합을 반환."
      ],
      "metadata": {
        "id": "2E1X2L9AgZZC"
      }
    },
    {
      "cell_type": "code",
      "source": [
        "# 함수 생성\n",
        "def calc_sum(number_list):\n",
        "  \"\"\"숫자들을 저장하고 있는 리스트의 모든 원소들의 합을 반환.\n",
        "  \"\"\"\n",
        "  return sum(number_list)"
      ],
      "metadata": {
        "id": "mUbUsVDrgly2"
      },
      "execution_count": null,
      "outputs": []
    },
    {
      "cell_type": "code",
      "source": [
        "# 함수 적용하기\n",
        "result = calc_sum([1, 2, 3, 4, 5, 6])\n",
        "print(result)"
      ],
      "metadata": {
        "colab": {
          "base_uri": "https://localhost:8080/"
        },
        "id": "X__1eWA4jOeb",
        "outputId": "51e477cd-6669-4046-cd3b-93093d535ba3"
      },
      "execution_count": null,
      "outputs": [
        {
          "output_type": "stream",
          "name": "stdout",
          "text": [
            "21\n"
          ]
        }
      ]
    },
    {
      "cell_type": "markdown",
      "source": [
        "# Ex 3.\n",
        "* 함수이름 : calc_mean\n",
        "* 기능: 숫자들을 저장하고 있는 리스트의 모든 원소들의 평균을 반환"
      ],
      "metadata": {
        "id": "Mz-_Uw_5gmCM"
      }
    },
    {
      "cell_type": "code",
      "source": [
        "# 함수 생성하기\n",
        "def calc_mean(number_list):\n",
        "  \"\"\"숫자들을 저장하고 있는 리스트의 모든 원소들의 평균을 반환\n",
        "  \"\"\"\n",
        "  return sum(number_list) / len(number_list)"
      ],
      "metadata": {
        "id": "iXd2i86Jgv0F"
      },
      "execution_count": null,
      "outputs": []
    },
    {
      "cell_type": "code",
      "source": [
        "# 함수 적용하기\n",
        "result = calc_mean([1,2,3,4,5])\n",
        "print(result)"
      ],
      "metadata": {
        "colab": {
          "base_uri": "https://localhost:8080/"
        },
        "id": "WdGQP5l1jqvl",
        "outputId": "2fce60f0-55b4-407c-d775-71afa4172b67"
      },
      "execution_count": null,
      "outputs": [
        {
          "output_type": "stream",
          "name": "stdout",
          "text": [
            "3.0\n"
          ]
        }
      ]
    },
    {
      "cell_type": "markdown",
      "source": [
        "# Ex 4.\n",
        "* 함수이름 : calc_variance\n",
        "* 기능: 숫자들을 저장하고 있는 리스트의 모든 원소들의 분산을 반환"
      ],
      "metadata": {
        "id": "Gw3xMuBSgwEB"
      }
    },
    {
      "cell_type": "code",
      "source": [
        "# 함수 생성\n",
        "def calc_variance(number_list):\n",
        "  \"\"\"숫자들을 저장하고 있는 리스트의 모든 원소들의 분산을 반환\n",
        "  \"\"\"\n",
        "  ss = 0\n",
        "  for x in number_list:\n",
        "    ss += (x - calc_mean(number_list)) ** 2\n",
        "  return ss / len(number_list)"
      ],
      "metadata": {
        "id": "GBVnVU2rg20z"
      },
      "execution_count": null,
      "outputs": []
    },
    {
      "cell_type": "code",
      "source": [
        "# 함수 적용\n",
        "result = calc_variance([1,2,3,4,5])\n",
        "print(result)"
      ],
      "metadata": {
        "colab": {
          "base_uri": "https://localhost:8080/"
        },
        "id": "MbEfSQtjlWev",
        "outputId": "09b51846-f09a-4788-8ab6-cb817c5df07c"
      },
      "execution_count": null,
      "outputs": [
        {
          "output_type": "stream",
          "name": "stdout",
          "text": [
            "2.0\n"
          ]
        }
      ]
    },
    {
      "cell_type": "markdown",
      "source": [
        "# Ex 5.\n",
        "* 함수이름 : calc_stddev\n",
        "* 기능: 숫자들을 저장하고 있는 리스트의 모든 원소들의 표준편차을 반환"
      ],
      "metadata": {
        "id": "JWHEmA0dg3Sq"
      }
    },
    {
      "cell_type": "code",
      "source": [
        "# 함수 생성\n",
        "def calc_stddev(number_list):\n",
        "  \"\"\"숫자들을 저장하고 있는 리스트의 모든 원소들의 표준편차을 반환\n",
        "  \"\"\"\n",
        "  return calc_variance(number_list) ** 0.5"
      ],
      "metadata": {
        "id": "XF5kLjWvg9iC"
      },
      "execution_count": null,
      "outputs": []
    },
    {
      "cell_type": "code",
      "source": [
        "# 함수 적용\n",
        "result = calc_stddev([1,2,3,4,5])\n",
        "print(result)"
      ],
      "metadata": {
        "colab": {
          "base_uri": "https://localhost:8080/"
        },
        "id": "HA2Ik1-AmUMg",
        "outputId": "a9c7df1e-3080-479b-a2ce-18bf0212338b"
      },
      "execution_count": null,
      "outputs": [
        {
          "output_type": "stream",
          "name": "stdout",
          "text": [
            "1.4142135623730951\n"
          ]
        }
      ]
    },
    {
      "cell_type": "markdown",
      "source": [
        "# Ex 6.\n",
        "* 함수이름 : calc_max_and_min\n",
        "* 기능: 숫자들을 저장하고 있는 리스트에서 최댓값과 최솟값을 반환"
      ],
      "metadata": {
        "id": "01B8-kTwg-Dd"
      }
    },
    {
      "cell_type": "code",
      "source": [
        "# 함수 생성\n",
        "def calc_max_and_min(number_list):\n",
        "  \"\"\"숫자들을 저장하고 있는 리스트에서 최댓값과 최솟값을 반환\n",
        "  \"\"\"\n",
        "  min = number_list[0]\n",
        "  max = number_list[0]\n",
        "  for x in number_list:\n",
        "    # 최솟값 구하기\n",
        "    if min > x:\n",
        "      min = x\n",
        "    # 최댓값 구하기\n",
        "    if max < x:\n",
        "      max = x\n",
        "  return min, max"
      ],
      "metadata": {
        "id": "uMxAZidLhGah"
      },
      "execution_count": null,
      "outputs": []
    },
    {
      "cell_type": "code",
      "source": [
        "# 함수 적용하기\n",
        "min, max = calc_max_and_min([1,2,3,4,5])\n",
        "print(f'최솟값 : {min}, 최댓값 : {max}')"
      ],
      "metadata": {
        "colab": {
          "base_uri": "https://localhost:8080/"
        },
        "id": "1y8Jo-w0nScT",
        "outputId": "b0eb2890-a41a-4f3f-dd7e-77a43970175f"
      },
      "execution_count": null,
      "outputs": [
        {
          "output_type": "stream",
          "name": "stdout",
          "text": [
            "최솟값 : 1, 최댓값 : 5\n"
          ]
        }
      ]
    },
    {
      "cell_type": "markdown",
      "source": [
        "# Default argument(기본인수)\n",
        "* 함수를 정의할 때 파라미터(parameter)에 설정된 기본값.\n",
        "* 함수를 호출할 때 default argument를 갖는 파라미터에 값을 전달하지 않으면, default argument가 함수 내부에서 사용됨.\n",
        "* 함수를 호출할 때 default argument를 갖는 파라미터에 값을 전달하면, default argument는 무시되고 전달된 값이 함수 내부에서 사용됨.\n",
        "* **(주의)** 함수를 정의할 때 default parameter들은 반드시 default값을 갖지 않는 파라미터들 뒤에 선언해야 함!"
      ],
      "metadata": {
        "id": "ZA6GWPvLLvrF"
      }
    },
    {
      "cell_type": "code",
      "source": [
        "def repeat_messages(message, n=1):\n",
        "  for _ in range(n):\n",
        "    print(message)"
      ],
      "metadata": {
        "id": "N2yq9bfJngDd"
      },
      "execution_count": null,
      "outputs": []
    },
    {
      "cell_type": "code",
      "source": [
        "repeat_messages('안녕하세요')\n",
        "# 파라미터 n에 값을 전달하지 않은 경우, n은 기본값 1을 갖게 됨."
      ],
      "metadata": {
        "colab": {
          "base_uri": "https://localhost:8080/"
        },
        "id": "kPbBFRnPNo3e",
        "outputId": "bdc25439-5d73-4d6a-a500-aed90950bd23"
      },
      "execution_count": null,
      "outputs": [
        {
          "output_type": "stream",
          "name": "stdout",
          "text": [
            "안녕하세요\n"
          ]
        }
      ]
    },
    {
      "cell_type": "code",
      "source": [
        "repeat_messages('안녕하세요', 2)"
      ],
      "metadata": {
        "colab": {
          "base_uri": "https://localhost:8080/"
        },
        "id": "1cddRSovNrBI",
        "outputId": "16cae341-97f5-4335-9009-830d81cc3d17"
      },
      "execution_count": null,
      "outputs": [
        {
          "output_type": "stream",
          "name": "stdout",
          "text": [
            "안녕하세요\n",
            "안녕하세요\n"
          ]
        }
      ]
    },
    {
      "cell_type": "markdown",
      "source": [
        "# argument 전달 방법:\n",
        "\n",
        "함수를 호출할 때, 함수에 값(argument)를 전달하는 방법:\n",
        "* **positional argument**: 함수를 정의할 때 선언된 파라미터 순서대로 값을 전달하는 방식.\n",
        "* **keyword argument**: `param_name=value`과 같은 형식으로 값을 전달하는 방식.\n",
        "    * keyword argument 방식으로 값을 전달할 때는 함수 정의의 파라미터 순서를 지키지 않아도 됨.\n",
        "    * **(주의)**함수를 호출할 때 positional 방식과 keyword 방식을 함께 사용하는 경우에는 반드시 positional argument가 먼저, keyword argument가 나주에 와야 함."
      ],
      "metadata": {
        "id": "OL6MmRaDPUYw"
      }
    },
    {
      "cell_type": "code",
      "source": [
        "print('a', end=',')\n",
        "print('b')"
      ],
      "metadata": {
        "colab": {
          "base_uri": "https://localhost:8080/"
        },
        "id": "fRz97sT8OBja",
        "outputId": "72ba861f-3389-4ed2-fd35-ed52285e8825"
      },
      "execution_count": null,
      "outputs": [
        {
          "output_type": "stream",
          "name": "stdout",
          "text": [
            "a,b\n"
          ]
        }
      ]
    },
    {
      "cell_type": "code",
      "source": [
        "def minus(x, y):\n",
        "  return x - y"
      ],
      "metadata": {
        "id": "hFe_NTt9Q3RT"
      },
      "execution_count": null,
      "outputs": []
    },
    {
      "cell_type": "code",
      "source": [
        "# positional arugment 방식의 함수 호출\n",
        "minus(1, 2)"
      ],
      "metadata": {
        "colab": {
          "base_uri": "https://localhost:8080/"
        },
        "id": "1aiulv5jRyuQ",
        "outputId": "07fcdd02-8424-4c5e-b0f8-a1423928eb54"
      },
      "execution_count": null,
      "outputs": [
        {
          "output_type": "execute_result",
          "data": {
            "text/plain": [
              "-1"
            ]
          },
          "metadata": {},
          "execution_count": 6
        }
      ]
    },
    {
      "cell_type": "code",
      "source": [
        "# keyword argument 방식의 함수 호출\n",
        "minus(x=1, y=2)"
      ],
      "metadata": {
        "colab": {
          "base_uri": "https://localhost:8080/"
        },
        "id": "CyrTF4avR36m",
        "outputId": "80910530-446a-46cf-ffec-bfcd875e443e"
      },
      "execution_count": null,
      "outputs": [
        {
          "output_type": "execute_result",
          "data": {
            "text/plain": [
              "-1"
            ]
          },
          "metadata": {},
          "execution_count": 7
        }
      ]
    },
    {
      "cell_type": "code",
      "source": [
        "# keyword argument 방식의 함수 호출에서는 파라미터의 순서를 지키지 않아도 됨.\n",
        "minus(y=1, x=2)"
      ],
      "metadata": {
        "colab": {
          "base_uri": "https://localhost:8080/"
        },
        "id": "a1-vIe56SHfT",
        "outputId": "a7727722-64f0-4cf4-dfda-fc6a576e822e"
      },
      "execution_count": null,
      "outputs": [
        {
          "output_type": "execute_result",
          "data": {
            "text/plain": [
              "1"
            ]
          },
          "metadata": {},
          "execution_count": 8
        }
      ]
    },
    {
      "cell_type": "code",
      "source": [
        "minus(1, y=2)\n",
        "# positional argument를 먼저, keyword argument를 나중에 전달하는 것은 가능."
      ],
      "metadata": {
        "colab": {
          "base_uri": "https://localhost:8080/"
        },
        "id": "gaT5LkQHSaLC",
        "outputId": "f6b7e5e2-4173-43f4-8ce4-f0cd1ee3f8bd"
      },
      "execution_count": null,
      "outputs": [
        {
          "output_type": "execute_result",
          "data": {
            "text/plain": [
              "-1"
            ]
          },
          "metadata": {},
          "execution_count": 9
        }
      ]
    },
    {
      "cell_type": "code",
      "source": [
        "#minus(x=1, 2)\n",
        "#> positional argument가 keyword argument보다 나중에 나오면 안됨!"
      ],
      "metadata": {
        "colab": {
          "base_uri": "https://localhost:8080/",
          "height": 166
        },
        "id": "mYvT572PTH3n",
        "outputId": "83775669-8c02-4d4b-9591-7ec892ac9724"
      },
      "execution_count": null,
      "outputs": [
        {
          "output_type": "error",
          "ename": "TypeError",
          "evalue": "ignored",
          "traceback": [
            "\u001b[0;31m---------------------------------------------------------------------------\u001b[0m",
            "\u001b[0;31mTypeError\u001b[0m                                 Traceback (most recent call last)",
            "\u001b[0;32m<ipython-input-10-5a1392544c52>\u001b[0m in \u001b[0;36m<module>\u001b[0;34m()\u001b[0m\n\u001b[0;32m----> 1\u001b[0;31m \u001b[0mminus\u001b[0m\u001b[0;34m(\u001b[0m\u001b[0;36m1\u001b[0m\u001b[0;34m,\u001b[0m \u001b[0mx\u001b[0m\u001b[0;34m=\u001b[0m\u001b[0;36m2\u001b[0m\u001b[0;34m)\u001b[0m\u001b[0;34m\u001b[0m\u001b[0;34m\u001b[0m\u001b[0m\n\u001b[0m",
            "\u001b[0;31mTypeError\u001b[0m: minus() got multiple values for argument 'x'"
          ]
        }
      ]
    },
    {
      "cell_type": "markdown",
      "source": [
        "# 가변길이 인수(variable-length arguments)"
      ],
      "metadata": {
        "id": "adHz166FTu63"
      }
    },
    {
      "cell_type": "code",
      "source": [
        "print('hello') # argument 1개"
      ],
      "metadata": {
        "colab": {
          "base_uri": "https://localhost:8080/"
        },
        "id": "51eZO5OwT68X",
        "outputId": "461c197e-e70a-47b8-eba3-3e6ab9b23811"
      },
      "execution_count": null,
      "outputs": [
        {
          "output_type": "stream",
          "name": "stdout",
          "text": [
            "hello\n"
          ]
        }
      ]
    },
    {
      "cell_type": "code",
      "source": [
        "print('hello', 'python') # argument 2개"
      ],
      "metadata": {
        "colab": {
          "base_uri": "https://localhost:8080/"
        },
        "id": "dEuKuZkiUGat",
        "outputId": "36a71484-850f-44b0-be08-ca8dd234a071"
      },
      "execution_count": null,
      "outputs": [
        {
          "output_type": "stream",
          "name": "stdout",
          "text": [
            "hello python\n"
          ]
        }
      ]
    },
    {
      "cell_type": "code",
      "source": [
        "max([1, 2, 3]) # argument 1개"
      ],
      "metadata": {
        "colab": {
          "base_uri": "https://localhost:8080/"
        },
        "id": "eFzNFZk3UJ_r",
        "outputId": "5b7ba227-f807-4a34-da4d-bf4a36f8cdd9"
      },
      "execution_count": null,
      "outputs": [
        {
          "output_type": "execute_result",
          "data": {
            "text/plain": [
              "3"
            ]
          },
          "metadata": {},
          "execution_count": 13
        }
      ]
    },
    {
      "cell_type": "code",
      "source": [
        "max(1,2,3,4,10,5,7) # argument 6개"
      ],
      "metadata": {
        "colab": {
          "base_uri": "https://localhost:8080/"
        },
        "id": "wHs8fa8NUYZp",
        "outputId": "7b1449d7-e36f-444b-e50e-dca89d1137e5"
      },
      "execution_count": null,
      "outputs": [
        {
          "output_type": "execute_result",
          "data": {
            "text/plain": [
              "10"
            ]
          },
          "metadata": {},
          "execution_count": 14
        }
      ]
    },
    {
      "cell_type": "markdown",
      "source": [
        "**가변길이 인수(variable-length argument)**\n",
        "\n",
        "* 함수를 호출할 때 전달하는 값(argument)의 개수가 임의로 변할 수 있는 것.\n",
        "    * argument 개수의 제한이 없다.\n",
        "    * argument를 전달하지 않아도 됨.\n",
        "* 함수를 정의할 때, 파라미터 이름 앞에 `*`를 사용하면 가변길이 인수를 전달받는 파라미터가 됨.\n",
        "* 함수 내부에서 가변길이 인수는 tuple로 취급.\n",
        "    * 가변길이 인수는 인덱스를 사용할 수 있음.\n",
        "    * 가변길이 인수는 for-in 구문에서 사용할 수 있음.\n",
        "* **(주의)** \n",
        "    * 가변길이 인수는 keyword argument 방식으로 전달할 수 없음.\n",
        "    * 함수를 선언할 때, 가변길이 인수를 갖는 파라미터는 **하나**만 선언할 수 있음."
      ],
      "metadata": {
        "id": "4f756FQ5Yq3u"
      }
    },
    {
      "cell_type": "code",
      "source": [
        "def add_all(*values):\n",
        "  total = 0\n",
        "  for x in values:\n",
        "    total += x\n",
        "  return total"
      ],
      "metadata": {
        "id": "RH-a_Ww9UjuB"
      },
      "execution_count": null,
      "outputs": []
    },
    {
      "cell_type": "code",
      "source": [
        "add_all(1)"
      ],
      "metadata": {
        "colab": {
          "base_uri": "https://localhost:8080/"
        },
        "id": "uRJMj4yRaUt-",
        "outputId": "34bf9e96-62d2-41b7-89e4-2b5a135c4931"
      },
      "execution_count": null,
      "outputs": [
        {
          "output_type": "execute_result",
          "data": {
            "text/plain": [
              "1"
            ]
          },
          "metadata": {},
          "execution_count": 20
        }
      ]
    },
    {
      "cell_type": "code",
      "source": [
        "add_all(1, 2, 3)"
      ],
      "metadata": {
        "colab": {
          "base_uri": "https://localhost:8080/"
        },
        "id": "nXeHnA2OaVv1",
        "outputId": "68b2c088-c3a4-4015-9f4b-444351495d97"
      },
      "execution_count": null,
      "outputs": [
        {
          "output_type": "execute_result",
          "data": {
            "text/plain": [
              "6"
            ]
          },
          "metadata": {},
          "execution_count": 19
        }
      ]
    },
    {
      "cell_type": "code",
      "source": [
        "add_all()"
      ],
      "metadata": {
        "colab": {
          "base_uri": "https://localhost:8080/"
        },
        "id": "bybtrCksaphT",
        "outputId": "b98cb415-4d89-4e12-ddf4-fc667fae03d2"
      },
      "execution_count": null,
      "outputs": [
        {
          "output_type": "execute_result",
          "data": {
            "text/plain": [
              "0"
            ]
          },
          "metadata": {},
          "execution_count": 21
        }
      ]
    },
    {
      "cell_type": "code",
      "source": [
        "def test1(a, *b):\n",
        "  print('a = ', a)\n",
        "  print('b = ', b)"
      ],
      "metadata": {
        "id": "1b06VFPFbtzY"
      },
      "execution_count": null,
      "outputs": []
    },
    {
      "cell_type": "code",
      "source": [
        "test1(1,2)"
      ],
      "metadata": {
        "colab": {
          "base_uri": "https://localhost:8080/"
        },
        "id": "zvJr_nq1bv9R",
        "outputId": "08f074de-0297-44bc-984a-0f6490255f46"
      },
      "execution_count": null,
      "outputs": [
        {
          "output_type": "stream",
          "name": "stdout",
          "text": [
            "a =  1\n",
            "b =  (2,)\n"
          ]
        }
      ]
    },
    {
      "cell_type": "code",
      "source": [
        "test1(1,2,3)"
      ],
      "metadata": {
        "colab": {
          "base_uri": "https://localhost:8080/"
        },
        "id": "dQ-szS__cmSb",
        "outputId": "8de61504-291c-48cd-e717-f941979af532"
      },
      "execution_count": null,
      "outputs": [
        {
          "output_type": "stream",
          "name": "stdout",
          "text": [
            "a =  1\n",
            "b =  (2, 3)\n"
          ]
        }
      ]
    },
    {
      "cell_type": "markdown",
      "source": [
        "`test1()` 함수는 positional 방식으로만 값을 전달할 수 있는 함수."
      ],
      "metadata": {
        "id": "guLl2lrJd1di"
      }
    },
    {
      "cell_type": "code",
      "source": [
        "def test2(*a, b):\n",
        "  print('a = ', a)\n",
        "  print('b = ', b)"
      ],
      "metadata": {
        "id": "j0O2cp7Lc3la"
      },
      "execution_count": null,
      "outputs": []
    },
    {
      "cell_type": "code",
      "source": [
        "test2(1, 2, b=3)"
      ],
      "metadata": {
        "colab": {
          "base_uri": "https://localhost:8080/"
        },
        "id": "T31SW8YIdWc7",
        "outputId": "b949edf2-b78c-459f-e444-d459e30255ed"
      },
      "execution_count": null,
      "outputs": [
        {
          "output_type": "stream",
          "name": "stdout",
          "text": [
            "a =  (1, 2)\n",
            "b =  3\n"
          ]
        }
      ]
    },
    {
      "cell_type": "code",
      "source": [
        "def test3(*a, b=0):\n",
        "  print('a = ', a)\n",
        "  print('b = ', b)"
      ],
      "metadata": {
        "id": "_ezyZRp2eZv4"
      },
      "execution_count": null,
      "outputs": []
    },
    {
      "cell_type": "markdown",
      "source": [
        "`test2() 함수에서 파라미터 b는 반드시 keyword argument 방식으로만 값을 전달할 수 있음.`"
      ],
      "metadata": {
        "id": "OW8ECthF02pf"
      }
    },
    {
      "cell_type": "code",
      "source": [
        "test3(1, 2, 3)"
      ],
      "metadata": {
        "colab": {
          "base_uri": "https://localhost:8080/"
        },
        "id": "a5MVWpsofsLD",
        "outputId": "0fe89c3a-d8d7-4e9b-8180-6b7acec81a5b"
      },
      "execution_count": null,
      "outputs": [
        {
          "output_type": "stream",
          "name": "stdout",
          "text": [
            "a =  (1, 2, 3)\n",
            "b =  0\n"
          ]
        }
      ]
    },
    {
      "cell_type": "code",
      "source": [
        "test3(1,2,3,b=100)"
      ],
      "metadata": {
        "colab": {
          "base_uri": "https://localhost:8080/"
        },
        "id": "KARkaV-mf9Ye",
        "outputId": "3f698082-19a8-4f3a-c15b-436f602a3e5e"
      },
      "execution_count": null,
      "outputs": [
        {
          "output_type": "stream",
          "name": "stdout",
          "text": [
            "a =  (1, 2, 3)\n",
            "b =  100\n"
          ]
        }
      ]
    },
    {
      "cell_type": "code",
      "source": [
        "def calculate(*values, op):\n",
        "  \"\"\"\n",
        "  values: 임의의 개수의 숫자들.\n",
        "  op: 문자열. ('+', 또는 '*')\n",
        "  op가 '+'인 경우에는 모든 값들의 합을 리턴. values에 전달된 값이 없으면 0을 리턴.\n",
        "  op가 '*'인 경우에는 모든 값들의 곱을 리턴. values에 전달된 값이 없으면 1을 리턴.\n",
        "  \"\"\"\n",
        "  \n",
        "  if op == '+':\n",
        "    result = 0\n",
        "    for x in values:\n",
        "       result += x\n",
        "  \n",
        "  elif op == '*':\n",
        "    result = 1\n",
        "    for x in values:\n",
        "       result *=x\n",
        "  \n",
        "  else:\n",
        "    result = None\n",
        "  \n",
        "  return result\n"
      ],
      "metadata": {
        "id": "Pyfi5MsUgbKS"
      },
      "execution_count": null,
      "outputs": []
    },
    {
      "cell_type": "code",
      "source": [
        "calculate(op='+')"
      ],
      "metadata": {
        "colab": {
          "base_uri": "https://localhost:8080/"
        },
        "id": "j3icshgriEJY",
        "outputId": "f1d34e8b-7b39-4c4e-a6a5-46c4bf2fd0a3"
      },
      "execution_count": null,
      "outputs": [
        {
          "output_type": "execute_result",
          "data": {
            "text/plain": [
              "0"
            ]
          },
          "metadata": {},
          "execution_count": 57
        }
      ]
    },
    {
      "cell_type": "markdown",
      "source": [
        "# 가변길이 키워드 인수(variable-length keyword argument)\n",
        "\n",
        "* variable-length + keyword\n",
        "    * variable-length argument : 함수를 호출할 때, 임의의 개수의 argument를 전달할 수 있음.\n",
        "    * keyword argument: 함수를 호출할 때 반드시 `param_name=value`형식으로 값을 전달.\n",
        "* 함수를 정의할 때 파라미터 이름 앞에 `**`를 사용.\n",
        "* 함수를 호출할 때, 임의의 개수의 keyword argument를 전달하면 됨.\n",
        "    * 파라미터 이름 제한 없음.\n",
        "    * 값의 개수 제한 없음.\n",
        "* 함수 내부에서 가변길이 키워드 인수는 dict로 취급됨.\n",
        "    * 함수 호출할 때 사용한 파라미터 이름이 dict의 키(key)가 됨.\n",
        "    * 함수 호출할 때 파라미터에 전달한 값(argument)이 dict의 값(value)가 됨.\n",
        "* 가변길이 키워드 인수는 함수 정의에서 오직 한번만 가능."
      ],
      "metadata": {
        "id": "sw072xdA2Alc"
      }
    },
    {
      "cell_type": "code",
      "source": [
        "def test4(**kwargs):\n",
        "  print(kwargs)"
      ],
      "metadata": {
        "id": "xUusZbQViJg4"
      },
      "execution_count": null,
      "outputs": []
    },
    {
      "cell_type": "code",
      "source": [
        "test4()"
      ],
      "metadata": {
        "colab": {
          "base_uri": "https://localhost:8080/"
        },
        "id": "SwfewX8_3jpU",
        "outputId": "c268d704-aff8-40b6-c26d-b3f329fbdcfb"
      },
      "execution_count": null,
      "outputs": [
        {
          "output_type": "stream",
          "name": "stdout",
          "text": [
            "{}\n"
          ]
        }
      ]
    },
    {
      "cell_type": "code",
      "source": [
        "test4(k=1)"
      ],
      "metadata": {
        "colab": {
          "base_uri": "https://localhost:8080/"
        },
        "id": "Gq9X9KW63ki5",
        "outputId": "1c0bbedd-b047-4895-f718-13f959b53ad6"
      },
      "execution_count": null,
      "outputs": [
        {
          "output_type": "stream",
          "name": "stdout",
          "text": [
            "{'k': 1}\n"
          ]
        }
      ]
    },
    {
      "cell_type": "code",
      "source": [
        "def test5(*args, **kwargs):\n",
        "  print('args = ', args) # args: 가변길이 인수 -> tuple\n",
        "  print('kwargs = ', kwargs) # kwargs: 가변길이 키워드 인수 -> dict"
      ],
      "metadata": {
        "id": "jF_J7U_h3vBG"
      },
      "execution_count": null,
      "outputs": []
    },
    {
      "cell_type": "code",
      "source": [
        "test5(1,2,'a','b')"
      ],
      "metadata": {
        "colab": {
          "base_uri": "https://localhost:8080/"
        },
        "id": "NH7q-nFt5EZH",
        "outputId": "4fe7df0c-6790-452f-fd59-515bca827218"
      },
      "execution_count": null,
      "outputs": [
        {
          "output_type": "stream",
          "name": "stdout",
          "text": [
            "args =  (1, 2, 'a', 'b')\n",
            "kwargs =  {}\n"
          ]
        }
      ]
    },
    {
      "cell_type": "code",
      "source": [
        "test5(1,2,a=100,b=200)"
      ],
      "metadata": {
        "colab": {
          "base_uri": "https://localhost:8080/"
        },
        "id": "6Zws4F0n5uxH",
        "outputId": "d9da0007-07d9-4e0c-c869-5716a443d152"
      },
      "execution_count": null,
      "outputs": [
        {
          "output_type": "stream",
          "name": "stdout",
          "text": [
            "args =  (1, 2)\n",
            "kwargs =  {'a': 100, 'b': 200}\n"
          ]
        }
      ]
    },
    {
      "cell_type": "code",
      "source": [
        "def make_employee(emp_no, emp_name, **kwargs):\n",
        "  emp = {'emp_no': emp_no, 'emp_name': emp_name}\n",
        "  for k, v in kwargs.items():\n",
        "    # kwargs의 키(파라미터 이름)이 email 또는 phone인 경우에만 dict에 추가.\n",
        "    # 그 이외의 파라미터들은 모두 무시.\n",
        "    if k == 'email' or k == 'phone':\n",
        "      emp[k] = v\n",
        "  return emp"
      ],
      "metadata": {
        "id": "k4u8-KHO5yju"
      },
      "execution_count": null,
      "outputs": []
    },
    {
      "cell_type": "code",
      "source": [
        "make_employee(101, 'Scott', tel='010-1111-1111')"
      ],
      "metadata": {
        "colab": {
          "base_uri": "https://localhost:8080/"
        },
        "id": "D4wmmf7-7mre",
        "outputId": "b4e3b70b-9bbe-4185-cbf5-6bc5c79942a8"
      },
      "execution_count": null,
      "outputs": [
        {
          "output_type": "execute_result",
          "data": {
            "text/plain": [
              "{'emp_name': 'Scott', 'emp_no': 101}"
            ]
          },
          "metadata": {},
          "execution_count": 66
        }
      ]
    },
    {
      "cell_type": "code",
      "source": [
        "make_employee(101, 'Scott', phone='010-1111-1111')"
      ],
      "metadata": {
        "colab": {
          "base_uri": "https://localhost:8080/"
        },
        "id": "dVUQx2cl8FoK",
        "outputId": "f03eaa0a-ecf2-4e16-de93-1aa577f41b96"
      },
      "execution_count": null,
      "outputs": [
        {
          "output_type": "execute_result",
          "data": {
            "text/plain": [
              "{'emp_name': 'Scott', 'emp_no': 101, 'phone': '010-1111-1111'}"
            ]
          },
          "metadata": {},
          "execution_count": 67
        }
      ]
    },
    {
      "cell_type": "markdown",
      "source": [
        "# 재귀 함수(recursive function)\n",
        "\n",
        "함수 내부에서 자기 자신을 다시 호출하는 함수"
      ],
      "metadata": {
        "id": "ZS3NEnyE9NQJ"
      }
    },
    {
      "cell_type": "code",
      "source": [
        "def factorial(n):\n",
        "  \"\"\"\n",
        "  0! = 1(정의)\n",
        "  1! = 0! x 1 = 1\n",
        "  2! = 1 x 2 = 2\n",
        "  3! = 1 x 2 x 3 = 6\n",
        "  ...\n",
        "  n! = 1 x 2 x ... x (n-1) x n = (n-1)! x n, n >= 1\n",
        "  \"\"\"\n",
        "  result = None\n",
        "  if n == 0:\n",
        "    result = 1\n",
        "  elif n > 0:\n",
        "    result = factorial(n - 1) * n\n",
        "  return result"
      ],
      "metadata": {
        "id": "EqMVSlrG8iv9"
      },
      "execution_count": null,
      "outputs": []
    },
    {
      "cell_type": "code",
      "source": [
        "factorial(5)"
      ],
      "metadata": {
        "colab": {
          "base_uri": "https://localhost:8080/"
        },
        "id": "Rh3uh3Ac-rrr",
        "outputId": "7d03c6b3-e3f2-4e14-f69f-8998233e0565"
      },
      "execution_count": null,
      "outputs": [
        {
          "output_type": "execute_result",
          "data": {
            "text/plain": [
              "120"
            ]
          },
          "metadata": {},
          "execution_count": 70
        }
      ]
    },
    {
      "cell_type": "code",
      "source": [
        "for n in range(6):\n",
        "  print(factorial(n))"
      ],
      "metadata": {
        "colab": {
          "base_uri": "https://localhost:8080/"
        },
        "id": "7x7lXz9g-s_s",
        "outputId": "b816c42a-f6ea-4423-88b2-e87e5032c4ff"
      },
      "execution_count": null,
      "outputs": [
        {
          "output_type": "stream",
          "name": "stdout",
          "text": [
            "1\n",
            "1\n",
            "2\n",
            "6\n",
            "24\n",
            "120\n"
          ]
        }
      ]
    },
    {
      "cell_type": "code",
      "source": [
        ""
      ],
      "metadata": {
        "id": "Gt2NpBem--Zd"
      },
      "execution_count": null,
      "outputs": []
    }
  ]
}