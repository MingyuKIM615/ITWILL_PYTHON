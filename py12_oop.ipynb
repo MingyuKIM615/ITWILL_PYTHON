{
  "nbformat": 4,
  "nbformat_minor": 0,
  "metadata": {
    "colab": {
      "name": "py12_oop.ipynb",
      "provenance": [],
      "collapsed_sections": [],
      "authorship_tag": "ABX9TyMBktSr7mcVsjL+uPhvGkE0",
      "include_colab_link": true
    },
    "kernelspec": {
      "name": "python3",
      "display_name": "Python 3"
    },
    "language_info": {
      "name": "python"
    }
  },
  "cells": [
    {
      "cell_type": "markdown",
      "metadata": {
        "id": "view-in-github",
        "colab_type": "text"
      },
      "source": [
        "<a href=\"https://colab.research.google.com/github/MingyuKIM615/ITWILL_PYTHON/blob/master/py12_oop.ipynb\" target=\"_parent\"><img src=\"https://colab.research.google.com/assets/colab-badge.svg\" alt=\"Open In Colab\"/></a>"
      ]
    },
    {
      "cell_type": "markdown",
      "source": [
        "# OOP(Object-Oriented Programming, 객체 지향 프로그래밍)"
      ],
      "metadata": {
        "id": "_ZuP2dPgftYF"
      }
    },
    {
      "cell_type": "markdown",
      "source": [
        "## list, dict 사용"
      ],
      "metadata": {
        "id": "9WszjO1Af_N0"
      }
    },
    {
      "cell_type": "code",
      "execution_count": null,
      "metadata": {
        "id": "jPGXv38QfRnh"
      },
      "outputs": [],
      "source": [
        "students = [\n",
        "            {'name' : 'aa', 'korean':90, 'english': 95, 'math': 80},\n",
        "            {'name' : 'bb', 'korean':70, 'english': 80, 'math': 55},\n",
        "            {'name' : 'cc', 'korean':80, 'english': 95, 'math': 90},\n",
        "            {'name' : 'dd', 'korean':77, 'english': 99, 'math': 80},\n",
        "]\n"
      ]
    },
    {
      "cell_type": "code",
      "source": [
        "# 각 학생의 3과목 총점과 평균\n",
        "for s in students:\n",
        "  total = s['korean'] + s['english'] + s['math']\n",
        "  mean = total / 3\n",
        "  print(f'이름 : {s[\"name\"]}, 총점: {total}, 평균: {mean}')"
      ],
      "metadata": {
        "colab": {
          "base_uri": "https://localhost:8080/"
        },
        "id": "N49_3HpjhCgO",
        "outputId": "d8d935dd-982f-47b5-e1ad-eb683f00cc88"
      },
      "execution_count": null,
      "outputs": [
        {
          "output_type": "stream",
          "name": "stdout",
          "text": [
            "이름 : aa, 총점: 265, 평균: 88.33333333333333\n",
            "이름 : bb, 총점: 205, 평균: 68.33333333333333\n",
            "이름 : cc, 총점: 265, 평균: 88.33333333333333\n",
            "이름 : dd, 총점: 256, 평균: 85.33333333333333\n"
          ]
        }
      ]
    },
    {
      "cell_type": "markdown",
      "source": [
        "## 함수형 프로그래밍(Functional Programming)"
      ],
      "metadata": {
        "id": "hAWWITWTj0mB"
      }
    },
    {
      "cell_type": "code",
      "source": [
        "def create_student(name, korean, english, math):\n",
        "  student = {\n",
        "      'name' : name,\n",
        "      'korean' : korean,\n",
        "      'english' : english,\n",
        "      'math': math,\n",
        "  }\n",
        "  return student"
      ],
      "metadata": {
        "id": "YosG59_yhpBV"
      },
      "execution_count": null,
      "outputs": []
    },
    {
      "cell_type": "code",
      "source": [
        "students = [\n",
        "            create_student(name='aa', korean=100, english=100, math=100),\n",
        "            create_student(name='bb', korean=90, english=100, math=100),\n",
        "            create_student(name='cc', korean=80, english=100, math=100),\n",
        "            create_student(name='dd', korean=70, english=100, math=100),\n",
        "]"
      ],
      "metadata": {
        "id": "OzanlUntkRYa"
      },
      "execution_count": null,
      "outputs": []
    },
    {
      "cell_type": "code",
      "source": [
        "def get_total(student):\n",
        "  return student['korean'] + student['english']  + student['math']"
      ],
      "metadata": {
        "id": "JtTIvJQdlP_T"
      },
      "execution_count": null,
      "outputs": []
    },
    {
      "cell_type": "code",
      "source": [
        "def get_mean(student):\n",
        "  return get_total(student) / 3"
      ],
      "metadata": {
        "id": "0UBWjO65lR66"
      },
      "execution_count": null,
      "outputs": []
    },
    {
      "cell_type": "code",
      "source": [
        "for s in students:\n",
        "  total = get_total(s)\n",
        "  mean = get_mean(s)\n",
        "  print(f'이름: {s[\"name\"]}, 총점:{total}, 평균: {mean}')"
      ],
      "metadata": {
        "colab": {
          "base_uri": "https://localhost:8080/"
        },
        "id": "OC9eQQNmlwh_",
        "outputId": "b5eba9a7-2aae-48e1-b2c1-859f78431cb1"
      },
      "execution_count": null,
      "outputs": [
        {
          "output_type": "stream",
          "name": "stdout",
          "text": [
            "이름: aa, 총점:300, 평균: 100.0\n",
            "이름: bb, 총점:290, 평균: 96.66666666666667\n",
            "이름: cc, 총점:280, 평균: 93.33333333333333\n",
            "이름: dd, 총점:270, 평균: 90.0\n"
          ]
        }
      ]
    },
    {
      "cell_type": "markdown",
      "source": [
        "# 객체 지향 프로그래밍(OOP)\n",
        "\n",
        "* 객체 (object): 소프트웨어로 구현할 대상.\n",
        "* 클래스(class): 객체를 구현하기 위한 소스 코드.\n",
        "    * 속성(attribute, property): 객체가 가져야 하는 데이터. 변수들에 저장되는 값.\n",
        "    * 메서드(method): 객체가 가져야 하는 기능. 클랫그 내부에서 정의하는 함수.\n",
        "* 인스턴스(instance): 클래스를 사용해서 메모리에 생성된 객체.\n",
        "* 인스턴스 생성(instantiate): 클래스의 객체를 메모리에 생성하는 것.\n",
        "* 생성자(constructor): 클래스 이름과 동일한 함수."
      ],
      "metadata": {
        "id": "jxJXfywJnV3z"
      }
    },
    {
      "cell_type": "code",
      "source": [
        "# 클래스 정의\n",
        "class Student:\n",
        "  # 생성자 함수: 생성자가 호출됐을 때 자동으로 호출되는 함수. 속성들을 선언하고 초기화.\n",
        "  def __init__(self, name, korean, english, math):\n",
        "    self.name = name\n",
        "    self.korean = korean\n",
        "    self.english  = english\n",
        "    self.math = math\n",
        "\n",
        "  # 메서드\n",
        "  def get_total(self):\n",
        "    return self.korean + self.english + self.math\n",
        "\n",
        "  def get_mean(self):\n",
        "    return self.get_total() / 3\n",
        "\n",
        "  def print_info(self):\n",
        "    print(f'이름:{self.name}, 총점:{self.get_total()}, 평균: {self.get_mean()}')"
      ],
      "metadata": {
        "id": "m4Izjc1wmN09"
      },
      "execution_count": null,
      "outputs": []
    },
    {
      "cell_type": "code",
      "source": [
        "stu1 = Student(name='홍길동', korean=100, english=80, math=70)"
      ],
      "metadata": {
        "id": "WJVlMV_CtZ4L"
      },
      "execution_count": null,
      "outputs": []
    },
    {
      "cell_type": "code",
      "source": [
        "stu1"
      ],
      "metadata": {
        "colab": {
          "base_uri": "https://localhost:8080/"
        },
        "id": "JDL4M2Lxv-Or",
        "outputId": "cfec530a-0f80-4194-94fd-74a505f2c7fd"
      },
      "execution_count": null,
      "outputs": [
        {
          "output_type": "execute_result",
          "data": {
            "text/plain": [
              "<__main__.Student at 0x7f193ce09110>"
            ]
          },
          "metadata": {},
          "execution_count": 32
        }
      ]
    },
    {
      "cell_type": "code",
      "source": [
        "stu1.get_total()"
      ],
      "metadata": {
        "colab": {
          "base_uri": "https://localhost:8080/"
        },
        "id": "lSLSTQ_Ov-49",
        "outputId": "3b97e8f5-7084-4cf7-842c-13f60b34cb66"
      },
      "execution_count": null,
      "outputs": [
        {
          "output_type": "execute_result",
          "data": {
            "text/plain": [
              "250"
            ]
          },
          "metadata": {},
          "execution_count": 34
        }
      ]
    },
    {
      "cell_type": "code",
      "source": [
        "stu1.get_mean()"
      ],
      "metadata": {
        "colab": {
          "base_uri": "https://localhost:8080/"
        },
        "id": "KMFk_LQIxMs9",
        "outputId": "7a47c142-407c-41f7-f4b5-bbe7f73537ea"
      },
      "execution_count": null,
      "outputs": [
        {
          "output_type": "execute_result",
          "data": {
            "text/plain": [
              "83.33333333333333"
            ]
          },
          "metadata": {},
          "execution_count": 35
        }
      ]
    },
    {
      "cell_type": "code",
      "source": [
        "stu1.print_info()"
      ],
      "metadata": {
        "colab": {
          "base_uri": "https://localhost:8080/"
        },
        "id": "fJt3tXAk0iBF",
        "outputId": "0066edda-a042-41e5-aa57-96f1c03848ae"
      },
      "execution_count": null,
      "outputs": [
        {
          "output_type": "stream",
          "name": "stdout",
          "text": [
            "이름:홍길동, 총점:250, 평균: 83.33333333333333\n"
          ]
        }
      ]
    },
    {
      "cell_type": "code",
      "source": [
        "dir(stu1) # 객체가 가지고 있는 멤버들(속성과 매서드)의 리스트"
      ],
      "metadata": {
        "colab": {
          "base_uri": "https://localhost:8080/"
        },
        "id": "PmrlT7220j_n",
        "outputId": "2647e60a-b7be-4e59-b68a-27c4f3d5dfe3"
      },
      "execution_count": null,
      "outputs": [
        {
          "output_type": "execute_result",
          "data": {
            "text/plain": [
              "['__class__',\n",
              " '__delattr__',\n",
              " '__dict__',\n",
              " '__dir__',\n",
              " '__doc__',\n",
              " '__eq__',\n",
              " '__format__',\n",
              " '__ge__',\n",
              " '__getattribute__',\n",
              " '__gt__',\n",
              " '__hash__',\n",
              " '__init__',\n",
              " '__init_subclass__',\n",
              " '__le__',\n",
              " '__lt__',\n",
              " '__module__',\n",
              " '__ne__',\n",
              " '__new__',\n",
              " '__reduce__',\n",
              " '__reduce_ex__',\n",
              " '__repr__',\n",
              " '__setattr__',\n",
              " '__sizeof__',\n",
              " '__str__',\n",
              " '__subclasshook__',\n",
              " '__weakref__',\n",
              " 'english',\n",
              " 'get_mean',\n",
              " 'get_total',\n",
              " 'korean',\n",
              " 'math',\n",
              " 'name',\n",
              " 'print_info']"
            ]
          },
          "metadata": {},
          "execution_count": 37
        }
      ]
    },
    {
      "cell_type": "markdown",
      "source": [
        "# class 작성 연습"
      ],
      "metadata": {
        "id": "PbscqUFVJioW"
      }
    },
    {
      "cell_type": "code",
      "source": [
        "import math # 수학 관련 함수들을 사용하기 위해서"
      ],
      "metadata": {
        "id": "t8d74MDOI3nk"
      },
      "execution_count": null,
      "outputs": []
    },
    {
      "cell_type": "code",
      "source": [
        "class Point:\n",
        "  \"\"\"\n",
        "  2차원 평면의 점의 좌표를 표현하는 클래스\n",
        "  \"\"\"\n",
        "  def __init__(self, x=0, y=0):\n",
        "    self.x = x\n",
        "    self.y = y\n",
        "\n",
        "  def move(self, dx=0, dy=0):\n",
        "    \"\"\"점의 좌표를 원래 위치에서 x축의 방향으로 dx만큼 y축의 방향으로 dy만큼 이동\"\"\"\n",
        "    self.x += dx\n",
        "    self.y += dy\n",
        "    print(f'x: {self.x}, y: {self.y}')\n",
        "\n",
        "\n",
        "  def distance(self, other):\n",
        "    \"\"\"현재 위치와 다른 Point other사이의 거리를 리턴\"\"\"\n",
        "    return ((self.x - other.x)**2 + (self.y - other.y)**2)**0.5"
      ],
      "metadata": {
        "id": "tWrOl5UOJpwn"
      },
      "execution_count": null,
      "outputs": []
    },
    {
      "cell_type": "code",
      "source": [
        "p1 = Point() # 생성자 호출 -> Point 클래스의 인스턴스 생성"
      ],
      "metadata": {
        "id": "oilMCcfULdu7"
      },
      "execution_count": null,
      "outputs": []
    },
    {
      "cell_type": "code",
      "source": [
        "print(p1)"
      ],
      "metadata": {
        "colab": {
          "base_uri": "https://localhost:8080/"
        },
        "id": "lMi7Odm9Lgjq",
        "outputId": "44d7cd05-979c-47c7-c533-9fac2751d7ec"
      },
      "execution_count": null,
      "outputs": [
        {
          "output_type": "stream",
          "name": "stdout",
          "text": [
            "<__main__.Point object at 0x7f193ce28790>\n"
          ]
        }
      ]
    },
    {
      "cell_type": "code",
      "source": [
        "# 객체(인스턴스)의 속성들(멤버 변수들)\n",
        "print(p1.x)\n",
        "print(p1.y)"
      ],
      "metadata": {
        "colab": {
          "base_uri": "https://localhost:8080/"
        },
        "id": "KnKs6VLIOJHE",
        "outputId": "23f2881b-b611-484d-e036-0b1b6b7bb1f3"
      },
      "execution_count": null,
      "outputs": [
        {
          "output_type": "stream",
          "name": "stdout",
          "text": [
            "0\n",
            "0\n"
          ]
        }
      ]
    },
    {
      "cell_type": "code",
      "source": [
        "p2 = Point(x=3, y=4)\n",
        "print(p2)\n",
        "print(p2.x)\n",
        "print(p2.y)"
      ],
      "metadata": {
        "colab": {
          "base_uri": "https://localhost:8080/"
        },
        "id": "NSnLedGdOSZJ",
        "outputId": "9a5e8597-6065-4635-8f10-65396c509bd3"
      },
      "execution_count": null,
      "outputs": [
        {
          "output_type": "stream",
          "name": "stdout",
          "text": [
            "<__main__.Point object at 0x7f193cd62910>\n",
            "3\n",
            "4\n"
          ]
        }
      ]
    },
    {
      "cell_type": "code",
      "source": [
        "p3 = Point(1)\n",
        "print(p3)\n",
        "print(p3.x)\n",
        "print(p3.y)"
      ],
      "metadata": {
        "colab": {
          "base_uri": "https://localhost:8080/"
        },
        "id": "2nyP1CMSOp9l",
        "outputId": "00fe4ccb-d8fe-4ba5-8357-e56c42787403"
      },
      "execution_count": null,
      "outputs": [
        {
          "output_type": "stream",
          "name": "stdout",
          "text": [
            "<__main__.Point object at 0x7f193ce09a50>\n",
            "1\n",
            "0\n"
          ]
        }
      ]
    },
    {
      "cell_type": "code",
      "source": [
        "p4 = Point(y=1)\n",
        "print(p4)\n",
        "print(p4.x, p4.y)"
      ],
      "metadata": {
        "colab": {
          "base_uri": "https://localhost:8080/"
        },
        "id": "U1Ozze0TPg2n",
        "outputId": "dc9f5e1d-c558-412a-a50a-f56b09fcac8a"
      },
      "execution_count": null,
      "outputs": [
        {
          "output_type": "stream",
          "name": "stdout",
          "text": [
            "<__main__.Point object at 0x7f193ce0aad0>\n",
            "0 1\n"
          ]
        }
      ]
    },
    {
      "cell_type": "code",
      "source": [
        "# p4를 x축의 방향으로 1만큼, y축의 방향으로 2만큼 이동\n",
        "p4.move(dx=1, dy=2)\n",
        "print(p4.x, p4.y)"
      ],
      "metadata": {
        "colab": {
          "base_uri": "https://localhost:8080/"
        },
        "id": "G6S5_E7QQwQ3",
        "outputId": "2d0d2fa3-9841-41fb-d0a3-2321302f09b1"
      },
      "execution_count": null,
      "outputs": [
        {
          "output_type": "stream",
          "name": "stdout",
          "text": [
            "x: 1, y: 3\n",
            "1 3\n"
          ]
        }
      ]
    },
    {
      "cell_type": "code",
      "source": [
        "p1.distance(p2)"
      ],
      "metadata": {
        "colab": {
          "base_uri": "https://localhost:8080/"
        },
        "id": "p1G0i3-cQ7xU",
        "outputId": "a6ac33b8-7ca7-4bb1-91b1-63fa89032b5c"
      },
      "execution_count": null,
      "outputs": [
        {
          "output_type": "execute_result",
          "data": {
            "text/plain": [
              "5.0"
            ]
          },
          "metadata": {},
          "execution_count": 73
        }
      ]
    },
    {
      "cell_type": "code",
      "source": [
        "class Rectangle:\n",
        "  \"\"\"직사각형: 꼭지점의 x좌표, 꼭지점의 y좌표, 가로길이, 세로길이, 둘레 길이 기능, 넓이 기능\"\"\"\n",
        "  def __init__(self, x=0, y=0, w=0, h=0):\n",
        "    self.x = x\n",
        "    self.y = y\n",
        "    self.width = w\n",
        "    self.height = h\n",
        "  \n",
        "  def round(self):\n",
        "    return 2*(self.width + self.height)\n",
        "  \n",
        "  def area(self):\n",
        "    return self.width * self.height\n",
        "  "
      ],
      "metadata": {
        "id": "HH7EELD5Rjg-"
      },
      "execution_count": null,
      "outputs": []
    },
    {
      "cell_type": "code",
      "source": [
        "# 꼭지점의 좌표가 원점(0,0)이고, 가로 길이는 2, 세로 길이는 3인 직사각형\n",
        "rect1 = Rectangle(w=2, h=3)"
      ],
      "metadata": {
        "id": "h1JfaX67XdeA"
      },
      "execution_count": null,
      "outputs": []
    },
    {
      "cell_type": "code",
      "source": [
        "rect1.round() # 2 * (2 + 3)"
      ],
      "metadata": {
        "colab": {
          "base_uri": "https://localhost:8080/"
        },
        "id": "kjDXOoDvYGGM",
        "outputId": "d53fc880-791a-4922-a1f8-5b677a39fcde"
      },
      "execution_count": null,
      "outputs": [
        {
          "output_type": "execute_result",
          "data": {
            "text/plain": [
              "10"
            ]
          },
          "metadata": {},
          "execution_count": 85
        }
      ]
    },
    {
      "cell_type": "code",
      "source": [
        "# 꼭지점의 좌표가 (1, 1)이고, 가로 길이는 4, 세로 길이는 3인 직사각형\n",
        "rect2 = Rectangle(x=1, y=1, w=4, h=3)"
      ],
      "metadata": {
        "id": "P3NC-sJxap0j"
      },
      "execution_count": null,
      "outputs": []
    },
    {
      "cell_type": "code",
      "source": [
        "rect2.round()"
      ],
      "metadata": {
        "colab": {
          "base_uri": "https://localhost:8080/"
        },
        "id": "hFPfs7KVba60",
        "outputId": "d5608709-6596-418f-a115-58d6e4067912"
      },
      "execution_count": null,
      "outputs": [
        {
          "output_type": "execute_result",
          "data": {
            "text/plain": [
              "14"
            ]
          },
          "metadata": {},
          "execution_count": 88
        }
      ]
    },
    {
      "cell_type": "code",
      "source": [
        "rect2.area()"
      ],
      "metadata": {
        "colab": {
          "base_uri": "https://localhost:8080/"
        },
        "id": "BMkQ92fhcFsG",
        "outputId": "7e6b8a25-3384-455b-d745-05ff2b3d771e"
      },
      "execution_count": null,
      "outputs": [
        {
          "output_type": "execute_result",
          "data": {
            "text/plain": [
              "12"
            ]
          },
          "metadata": {},
          "execution_count": 89
        }
      ]
    },
    {
      "cell_type": "markdown",
      "source": [
        "# magic method\n",
        "\n",
        "모든 클래스가 같은 이름으로 가지고 있는 메서드. 특별한 경우에 자동으로 호출되는 메서드.\n",
        "\n",
        "* `__init__(self)`: 생성자를 호출하면 자동으로 호출되는 메서드.\n",
        "* `__str__(self)` : print() 함수에서 자동으로 호출되는 메서드.\n",
        "* `__repr__(self)` : 식(expression)을 자동으로 출력할 때 호출되는 메서드.\n",
        "    * 클래서에서 `__str__`과 `__repr__` 메서드가 다르게 구현되어 있으면, print() 함수의 출력과 식을 출력하는 내용이 다름.\n",
        "    * `print` 함수는 `__str__` 메서드가 구현되어 있으면 `__str__`를 호출하고, `__str__`함수가 구현되어 있지 않으면 `__repr__` 함수를 호출함.\n",
        "* `__eq__(self, o)` : `==` 연산자가가 사용됐을 때 자동으로 호출되는 메서드.\n",
        "* `__add__(self, o)` : `+` 연산자가 사용됐을 때 자동으로 호출되는 메서드.\n",
        "* `__mul__(self, o)` : `*` 연산자가 사용됐을 때 자동을로 호출되는 메서드.\n"
      ],
      "metadata": {
        "id": "vUQ7JGl8cLMM"
      }
    },
    {
      "cell_type": "code",
      "source": [
        "x = 1\n",
        "print(x.__str__())\n",
        "x.__repr__()"
      ],
      "metadata": {
        "colab": {
          "base_uri": "https://localhost:8080/",
          "height": 53
        },
        "id": "LEaEWryZcG9t",
        "outputId": "7c0e0121-fb66-4bee-dd61-9cc819a1cceb"
      },
      "execution_count": null,
      "outputs": [
        {
          "output_type": "stream",
          "name": "stdout",
          "text": [
            "1\n"
          ]
        },
        {
          "output_type": "execute_result",
          "data": {
            "application/vnd.google.colaboratory.intrinsic+json": {
              "type": "string"
            },
            "text/plain": [
              "'1'"
            ]
          },
          "metadata": {},
          "execution_count": 92
        }
      ]
    },
    {
      "cell_type": "code",
      "source": [
        "class Test:\n",
        "  def __init__(self):\n",
        "    print('Test 객체 생성됨')\n",
        "  \n",
        "  # def __str__(self):\n",
        "  #   return 'Test 클래스 객체'\n",
        "\n",
        "  def __repr__(self):\n",
        "    return 'Test 인스턴스'"
      ],
      "metadata": {
        "id": "v40o1JMgd2XW"
      },
      "execution_count": null,
      "outputs": []
    },
    {
      "cell_type": "code",
      "source": [
        "test = Test() # Test 클래스의 인스턴스 생성"
      ],
      "metadata": {
        "colab": {
          "base_uri": "https://localhost:8080/"
        },
        "id": "4M5UJ24jfmDb",
        "outputId": "53538c26-5a92-4380-c531-893a4a99dea8"
      },
      "execution_count": null,
      "outputs": [
        {
          "output_type": "stream",
          "name": "stdout",
          "text": [
            "Test 객체 생성됨\n"
          ]
        }
      ]
    },
    {
      "cell_type": "code",
      "source": [
        "print(test) # 문장(statement) - print 함수는 객체의  __str__() 메서드가 리턴하는 문자열을 출력\n",
        "test # 식(expression) - 식이 자동으로 출력될 때는 객체의 __repr__() 메서드가 리턴하는 문자열을 출력"
      ],
      "metadata": {
        "colab": {
          "base_uri": "https://localhost:8080/"
        },
        "id": "48e3z9Swfp7I",
        "outputId": "f3793a54-1b21-44da-d7d6-a08498741fe2"
      },
      "execution_count": null,
      "outputs": [
        {
          "output_type": "stream",
          "name": "stdout",
          "text": [
            "Test 인스턴스\n"
          ]
        },
        {
          "output_type": "execute_result",
          "data": {
            "text/plain": [
              "Test 인스턴스"
            ]
          },
          "metadata": {},
          "execution_count": 104
        }
      ]
    },
    {
      "cell_type": "code",
      "source": [
        "numbers1 = [1,2,3]\n",
        "numbers2 = [1,2,3]\n",
        "numbers1 == numbers2 # == 연산자가 __eq__() 메서드를 호출: numbers1.__eq__(numbers2)"
      ],
      "metadata": {
        "colab": {
          "base_uri": "https://localhost:8080/"
        },
        "id": "4Vcrk3X-f-TS",
        "outputId": "90390e58-1600-4d97-c7d1-f12985599134"
      },
      "execution_count": null,
      "outputs": [
        {
          "output_type": "execute_result",
          "data": {
            "text/plain": [
              "True"
            ]
          },
          "metadata": {},
          "execution_count": 112
        }
      ]
    },
    {
      "cell_type": "code",
      "source": [
        "id(numbers1) # 리스트 numbers1의 주소값"
      ],
      "metadata": {
        "colab": {
          "base_uri": "https://localhost:8080/"
        },
        "id": "D3CSDMhVoQFF",
        "outputId": "e36b25e1-6fea-4611-c6f5-85a22c490deb"
      },
      "execution_count": null,
      "outputs": [
        {
          "output_type": "execute_result",
          "data": {
            "text/plain": [
              "139746371688000"
            ]
          },
          "metadata": {},
          "execution_count": 113
        }
      ]
    },
    {
      "cell_type": "code",
      "source": [
        "id(numbers2) # 리스트 numbers2의 주소값"
      ],
      "metadata": {
        "colab": {
          "base_uri": "https://localhost:8080/"
        },
        "id": "8BZDEBn8ofwn",
        "outputId": "613d6f2b-ea9d-4fab-a0fb-f450074b755c"
      },
      "execution_count": null,
      "outputs": [
        {
          "output_type": "execute_result",
          "data": {
            "text/plain": [
              "139746371415328"
            ]
          },
          "metadata": {},
          "execution_count": 114
        }
      ]
    },
    {
      "cell_type": "code",
      "source": [
        "class Test2:\n",
        "  def __init__(self, x):\n",
        "    self.x = x\n",
        "  \n",
        "  def __eq__(self, other):\n",
        "    if isinstance(other, Test2):\n",
        "      if self.x == other.x:\n",
        "        return True\n",
        "    return False"
      ],
      "metadata": {
        "id": "ibA5ZrOGogmM"
      },
      "execution_count": null,
      "outputs": []
    },
    {
      "cell_type": "code",
      "source": [
        "t1 = Test2(1)\n",
        "t2 = Test2(1)"
      ],
      "metadata": {
        "id": "2cnmAQjQpWYR"
      },
      "execution_count": null,
      "outputs": []
    },
    {
      "cell_type": "code",
      "source": [
        "print(id(t1))\n",
        "print(id(t2))\n",
        "t1 == t2"
      ],
      "metadata": {
        "colab": {
          "base_uri": "https://localhost:8080/"
        },
        "id": "5sEsL215pYCD",
        "outputId": "b8e8a7c5-700b-49cb-ec53-5feffbc08776"
      },
      "execution_count": null,
      "outputs": [
        {
          "output_type": "stream",
          "name": "stdout",
          "text": [
            "139746371437264\n",
            "139746371439248\n"
          ]
        },
        {
          "output_type": "execute_result",
          "data": {
            "text/plain": [
              "True"
            ]
          },
          "metadata": {},
          "execution_count": 122
        }
      ]
    },
    {
      "cell_type": "code",
      "source": [
        "t1 == t2 # t1.__eq__(t2)의 결과"
      ],
      "metadata": {
        "colab": {
          "base_uri": "https://localhost:8080/"
        },
        "id": "jB8VFk2BpdF9",
        "outputId": "d15c9285-bd40-41f5-bc20-83c4d796264c"
      },
      "execution_count": null,
      "outputs": [
        {
          "output_type": "execute_result",
          "data": {
            "text/plain": [
              "True"
            ]
          },
          "metadata": {},
          "execution_count": 123
        }
      ]
    },
    {
      "cell_type": "code",
      "source": [
        "s1 = ''\n",
        "s2 = ''\n",
        "s1 == s2"
      ],
      "metadata": {
        "colab": {
          "base_uri": "https://localhost:8080/"
        },
        "id": "Z7Ix8Z0Yq10r",
        "outputId": "5f1af085-d08c-404f-9181-388a207e622a"
      },
      "execution_count": null,
      "outputs": [
        {
          "output_type": "execute_result",
          "data": {
            "text/plain": [
              "True"
            ]
          },
          "metadata": {},
          "execution_count": 124
        }
      ]
    },
    {
      "cell_type": "code",
      "source": [
        "numbers1 = [1,2]\n",
        "numbers2 = [3,4]\n",
        "numbers1 + numbers2 # numbers1.__add__(numbers2)"
      ],
      "metadata": {
        "colab": {
          "base_uri": "https://localhost:8080/"
        },
        "id": "mTfXniUWq40n",
        "outputId": "7c1dcd2b-7592-403d-a4a1-fe436fbc18e7"
      },
      "execution_count": null,
      "outputs": [
        {
          "output_type": "execute_result",
          "data": {
            "text/plain": [
              "[1, 2, 3, 4]"
            ]
          },
          "metadata": {},
          "execution_count": 125
        }
      ]
    },
    {
      "cell_type": "code",
      "source": [
        "numbers1 * 3 # numbers1.__mul__(3)"
      ],
      "metadata": {
        "colab": {
          "base_uri": "https://localhost:8080/"
        },
        "id": "NOT8e1S-r0rJ",
        "outputId": "a67d0ce3-3c55-4554-cbf9-bdb3980a3785"
      },
      "execution_count": null,
      "outputs": [
        {
          "output_type": "execute_result",
          "data": {
            "text/plain": [
              "[1, 2, 1, 2, 1, 2]"
            ]
          },
          "metadata": {},
          "execution_count": 127
        }
      ]
    },
    {
      "cell_type": "markdown",
      "source": [
        "# class 작성 연습"
      ],
      "metadata": {
        "id": "4_NaaDSis7_v"
      }
    },
    {
      "cell_type": "markdown",
      "source": [
        "## Ex 1. Score 클래스\n",
        "\n",
        "* 속성(attribute) : \n",
        "    * 국어, 영어, 수학 점수\n",
        "    * 모든 과목의 기본값은 0\n",
        "* 기능(method):\n",
        "    * `__repr__` : Score{국어=100, 영어=100, 수학=100} 문자열 포맷을 리턴.\n",
        "    * `calc_sum` : 세 과목 총점을 리턴\n",
        "    * `calc_mean` : 세 과목 평균을 리턴"
      ],
      "metadata": {
        "id": "yBFp1qw8s-3V"
      }
    },
    {
      "cell_type": "code",
      "source": [
        "class Score:\n",
        "  def __init__(self, korean = 0, english = 0, math = 0):\n",
        "    self.korean = korean\n",
        "    self.english = english\n",
        "    self.math = math\n",
        "  \n",
        "  def __repr__(self):\n",
        "    return f'Score{{국어={self.korean}, 영어={self.english}, 수학={self.math}}}'\n",
        "  \n",
        "  def calc_sum(self):\n",
        "    return self.korean + self.english + self.math\n",
        "\n",
        "  def calc_mean(self):\n",
        "    return self.calc_sum() / 3"
      ],
      "metadata": {
        "id": "vNVEUpGzuaAl"
      },
      "execution_count": null,
      "outputs": []
    },
    {
      "cell_type": "code",
      "source": [
        "s1 = Score(korean=100, english=100, math =100)\n",
        "s1.__repr__()\n",
        "print(s1.calc_sum())\n",
        "print(s1.calc_mean())"
      ],
      "metadata": {
        "colab": {
          "base_uri": "https://localhost:8080/"
        },
        "id": "hZ7ee5oOv09e",
        "outputId": "a109fcc7-9652-4c9a-da16-aff278ffd556"
      },
      "execution_count": null,
      "outputs": [
        {
          "output_type": "stream",
          "name": "stdout",
          "text": [
            "300\n",
            "100.0\n"
          ]
        }
      ]
    },
    {
      "cell_type": "markdown",
      "source": [
        "# Ex 2. Student 클래스\n",
        "\n",
        "* 속성(attribute):\n",
        "    * 이름, Score 객체\n",
        "* 기능(method):\n",
        "    * `__repr__` : Student{이름: xxx, 점수:  Score{국어=100, 영어=100, 수학=100}} 포맷의 문자열을 리턴."
      ],
      "metadata": {
        "id": "CYAmL-G0twi3"
      }
    },
    {
      "cell_type": "code",
      "source": [
        "class Student:\n",
        "  def __init__(self, name, korean=0, english=0, math=0):\n",
        "    self.name = name\n",
        "    self.Score = Score(korean, english, math)\n",
        "  \n",
        "  def __repr__(self):\n",
        "    return f'Student{{이름:{self.name}, 점수: {self.Score}}}'"
      ],
      "metadata": {
        "id": "vklQwI_2sKOq"
      },
      "execution_count": null,
      "outputs": []
    },
    {
      "cell_type": "code",
      "source": [
        "stu1 = Student('홍길동')\n",
        "stu1.__repr__()"
      ],
      "metadata": {
        "colab": {
          "base_uri": "https://localhost:8080/",
          "height": 35
        },
        "id": "nhFngXTzwngw",
        "outputId": "61a58870-71a2-481e-f6a5-f7163572eb3c"
      },
      "execution_count": null,
      "outputs": [
        {
          "output_type": "execute_result",
          "data": {
            "application/vnd.google.colaboratory.intrinsic+json": {
              "type": "string"
            },
            "text/plain": [
              "'Student{이름:홍길동, 점수: Score{국어=0, 영어=0, 수학=0}}'"
            ]
          },
          "metadata": {},
          "execution_count": 183
        }
      ]
    },
    {
      "cell_type": "code",
      "source": [
        "stu2 = Student('김길동', korean=100, english=100, math=50)\n",
        "stu2"
      ],
      "metadata": {
        "colab": {
          "base_uri": "https://localhost:8080/"
        },
        "id": "0r75YVMywu8S",
        "outputId": "aaf840d1-de7e-4446-895c-9ddd75847278"
      },
      "execution_count": null,
      "outputs": [
        {
          "output_type": "execute_result",
          "data": {
            "text/plain": [
              "Student{이름:김길동, 점수: Score{국어=100, 영어=100, 수학=50}}"
            ]
          },
          "metadata": {},
          "execution_count": 186
        }
      ]
    },
    {
      "cell_type": "code",
      "source": [
        "# stu2 객체의 점수 합계, 평균\n",
        "print('총점: ', stu2.Score.calc_sum())\n",
        "print('평균: ', stu2.Score.calc_mean())"
      ],
      "metadata": {
        "colab": {
          "base_uri": "https://localhost:8080/"
        },
        "id": "0GIDOgph2gDg",
        "outputId": "febed0cf-496c-4ec0-c19a-c8249eddf78b"
      },
      "execution_count": null,
      "outputs": [
        {
          "output_type": "stream",
          "name": "stdout",
          "text": [
            "총점:  250\n",
            "평균:  83.33333333333333\n"
          ]
        }
      ]
    },
    {
      "cell_type": "code",
      "source": [
        "class Student2:\n",
        "  def __init__(self, name, score):\n",
        "    self.name= name\n",
        "    self.score = score\n",
        "\n",
        "  def __repr__(self):\n",
        "    return f'Student{{이름:{self.name}, 점수:{self.score}}}'"
      ],
      "metadata": {
        "id": "cb9kuXhW278Q"
      },
      "execution_count": null,
      "outputs": []
    },
    {
      "cell_type": "code",
      "source": [
        "stu3 = Student2('오란씨', s1)\n",
        "stu3"
      ],
      "metadata": {
        "colab": {
          "base_uri": "https://localhost:8080/"
        },
        "id": "ISKSrIMb4OcV",
        "outputId": "cc17f645-38a8-417c-eeaa-54d3618e1af0"
      },
      "execution_count": null,
      "outputs": [
        {
          "output_type": "execute_result",
          "data": {
            "text/plain": [
              "Student{이름:오란씨, 점수:Score{국어=100, 영어=100, 수학=100}}"
            ]
          },
          "metadata": {},
          "execution_count": 193
        }
      ]
    },
    {
      "cell_type": "code",
      "source": [
        "stu4 = Student2('def', Score(100, 90, 80))\n",
        "stu4"
      ],
      "metadata": {
        "colab": {
          "base_uri": "https://localhost:8080/"
        },
        "id": "_EGwSJIj4T81",
        "outputId": "d8c8c858-cbde-4d43-e6d9-b39c49ea50f1"
      },
      "execution_count": null,
      "outputs": [
        {
          "output_type": "execute_result",
          "data": {
            "text/plain": [
              "Student{이름:def, 점수:Score{국어=100, 영어=90, 수학=80}}"
            ]
          },
          "metadata": {},
          "execution_count": 194
        }
      ]
    },
    {
      "cell_type": "code",
      "source": [
        "print(stu4.score.calc_sum())\n",
        "print(stu4.score.calc_mean())"
      ],
      "metadata": {
        "colab": {
          "base_uri": "https://localhost:8080/"
        },
        "id": "B286Mae64vSN",
        "outputId": "1aaae442-b3f8-4b76-a718-aa39d14aeeb2"
      },
      "execution_count": null,
      "outputs": [
        {
          "output_type": "stream",
          "name": "stdout",
          "text": [
            "270\n",
            "90.0\n"
          ]
        }
      ]
    },
    {
      "cell_type": "code",
      "source": [
        ""
      ],
      "metadata": {
        "id": "EHaL35xS4ycE"
      },
      "execution_count": null,
      "outputs": []
    }
  ]
}