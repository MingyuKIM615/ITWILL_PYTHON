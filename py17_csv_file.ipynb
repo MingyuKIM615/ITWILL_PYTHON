{
  "nbformat": 4,
  "nbformat_minor": 0,
  "metadata": {
    "colab": {
      "name": "py17_csv_file.ipynb",
      "provenance": [],
      "collapsed_sections": [],
      "mount_file_id": "1zoTyPeNQ55xt_vKyUNe-mhZkIMPJ55Ew",
      "authorship_tag": "ABX9TyOJedS+3Om23ToHQOlbs5BL",
      "include_colab_link": true
    },
    "kernelspec": {
      "name": "python3",
      "display_name": "Python 3"
    },
    "language_info": {
      "name": "python"
    }
  },
  "cells": [
    {
      "cell_type": "markdown",
      "metadata": {
        "id": "view-in-github",
        "colab_type": "text"
      },
      "source": [
        "<a href=\"https://colab.research.google.com/github/MingyuKIM615/ITWILL_PYTHON/blob/master/py17_csv_file.ipynb\" target=\"_parent\"><img src=\"https://colab.research.google.com/assets/colab-badge.svg\" alt=\"Open In Colab\"/></a>"
      ]
    },
    {
      "cell_type": "markdown",
      "source": [
        "* Colab 연결\n",
        "* Google Drive 마운트(연결)\n",
        "* csv_exam.csv 파일을 Google Drive의 lab_python 폴더에 업로드."
      ],
      "metadata": {
        "id": "d2XWT5Nf7sDu"
      }
    },
    {
      "cell_type": "code",
      "execution_count": null,
      "metadata": {
        "id": "lwO_4W_G6iS2"
      },
      "outputs": [],
      "source": [
        "# 엄로드한 CSV 파일 경로\n",
        "file_path = '/content/drive/MyDrive/Colab Notebooks/lab_python/csv_exam.csv'"
      ]
    },
    {
      "cell_type": "markdown",
      "source": [
        "1. csv_exam.csv 파일을 읽기 모드로 오픈\n",
        "2. 파일의 첫번째 줄은(컬럼 이름이기 때문에) 읽고 아무 동작 없이 건너뜀.\n",
        "3. 파일의 두번째 줄부터 마지막 줄까지 반복\n",
        "    * 각 줄에서 읽은 내용을 쉼표(,)로 구분한 리스트들을 저장하는 리스트를 만듦.\n",
        "    ```\n",
        "    [['1' , '1' , '50' , '98' , '50'], ['2' , '1' , '60' , '97' , '60'],...]\n",
        "    ```\n",
        "4. 2차원 리스트의 모든 값들을 숫자로 변환\n",
        "    ```\n",
        "    [[1 , 1 , 50 , 98 , 50], [2 , 1 , 60 , 97 , 60],...]\n",
        "    ```\n",
        "5. 2차원 리스트에서 수학 점수들로만 이루어진 1차원 리스트를 만듦.\n",
        "    ```\n",
        "    [50, 60, 45,...]\n",
        "    ```\n",
        "6. 수학 점수의 평균, 최댓값, 최솟값을 찾음.\n",
        "7. 1반 학생들의 수학 점수의 총점, 평균, 최댓값, 최솟값 찾음."
      ],
      "metadata": {
        "id": "fvfg1d0k8MWz"
      }
    },
    {
      "cell_type": "code",
      "source": [
        "exam = [] # 시험 성적을 저장할 리스트\n",
        "with open(file_path, mode='rt') as f: # 파일을 read/text 모드로 오픈\n",
        "  f.readline() # 파일의 첫번째 줄을 읽음.\n",
        "  for line in f: # 파일의 두번째 줄부터 파일 끝까지 한줄씩 읽으면서 \n",
        "    # (1) strip : 읽은 라인에서 앞뒤 공백 제거\n",
        "    # (2) split : 쉼포를 기준으로 자른 문자열들의 리스트를 생성[...]\n",
        "    # (3) 1차원 리스트를 exam에 append(추가)\n",
        "    exam.append(line.strip().split(sep=','))\n",
        "print(exam)"
      ],
      "metadata": {
        "colab": {
          "base_uri": "https://localhost:8080/"
        },
        "id": "Ld108BPj8Kvx",
        "outputId": "74c5cd72-5eb3-4a49-873c-ea9b6a5ac0d9"
      },
      "execution_count": null,
      "outputs": [
        {
          "output_type": "stream",
          "name": "stdout",
          "text": [
            "[['1', '1', '50', '98', '50'], ['2', '1', '60', '97', '60'], ['3', '1', '45', '86', '78'], ['4', '1', '30', '98', '58'], ['5', '2', '25', '80', '65'], ['6', '2', '50', '89', '98'], ['7', '2', '80', '90', '45'], ['8', '2', '90', '78', '25'], ['9', '3', '20', '98', '15'], ['10', '3', '50', '98', '45'], ['11', '3', '65', '65', '65'], ['12', '3', '45', '85', '32'], ['13', '4', '46', '98', '65'], ['14', '4', '48', '87', '12'], ['15', '4', '75', '56', '78'], ['16', '4', '58', '98', '65'], ['17', '5', '65', '68', '98'], ['18', '5', '80', '78', '90'], ['19', '5', '89', '68', '87'], ['20', '5', '78', '83', '58']]\n"
          ]
        }
      ]
    },
    {
      "cell_type": "code",
      "source": [
        "for row in exam:\n",
        "  for i, x in enumerate(row):\n",
        "    row[i] = int(x)"
      ],
      "metadata": {
        "id": "2wOYzLFv-5tO"
      },
      "execution_count": null,
      "outputs": []
    },
    {
      "cell_type": "code",
      "source": [
        "exam"
      ],
      "metadata": {
        "colab": {
          "base_uri": "https://localhost:8080/"
        },
        "id": "253dSMP3I0je",
        "outputId": "d676bda5-1d87-442d-c6b7-6c5e309eb1e3"
      },
      "execution_count": null,
      "outputs": [
        {
          "output_type": "execute_result",
          "data": {
            "text/plain": [
              "[[1, 1, 50, 98, 50],\n",
              " [2, 1, 60, 97, 60],\n",
              " [3, 1, 45, 86, 78],\n",
              " [4, 1, 30, 98, 58],\n",
              " [5, 2, 25, 80, 65],\n",
              " [6, 2, 50, 89, 98],\n",
              " [7, 2, 80, 90, 45],\n",
              " [8, 2, 90, 78, 25],\n",
              " [9, 3, 20, 98, 15],\n",
              " [10, 3, 50, 98, 45],\n",
              " [11, 3, 65, 65, 65],\n",
              " [12, 3, 45, 85, 32],\n",
              " [13, 4, 46, 98, 65],\n",
              " [14, 4, 48, 87, 12],\n",
              " [15, 4, 75, 56, 78],\n",
              " [16, 4, 58, 98, 65],\n",
              " [17, 5, 65, 68, 98],\n",
              " [18, 5, 80, 78, 90],\n",
              " [19, 5, 89, 68, 87],\n",
              " [20, 5, 78, 83, 58]]"
            ]
          },
          "metadata": {},
          "execution_count": 66
        }
      ]
    },
    {
      "cell_type": "code",
      "source": [
        "math = []\n",
        "for row in exam: # 2차원 리스트를 반복하면서\n",
        "  math.append(row[2]) # 1차원 리스트의 인덱스 2번 위치의 값이 수학"
      ],
      "metadata": {
        "id": "aBywVSvhKv6X"
      },
      "execution_count": null,
      "outputs": []
    },
    {
      "cell_type": "code",
      "source": [
        "print(math)"
      ],
      "metadata": {
        "colab": {
          "base_uri": "https://localhost:8080/"
        },
        "id": "OKGoyEuhLDBs",
        "outputId": "698ae1b9-c710-40c9-edab-4923ef28da2f"
      },
      "execution_count": null,
      "outputs": [
        {
          "output_type": "stream",
          "name": "stdout",
          "text": [
            "[50, 60, 45, 30, 25, 50, 80, 90, 20, 50, 65, 45, 46, 48, 75, 58, 65, 80, 89, 78]\n"
          ]
        }
      ]
    },
    {
      "cell_type": "code",
      "source": [
        "# 평균\n",
        "sum(math) / len(math)"
      ],
      "metadata": {
        "colab": {
          "base_uri": "https://localhost:8080/"
        },
        "id": "aQEHm-yOLDyP",
        "outputId": "da815236-7a9e-4d84-974f-8c4ac8e87fd8"
      },
      "execution_count": null,
      "outputs": [
        {
          "output_type": "execute_result",
          "data": {
            "text/plain": [
              "57.45"
            ]
          },
          "metadata": {},
          "execution_count": 71
        }
      ]
    },
    {
      "cell_type": "code",
      "source": [
        "# 최대\n",
        "max(math)"
      ],
      "metadata": {
        "colab": {
          "base_uri": "https://localhost:8080/"
        },
        "id": "muojNLN_LMWe",
        "outputId": "7e0e5a6d-3a5b-4a9b-ad28-4fa67981c94b"
      },
      "execution_count": null,
      "outputs": [
        {
          "output_type": "execute_result",
          "data": {
            "text/plain": [
              "90"
            ]
          },
          "metadata": {},
          "execution_count": 73
        }
      ]
    },
    {
      "cell_type": "code",
      "source": [
        "# 최소\n",
        "min(math)"
      ],
      "metadata": {
        "colab": {
          "base_uri": "https://localhost:8080/"
        },
        "id": "an8zzTHULrov",
        "outputId": "89c6ff09-4cc6-4722-81ce-8eb46e915c0b"
      },
      "execution_count": null,
      "outputs": [
        {
          "output_type": "execute_result",
          "data": {
            "text/plain": [
              "20"
            ]
          },
          "metadata": {},
          "execution_count": 74
        }
      ]
    },
    {
      "cell_type": "code",
      "source": [
        "math_class1 = []\n",
        "for row in exam:\n",
        "  if row[1] == 1:\n",
        "    math_class1.append(row[2])\n",
        "print(math_class1)"
      ],
      "metadata": {
        "colab": {
          "base_uri": "https://localhost:8080/"
        },
        "id": "H_B30mbOL0BT",
        "outputId": "81f6dd6c-8c75-4b54-af69-49791fe0333b"
      },
      "execution_count": null,
      "outputs": [
        {
          "output_type": "stream",
          "name": "stdout",
          "text": [
            "[50, 60, 45, 30]\n"
          ]
        }
      ]
    },
    {
      "cell_type": "code",
      "source": [
        "sum(math_class1) / len(math_class1)"
      ],
      "metadata": {
        "colab": {
          "base_uri": "https://localhost:8080/"
        },
        "id": "q7N8XP74MQ_I",
        "outputId": "3a7f00c6-8e47-4736-b040-d8b66fc7a6d3"
      },
      "execution_count": null,
      "outputs": [
        {
          "output_type": "execute_result",
          "data": {
            "text/plain": [
              "46.25"
            ]
          },
          "metadata": {},
          "execution_count": 76
        }
      ]
    },
    {
      "cell_type": "code",
      "source": [
        "with open(file_path) as f:\n",
        "  f.readline()\n",
        "  exam2 = [line.strip().split(sep=',')\n",
        "           for line in f]\n",
        "\n",
        "exam2"
      ],
      "metadata": {
        "colab": {
          "base_uri": "https://localhost:8080/"
        },
        "id": "oXUWs-x6McYY",
        "outputId": "1b84f204-4fb1-4972-ba3a-ff943fb2111d"
      },
      "execution_count": null,
      "outputs": [
        {
          "output_type": "execute_result",
          "data": {
            "text/plain": [
              "[['1', '1', '50', '98', '50'],\n",
              " ['2', '1', '60', '97', '60'],\n",
              " ['3', '1', '45', '86', '78'],\n",
              " ['4', '1', '30', '98', '58'],\n",
              " ['5', '2', '25', '80', '65'],\n",
              " ['6', '2', '50', '89', '98'],\n",
              " ['7', '2', '80', '90', '45'],\n",
              " ['8', '2', '90', '78', '25'],\n",
              " ['9', '3', '20', '98', '15'],\n",
              " ['10', '3', '50', '98', '45'],\n",
              " ['11', '3', '65', '65', '65'],\n",
              " ['12', '3', '45', '85', '32'],\n",
              " ['13', '4', '46', '98', '65'],\n",
              " ['14', '4', '48', '87', '12'],\n",
              " ['15', '4', '75', '56', '78'],\n",
              " ['16', '4', '58', '98', '65'],\n",
              " ['17', '5', '65', '68', '98'],\n",
              " ['18', '5', '80', '78', '90'],\n",
              " ['19', '5', '89', '68', '87'],\n",
              " ['20', '5', '78', '83', '58']]"
            ]
          },
          "metadata": {},
          "execution_count": 81
        }
      ]
    },
    {
      "cell_type": "code",
      "source": [
        ""
      ],
      "metadata": {
        "id": "dHAl4AHfNZLu"
      },
      "execution_count": null,
      "outputs": []
    }
  ]
}