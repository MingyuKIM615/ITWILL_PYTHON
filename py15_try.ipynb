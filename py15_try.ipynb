{
  "nbformat": 4,
  "nbformat_minor": 0,
  "metadata": {
    "colab": {
      "name": "py15_try.ipynb",
      "provenance": [],
      "collapsed_sections": [],
      "authorship_tag": "ABX9TyPFPn8SKLpsREejzsufG38V",
      "include_colab_link": true
    },
    "kernelspec": {
      "name": "python3",
      "display_name": "Python 3"
    },
    "language_info": {
      "name": "python"
    }
  },
  "cells": [
    {
      "cell_type": "markdown",
      "metadata": {
        "id": "view-in-github",
        "colab_type": "text"
      },
      "source": [
        "<a href=\"https://colab.research.google.com/github/MingyuKIM615/ITWILL_PYTHON/blob/master/py15_try.ipynb\" target=\"_parent\"><img src=\"https://colab.research.google.com/assets/colab-badge.svg\" alt=\"Open In Colab\"/></a>"
      ]
    },
    {
      "cell_type": "markdown",
      "source": [
        "# 예외(Exception)/오류(Error) 처리\n",
        "\n",
        "* 오류가 발생한 위치가 원인을 파악해서 오류가 발생하지 않도록 코드를 수정.\n",
        "* 오류가 발생하더라도 프로그램이 비정상적으로 종료되지 않고 계속 실행될 수 있도록 처리. --> try 구문\n",
        "    * Java는 try 구문을 사용하지 않으면 compile 에러가 발생하는 경우가 있지만,\n",
        "    * Python에서는 try 구문이 필수로 필요한 것은 아님."
      ],
      "metadata": {
        "id": "O7MUUnMAll5f"
      }
    },
    {
      "cell_type": "markdown",
      "source": [
        "```\n",
        "try:\n",
        "    (1)실행할 코드(들)\n",
        "except [에러이름 [as 별명]]:\n",
        "    (2)에러가 발생했을 때 실행할 코드(들)\n",
        "[else:\n",
        "    (3)try 블록 내부의 모든 코드가 에러 없이 정상적으로 실행된 경우 실행할 문장(들)\n",
        "]\n",
        "[finally:\n",
        "    (4)try 블록을 실행 중 에러 발생 여부와 상관없이 항상 실행할 문장(들)]\n",
        "```\n",
        "\n",
        "* 에러가 발생하지 않은 경우: (1) [-> (3) -> (4)]\n",
        "* 에러가 발생한 경우 : (1) -> (2) [-> (4)]"
      ],
      "metadata": {
        "id": "svkaBInim3Fb"
      }
    },
    {
      "cell_type": "code",
      "execution_count": null,
      "metadata": {
        "colab": {
          "base_uri": "https://localhost:8080/"
        },
        "id": "etyXhJ7ClV3P",
        "outputId": "3df46590-1e7f-4a18-cbe4-f5844982fb77"
      },
      "outputs": [
        {
          "name": "stdout",
          "output_type": "stream",
          "text": [
            "숫자를 입력>>>123\n"
          ]
        }
      ],
      "source": [
        "x = float(input('숫자를 입력>>>'))"
      ]
    },
    {
      "cell_type": "code",
      "source": [
        "try:\n",
        "  x = float(input('숫자입력>>>'))\n",
        "  print('x = ',x)\n",
        "except: # 모든 종류의 에러를 처리\n",
        "  print('숫자를 입력하세요...')"
      ],
      "metadata": {
        "colab": {
          "base_uri": "https://localhost:8080/"
        },
        "id": "4pnzhllvsmUu",
        "outputId": "f704b9ec-9a7f-4bbb-d662-bbb8ab7718ef"
      },
      "execution_count": null,
      "outputs": [
        {
          "output_type": "stream",
          "name": "stdout",
          "text": [
            "숫자입력>>>1 12\n",
            "숫자를 입력하세요...\n"
          ]
        }
      ]
    },
    {
      "cell_type": "code",
      "source": [
        "try:\n",
        "  x = float(input('숫자 입력>>>'))  # (1)\n",
        "except:\n",
        "  print('숫자로 입력하세요...')     # (2)\n",
        "else: \n",
        "  print('x = ', x)                  # (3)\n",
        "finally:\n",
        "  print('=== end ===')              # (4)"
      ],
      "metadata": {
        "colab": {
          "base_uri": "https://localhost:8080/"
        },
        "id": "3vjUu0ZBtKOc",
        "outputId": "eeebdbb4-2e7d-49cf-e0a0-f30386b0e6ec"
      },
      "execution_count": null,
      "outputs": [
        {
          "output_type": "stream",
          "name": "stdout",
          "text": [
            "숫자 입력>>>  4  4\n",
            "숫자로 입력하세요...\n",
            "=== end ===\n"
          ]
        }
      ]
    },
    {
      "cell_type": "code",
      "source": [
        "try:\n",
        "  x = float(input('x 입력>>> '))\n",
        "  y = float(input('y 입력>>> '))\n",
        "  print(f'{x} + {y} = {x + y}')\n",
        "  print(f'{x} - {y} = {x - y}')\n",
        "  print(f'{x} x {y} = {x * y}')\n",
        "  print(f'{x} / {y} = {x / y}')\n",
        "except ValueError:\n",
        "  print('숫자로 입력하세요...')\n",
        "except ZeroDivisionError:\n",
        "  print('0으로 나눌 수는 없습니다...')"
      ],
      "metadata": {
        "colab": {
          "base_uri": "https://localhost:8080/"
        },
        "id": "tlrft24guYtM",
        "outputId": "2f49cd6a-2348-4254-c9a2-7a0103acef33"
      },
      "execution_count": null,
      "outputs": [
        {
          "output_type": "stream",
          "name": "stdout",
          "text": [
            "x 입력>>> 123\n",
            "y 입력>>> 0\n",
            "123.0 + 0.0 = 123.0\n",
            "123.0 - 0.0 = 123.0\n",
            "123.0 x 0.0 = 0.0\n",
            "0으로 나눌 수는 없습니다...\n"
          ]
        }
      ]
    },
    {
      "cell_type": "markdown",
      "source": [
        "## Ex 1. \n",
        "정수 한 개를 입력받고, 입력받은 정수를 출력."
      ],
      "metadata": {
        "id": "srwC6xeoyptp"
      }
    },
    {
      "cell_type": "code",
      "source": [
        "\n",
        "while True:\n",
        "  try:\n",
        "    i = int(input('정수를 입력>>> '))\n",
        "    print('정수 = ', i)\n",
        "    break # 무한루프 종료\n",
        "  except:\n",
        "    print('정수를 입력하세요.')"
      ],
      "metadata": {
        "colab": {
          "base_uri": "https://localhost:8080/"
        },
        "id": "dXonyh3pv6wb",
        "outputId": "ccb2eeb0-d360-4670-bf4a-7fd86e5e443b"
      },
      "execution_count": null,
      "outputs": [
        {
          "output_type": "stream",
          "name": "stdout",
          "text": [
            "정수를 입력>>> 12\n",
            "정수 =  12\n"
          ]
        }
      ]
    },
    {
      "cell_type": "markdown",
      "source": [
        "## Ex 2.\n",
        "word counting - 리스트 words의 문자열을 key, 문자열의 등장 횟수를 value로 하는 dict를 만드세요."
      ],
      "metadata": {
        "id": "FE9MB4z3zFiM"
      }
    },
    {
      "cell_type": "code",
      "source": [
        "words = ['one', 'two', 'three', 'two', 'three', 'four']\n",
        "#> {'one' : 1, 'two' : 2, 'three': 2, 'four':1}"
      ],
      "metadata": {
        "id": "RG8Em9i9zI6q"
      },
      "execution_count": null,
      "outputs": []
    },
    {
      "cell_type": "code",
      "source": [
        "word_counts = {} # empty dict\n",
        "for w in words:\n",
        "  try:\n",
        "    word_counts[w] += 1 # word_count[w] = word_counts[w] + 1\n",
        "  except:\n",
        "    word_counts[w] = 1\n",
        "  print(word_counts)\n"
      ],
      "metadata": {
        "colab": {
          "base_uri": "https://localhost:8080/"
        },
        "id": "vW6B0dwPzR8t",
        "outputId": "5ec2fa99-2672-4f72-8595-5667ab3ae39c"
      },
      "execution_count": null,
      "outputs": [
        {
          "output_type": "stream",
          "name": "stdout",
          "text": [
            "{'one': 1}\n",
            "{'one': 1, 'two': 1}\n",
            "{'one': 1, 'two': 1, 'three': 1}\n",
            "{'one': 1, 'two': 2, 'three': 1}\n",
            "{'one': 1, 'two': 2, 'three': 2}\n",
            "{'one': 1, 'two': 2, 'three': 2, 'four': 1}\n"
          ]
        }
      ]
    },
    {
      "cell_type": "code",
      "source": [
        ""
      ],
      "metadata": {
        "id": "Mjj7OEzU25BZ"
      },
      "execution_count": null,
      "outputs": []
    }
  ]
}