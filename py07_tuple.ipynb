{
  "nbformat": 4,
  "nbformat_minor": 0,
  "metadata": {
    "colab": {
      "name": "py07_tuple.ipynb",
      "provenance": [],
      "collapsed_sections": [],
      "authorship_tag": "ABX9TyPoAhQmTq7Evm9BJkRQeB2+",
      "include_colab_link": true
    },
    "kernelspec": {
      "name": "python3",
      "display_name": "Python 3"
    },
    "language_info": {
      "name": "python"
    }
  },
  "cells": [
    {
      "cell_type": "markdown",
      "metadata": {
        "id": "view-in-github",
        "colab_type": "text"
      },
      "source": [
        "<a href=\"https://colab.research.google.com/github/MingyuKIM615/ITWILL_PYTHON/blob/master/py07_tuple.ipynb\" target=\"_parent\"><img src=\"https://colab.research.google.com/assets/colab-badge.svg\" alt=\"Open In Colab\"/></a>"
      ]
    },
    {
      "cell_type": "markdown",
      "source": [
        "* tuple: 저장된 원소(아이템)들을 변경할 수 없는 리스트.\n",
        "* 인덱스 기반의 데이터 타입. 인덱스를 사용해서 원소를 참조함. --> indexing, slicing\n",
        "* append(), insert(), extend(), remove, pop()와 같은 기능(메서드)들은 제공되지 않음."
      ],
      "metadata": {
        "id": "asPG8HlUQezz"
      }
    },
    {
      "cell_type": "code",
      "execution_count": null,
      "metadata": {
        "colab": {
          "base_uri": "https://localhost:8080/"
        },
        "id": "vAwNpiY0QMUr",
        "outputId": "e5e81846-5366-4d5c-dde4-ebba68475e4e"
      },
      "outputs": [
        {
          "output_type": "execute_result",
          "data": {
            "text/plain": [
              "(1, 2, 10, 20, 100)"
            ]
          },
          "metadata": {},
          "execution_count": 2
        }
      ],
      "source": [
        "numbers = (1, 2, 10, 20, 100)\n",
        "numbers"
      ]
    },
    {
      "cell_type": "code",
      "source": [
        "type(numbers)"
      ],
      "metadata": {
        "colab": {
          "base_uri": "https://localhost:8080/"
        },
        "id": "-riRWRh7RYlX",
        "outputId": "88948b39-0f0a-493b-8089-69172242666b"
      },
      "execution_count": null,
      "outputs": [
        {
          "output_type": "execute_result",
          "data": {
            "text/plain": [
              "tuple"
            ]
          },
          "metadata": {},
          "execution_count": 3
        }
      ]
    },
    {
      "cell_type": "markdown",
      "source": [
        "# indexing"
      ],
      "metadata": {
        "id": "jPoOrqq0RqMb"
      }
    },
    {
      "cell_type": "code",
      "source": [
        "numbers[0] # 시작 인덱스 : 0"
      ],
      "metadata": {
        "colab": {
          "base_uri": "https://localhost:8080/"
        },
        "id": "DKCUb6O2Rjov",
        "outputId": "0326ce22-117b-4a62-c77b-d45b326b6bb2"
      },
      "execution_count": null,
      "outputs": [
        {
          "output_type": "execute_result",
          "data": {
            "text/plain": [
              "1"
            ]
          },
          "metadata": {},
          "execution_count": 4
        }
      ]
    },
    {
      "cell_type": "code",
      "source": [
        "numbers[4] # 마지막 인덱스 : 원소 개수 - 1"
      ],
      "metadata": {
        "colab": {
          "base_uri": "https://localhost:8080/"
        },
        "id": "Yv56lhD1R1mQ",
        "outputId": "8e012f5d-844a-4b9e-e0e6-f9fa34679dc8"
      },
      "execution_count": null,
      "outputs": [
        {
          "output_type": "execute_result",
          "data": {
            "text/plain": [
              "100"
            ]
          },
          "metadata": {},
          "execution_count": 5
        }
      ]
    },
    {
      "cell_type": "code",
      "source": [
        "numbers[-1] # 튜플의 가장 마지막 원소"
      ],
      "metadata": {
        "colab": {
          "base_uri": "https://localhost:8080/"
        },
        "id": "gj_mvT_pR6Ji",
        "outputId": "6dbf451a-66e3-44d7-ea04-ff89191b2ae8"
      },
      "execution_count": null,
      "outputs": [
        {
          "output_type": "execute_result",
          "data": {
            "text/plain": [
              "100"
            ]
          },
          "metadata": {},
          "execution_count": 7
        }
      ]
    },
    {
      "cell_type": "markdown",
      "source": [
        "# slicing"
      ],
      "metadata": {
        "id": "vjir8GCWS6O3"
      }
    },
    {
      "cell_type": "code",
      "source": [
        "numbers[1:4] #> tuple"
      ],
      "metadata": {
        "colab": {
          "base_uri": "https://localhost:8080/"
        },
        "id": "ig5aBfDwSG14",
        "outputId": "e6f3e177-1b7f-4ae0-c20d-c807b014a420"
      },
      "execution_count": null,
      "outputs": [
        {
          "output_type": "execute_result",
          "data": {
            "text/plain": [
              "(2, 10, 20)"
            ]
          },
          "metadata": {},
          "execution_count": 10
        }
      ]
    },
    {
      "cell_type": "code",
      "source": [
        "numbers[:3] #> tuple에서 앞에서 3개 원소 선택"
      ],
      "metadata": {
        "colab": {
          "base_uri": "https://localhost:8080/"
        },
        "id": "lrOIXnizS9bo",
        "outputId": "ad2232c1-16cc-4dc6-dd25-845b937015e9"
      },
      "execution_count": null,
      "outputs": [
        {
          "output_type": "execute_result",
          "data": {
            "text/plain": [
              "(1, 2, 10)"
            ]
          },
          "metadata": {},
          "execution_count": 11
        }
      ]
    },
    {
      "cell_type": "code",
      "source": [
        "numbers[-3:] #> tuple에서 끝에서 3개 원소 선택"
      ],
      "metadata": {
        "colab": {
          "base_uri": "https://localhost:8080/"
        },
        "id": "Ee9NoTe6TZqZ",
        "outputId": "fd7b396e-ec77-4492-a3da-35f44aaaf98d"
      },
      "execution_count": null,
      "outputs": [
        {
          "output_type": "execute_result",
          "data": {
            "text/plain": [
              "(10, 20, 100)"
            ]
          },
          "metadata": {},
          "execution_count": 12
        }
      ]
    },
    {
      "cell_type": "markdown",
      "source": [
        "# decomposition(분해)"
      ],
      "metadata": {
        "id": "dTAe2GSAUBwB"
      }
    },
    {
      "cell_type": "code",
      "source": [
        "first, second = (100, 50)\n",
        "print(first)\n",
        "print(second)"
      ],
      "metadata": {
        "colab": {
          "base_uri": "https://localhost:8080/"
        },
        "id": "OpBJBxmwTmbU",
        "outputId": "dccdcf14-11ba-46f6-e27d-4ab3ec56a724"
      },
      "execution_count": null,
      "outputs": [
        {
          "output_type": "stream",
          "name": "stdout",
          "text": [
            "100\n",
            "50\n"
          ]
        }
      ]
    },
    {
      "cell_type": "code",
      "source": [
        "# tuple뿐 만 이나라 list도 decomposition이 가능.\n",
        "x, y ,z = [1, 2, 3]\n",
        "print(f'x = {x}, y = {y}, z = {z}')"
      ],
      "metadata": {
        "colab": {
          "base_uri": "https://localhost:8080/"
        },
        "id": "YHE7g8FhUeW1",
        "outputId": "8a183457-cb2c-4d33-ac07-8b9289f5c805"
      },
      "execution_count": null,
      "outputs": [
        {
          "output_type": "stream",
          "name": "stdout",
          "text": [
            "x = 1, y = 2, z = 3\n"
          ]
        }
      ]
    },
    {
      "cell_type": "markdown",
      "source": [
        "# tuple과 for 반복문"
      ],
      "metadata": {
        "id": "nXOyHDFCVSFU"
      }
    },
    {
      "cell_type": "code",
      "source": [
        "numbers = (1,20, 3, 40, 500, 1000)\n",
        "for x in numbers:\n",
        "  print(x, end=', ')"
      ],
      "metadata": {
        "colab": {
          "base_uri": "https://localhost:8080/"
        },
        "id": "MoX4TPv7U9rr",
        "outputId": "7c30f6d9-a8b9-4a3c-f701-e8c8597b9c84"
      },
      "execution_count": null,
      "outputs": [
        {
          "output_type": "stream",
          "name": "stdout",
          "text": [
            "1, 20, 3, 40, 500, 1000, "
          ]
        }
      ]
    },
    {
      "cell_type": "code",
      "source": [
        "numbers = ((1,2),\n",
        "           (3,4),\n",
        "           (5,6))\n",
        "numbers"
      ],
      "metadata": {
        "colab": {
          "base_uri": "https://localhost:8080/"
        },
        "id": "U1_bQlkZVdsy",
        "outputId": "2de66c3e-1ab7-4584-93a0-9376edecb1f5"
      },
      "execution_count": null,
      "outputs": [
        {
          "output_type": "execute_result",
          "data": {
            "text/plain": [
              "((1, 2), (3, 4), (5, 6))"
            ]
          },
          "metadata": {},
          "execution_count": 18
        }
      ]
    },
    {
      "cell_type": "code",
      "source": [
        "for row in numbers:\n",
        "  for x in row:\n",
        "    print(x, end=' ')\n",
        "  print()"
      ],
      "metadata": {
        "colab": {
          "base_uri": "https://localhost:8080/"
        },
        "id": "8EKSO7ZSV6zt",
        "outputId": "c7a9f057-973c-4296-9201-d1c86541886e"
      },
      "execution_count": null,
      "outputs": [
        {
          "output_type": "stream",
          "name": "stdout",
          "text": [
            "1 2 \n",
            "3 4 \n",
            "5 6 \n"
          ]
        }
      ]
    },
    {
      "cell_type": "code",
      "source": [
        "numbers[2][1]"
      ],
      "metadata": {
        "colab": {
          "base_uri": "https://localhost:8080/"
        },
        "id": "jGKFVW34WNoV",
        "outputId": "feafbce9-34f9-42a8-dca8-1e4b9cee964f"
      },
      "execution_count": null,
      "outputs": [
        {
          "output_type": "execute_result",
          "data": {
            "text/plain": [
              "6"
            ]
          },
          "metadata": {},
          "execution_count": 23
        }
      ]
    },
    {
      "cell_type": "code",
      "source": [
        ""
      ],
      "metadata": {
        "id": "w7GeXoyVWZoM"
      },
      "execution_count": null,
      "outputs": []
    }
  ]
}