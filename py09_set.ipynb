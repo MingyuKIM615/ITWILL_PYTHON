{
  "nbformat": 4,
  "nbformat_minor": 0,
  "metadata": {
    "colab": {
      "name": "py09_set.ipynb",
      "provenance": [],
      "collapsed_sections": [],
      "authorship_tag": "ABX9TyPvW7HCfOJcPnwFbH3J+ORb",
      "include_colab_link": true
    },
    "kernelspec": {
      "name": "python3",
      "display_name": "Python 3"
    },
    "language_info": {
      "name": "python"
    }
  },
  "cells": [
    {
      "cell_type": "markdown",
      "metadata": {
        "id": "view-in-github",
        "colab_type": "text"
      },
      "source": [
        "<a href=\"https://colab.research.google.com/github/MingyuKIM615/ITWILL_PYTHON/blob/master/py09_set.ipynb\" target=\"_parent\"><img src=\"https://colab.research.google.com/assets/colab-badge.svg\" alt=\"Open In Colab\"/></a>"
      ]
    },
    {
      "cell_type": "markdown",
      "source": [
        "# 집합(set)\n",
        "\n",
        "* 중복된 데이터의 저장을 허용하지 않음. `{1, 2, 2, 3} = {1, 2, 3}`\n",
        "* 데이터가 저장되는 순서가 중요하지 않음(인덱스를 사용하지 않음.) `{1, 2, 3} = {1, 3, 2}`"
      ],
      "metadata": {
        "id": "Er0FN70YG1ZJ"
      }
    },
    {
      "cell_type": "code",
      "execution_count": null,
      "metadata": {
        "colab": {
          "base_uri": "https://localhost:8080/"
        },
        "id": "_8IByrPuGkW0",
        "outputId": "e665602e-ea6e-4a05-8f37-921bef486ec0"
      },
      "outputs": [
        {
          "output_type": "execute_result",
          "data": {
            "text/plain": [
              "{1, 2, 3}"
            ]
          },
          "metadata": {},
          "execution_count": 2
        }
      ],
      "source": [
        "s1 = {1, 2, 2, 3, 3, 3}\n",
        "s1"
      ]
    },
    {
      "cell_type": "code",
      "source": [
        "type(s1)"
      ],
      "metadata": {
        "colab": {
          "base_uri": "https://localhost:8080/"
        },
        "id": "7fZ_Q9tWHv9k",
        "outputId": "2e282ce6-6917-417a-f109-6198db5e67fe"
      },
      "execution_count": null,
      "outputs": [
        {
          "output_type": "execute_result",
          "data": {
            "text/plain": [
              "set"
            ]
          },
          "metadata": {},
          "execution_count": 3
        }
      ]
    },
    {
      "cell_type": "code",
      "source": [
        "s2 = {3, 2, 1}\n",
        "s2"
      ],
      "metadata": {
        "colab": {
          "base_uri": "https://localhost:8080/"
        },
        "id": "0Xu-sPplHxK-",
        "outputId": "48b5c542-5f60-48e4-f943-f9cd9a900e63"
      },
      "execution_count": null,
      "outputs": [
        {
          "output_type": "execute_result",
          "data": {
            "text/plain": [
              "{1, 2, 3}"
            ]
          },
          "metadata": {},
          "execution_count": 4
        }
      ]
    },
    {
      "cell_type": "code",
      "source": [
        "# s1[0] # set 객체는 인덱스르 사용할 수 없음!\n",
        "# for-in 구문을 사용해서 set객체의 원소들을 하나씩 반복하면서 참조할 수 있음.\n",
        "for x in s1:\n",
        "  print(x)"
      ],
      "metadata": {
        "colab": {
          "base_uri": "https://localhost:8080/"
        },
        "id": "28ioNJ8WH6xr",
        "outputId": "a1c3ba4e-e2c0-4d7d-bbd0-360cb37c8dbf"
      },
      "execution_count": null,
      "outputs": [
        {
          "output_type": "stream",
          "name": "stdout",
          "text": [
            "1\n",
            "2\n",
            "3\n"
          ]
        }
      ]
    },
    {
      "cell_type": "markdown",
      "source": [
        "# set 기능(메서드)"
      ],
      "metadata": {
        "id": "cmd0qlf3IrWy"
      }
    },
    {
      "cell_type": "code",
      "source": [
        "s1 = {1, 2, 3, 4}\n",
        "s2 = {3, 4, 5}"
      ],
      "metadata": {
        "id": "OvYqkm_QIEx9"
      },
      "execution_count": null,
      "outputs": []
    },
    {
      "cell_type": "code",
      "source": [
        "# 합집합(union)\n",
        "s1.union(s2)"
      ],
      "metadata": {
        "colab": {
          "base_uri": "https://localhost:8080/"
        },
        "id": "JkRwBhNtI7L4",
        "outputId": "99c7debb-0c07-47f9-c11f-f733464941f1"
      },
      "execution_count": null,
      "outputs": [
        {
          "output_type": "execute_result",
          "data": {
            "text/plain": [
              "{1, 2, 3, 4, 5}"
            ]
          },
          "metadata": {},
          "execution_count": 8
        }
      ]
    },
    {
      "cell_type": "code",
      "source": [
        "s1 | s2 # | : 합집합 연산자 "
      ],
      "metadata": {
        "colab": {
          "base_uri": "https://localhost:8080/"
        },
        "id": "8Lm0SnfpJQS-",
        "outputId": "225e0fc0-ab69-4e43-b946-c2a77c878dbf"
      },
      "execution_count": null,
      "outputs": [
        {
          "output_type": "execute_result",
          "data": {
            "text/plain": [
              "{1, 2, 3, 4, 5}"
            ]
          },
          "metadata": {},
          "execution_count": 10
        }
      ]
    },
    {
      "cell_type": "code",
      "source": [
        "# 교집합(intersection)\n",
        "s1.intersection(s2)"
      ],
      "metadata": {
        "colab": {
          "base_uri": "https://localhost:8080/"
        },
        "id": "roV8hUSNJitR",
        "outputId": "490464a7-e4f8-4832-89b0-ebef67b2487f"
      },
      "execution_count": null,
      "outputs": [
        {
          "output_type": "execute_result",
          "data": {
            "text/plain": [
              "{3, 4}"
            ]
          },
          "metadata": {},
          "execution_count": 11
        }
      ]
    },
    {
      "cell_type": "code",
      "source": [
        "s1 & s2 #> &: 교집합 연산자"
      ],
      "metadata": {
        "colab": {
          "base_uri": "https://localhost:8080/"
        },
        "id": "1TJjw3ktJvQj",
        "outputId": "c1236fc7-2eba-4aaf-c9c5-34c2d38aa99c"
      },
      "execution_count": null,
      "outputs": [
        {
          "output_type": "execute_result",
          "data": {
            "text/plain": [
              "{3, 4}"
            ]
          },
          "metadata": {},
          "execution_count": 13
        }
      ]
    },
    {
      "cell_type": "code",
      "source": [
        "# 차집합(difference)\n",
        "s1.difference(s2)"
      ],
      "metadata": {
        "colab": {
          "base_uri": "https://localhost:8080/"
        },
        "id": "MlDl2fG-JxIf",
        "outputId": "ee72f8f4-6cbd-47eb-d251-48bda7402b62"
      },
      "execution_count": null,
      "outputs": [
        {
          "output_type": "execute_result",
          "data": {
            "text/plain": [
              "{1, 2}"
            ]
          },
          "metadata": {},
          "execution_count": 14
        }
      ]
    },
    {
      "cell_type": "code",
      "source": [
        "s1 - s2 #> - : 차집합 연산자"
      ],
      "metadata": {
        "colab": {
          "base_uri": "https://localhost:8080/"
        },
        "id": "9-uycYbMKJ6S",
        "outputId": "1bd155f6-766a-423d-fb3e-75cd7425f860"
      },
      "execution_count": null,
      "outputs": [
        {
          "output_type": "execute_result",
          "data": {
            "text/plain": [
              "{1, 2}"
            ]
          },
          "metadata": {},
          "execution_count": 15
        }
      ]
    },
    {
      "cell_type": "markdown",
      "source": [
        "```\n",
        "s1 | s2 = s2 | s1\n",
        "s1 & s2 = s2 & s1\n",
        "s1 - s2 != s2 - s1\n",
        "```"
      ],
      "metadata": {
        "id": "beV7OUJjKkDj"
      }
    },
    {
      "cell_type": "code",
      "source": [
        "# set(arg) : set 객체를 생성해서 리턴.\n",
        "numbers = [1, 2, 3, 1, 2, 1, 2, 3, 4] #> 9개의 아이템을 갖는 리스트\n",
        "\n",
        "# numbers에서 중복되지 않는 값의 개수\n",
        "number_set = set(numbers)\n",
        "print(number_set)\n",
        "\n",
        "# numbers에서 중복되지 않는 값들의 개수\n",
        "print(len(number_set))"
      ],
      "metadata": {
        "colab": {
          "base_uri": "https://localhost:8080/"
        },
        "id": "lA-PJ6anKe6L",
        "outputId": "c337b9a4-851e-4959-af9c-c74ce5e7d873"
      },
      "execution_count": null,
      "outputs": [
        {
          "output_type": "stream",
          "name": "stdout",
          "text": [
            "{1, 2, 3, 4}\n",
            "4\n"
          ]
        }
      ]
    },
    {
      "cell_type": "code",
      "source": [
        "print(s1)\n",
        "\n",
        "# set에 원소 추가. 이미 존재하는 원소이면 중복 저장은 되지 않음.\n",
        "s1.add(100)\n",
        "print(s1)\n",
        "\n",
        "s1.add(1)\n",
        "print(s1)"
      ],
      "metadata": {
        "colab": {
          "base_uri": "https://localhost:8080/"
        },
        "id": "POqe5tuZLv6W",
        "outputId": "b4a7d7a4-b729-412e-aa98-b83f6e0842f7"
      },
      "execution_count": null,
      "outputs": [
        {
          "output_type": "stream",
          "name": "stdout",
          "text": [
            "{1, 2, 3, 100, 4}\n",
            "{1, 2, 3, 100, 4}\n",
            "{1, 2, 3, 100, 4}\n"
          ]
        }
      ]
    },
    {
      "cell_type": "code",
      "source": [
        "# set의 원소 삭제.\n",
        "s1.remove(100)\n",
        "print(s1)"
      ],
      "metadata": {
        "colab": {
          "base_uri": "https://localhost:8080/"
        },
        "id": "IE2n_J7PNEfc",
        "outputId": "1c9671d2-ff18-44fb-e6f6-26853fc0dfb6"
      },
      "execution_count": null,
      "outputs": [
        {
          "output_type": "stream",
          "name": "stdout",
          "text": [
            "{1, 2, 3, 4}\n"
          ]
        }
      ]
    },
    {
      "cell_type": "code",
      "source": [
        "a = {'일본', '중국', '한국'}\n",
        "print(a)\n",
        "a.add('베트남')\n",
        "a.add('중국')\n",
        "\n",
        "\n",
        "\n",
        "a.remove('일본')\n",
        "a.update({'홍콩', '한국', '태국'})\n",
        "# print(a)"
      ],
      "metadata": {
        "id": "DVmejsPuNuJy",
        "colab": {
          "base_uri": "https://localhost:8080/"
        },
        "outputId": "03ec21f7-1a42-4418-edc2-2245560da081"
      },
      "execution_count": null,
      "outputs": [
        {
          "output_type": "stream",
          "name": "stdout",
          "text": [
            "{'중국', '한국', '일본'}\n"
          ]
        }
      ]
    },
    {
      "cell_type": "code",
      "source": [
        ""
      ],
      "metadata": {
        "id": "g8wuy-fif53i"
      },
      "execution_count": null,
      "outputs": []
    }
  ]
}