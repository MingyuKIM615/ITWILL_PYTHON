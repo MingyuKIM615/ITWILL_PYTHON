{
  "nbformat": 4,
  "nbformat_minor": 0,
  "metadata": {
    "colab": {
      "name": "py13_inheritance.ipynb",
      "provenance": [],
      "collapsed_sections": [],
      "authorship_tag": "ABX9TyOyMBQlDW45KuD+UnSrlmOJ",
      "include_colab_link": true
    },
    "kernelspec": {
      "name": "python3",
      "display_name": "Python 3"
    },
    "language_info": {
      "name": "python"
    }
  },
  "cells": [
    {
      "cell_type": "markdown",
      "metadata": {
        "id": "view-in-github",
        "colab_type": "text"
      },
      "source": [
        "<a href=\"https://colab.research.google.com/github/MingyuKIM615/ITWILL_PYTHON/blob/master/py13_inheritance.ipynb\" target=\"_parent\"><img src=\"https://colab.research.google.com/assets/colab-badge.svg\" alt=\"Open In Colab\"/></a>"
      ]
    },
    {
      "cell_type": "markdown",
      "source": [
        "# 상속(Inheritance)\n",
        "\n",
        "* super class(상위 클래스), parent class(부모 클래스), base class(기본 클래스)\n",
        "* sub class(하위 클래스), child class(자식 클래스), derived class(유도 클래스)\n",
        "* 상속: 상위 클래스의 속성들(attributes)과 기능들(method)을 하위 클래스에서 재사용하는 것.\n",
        "* IS-A 관계가 성립하는 객체들을 상속을 사용해서 구현함.\n",
        "    * 학생은 사람이다(Student IS A Person.)\n",
        "      * Person : super class\n",
        "      * Student: sub class\n",
        "* Has-A 관계가 성립하는 객체들은 일반적으로 상속이 아니라, attribute(속성)으로 클래스를 구현함.\n",
        "  * 학생은 시험 성적을 가지고 있다.(Student HAS A Score.)\n",
        "    * Student 클래스의 속성 중 하나로 Score 클래스의 객체를 사용.\n",
        "    "
      ],
      "metadata": {
        "id": "gLYEBOOLelZZ"
      }
    },
    {
      "cell_type": "code",
      "execution_count": null,
      "metadata": {
        "id": "rRER7uz-eU5b"
      },
      "outputs": [],
      "source": [
        "class Person:\n",
        "  def __init__(self, name):\n",
        "    self.name = name\n",
        "  \n",
        "  def say_hello(self):\n",
        "    print(f'안녕하세요, 저는 {self.name}입니다.')"
      ]
    },
    {
      "cell_type": "code",
      "source": [
        "oh_ssam = Person('오쌤')"
      ],
      "metadata": {
        "id": "5F5LAyEHhw6V"
      },
      "execution_count": null,
      "outputs": []
    },
    {
      "cell_type": "code",
      "source": [
        "oh_ssam.say_hello()"
      ],
      "metadata": {
        "colab": {
          "base_uri": "https://localhost:8080/"
        },
        "id": "-EBNFeUViT0s",
        "outputId": "23f98bcb-e287-4415-d75d-159a4bce43fd"
      },
      "execution_count": null,
      "outputs": [
        {
          "output_type": "stream",
          "name": "stdout",
          "text": [
            "안녕하세요, 저는 오쌤입니다.\n"
          ]
        }
      ]
    },
    {
      "cell_type": "markdown",
      "source": [
        "SuperClass를 상속받는 SubClass를 정의하는 방법:\n",
        "\n",
        "```\n",
        "class SubClass(SuperClass):\n",
        "  코드 작성\n",
        "```"
      ],
      "metadata": {
        "id": "bcHow-ryi5Dz"
      }
    },
    {
      "cell_type": "code",
      "source": [
        "# Studnet IS A Person.\n",
        "class Student(Person):\n",
        "  pass"
      ],
      "metadata": {
        "id": "cmYZ8lt1iZ5C"
      },
      "execution_count": null,
      "outputs": []
    },
    {
      "cell_type": "code",
      "source": [
        "stu = Student('홍길동')"
      ],
      "metadata": {
        "id": "PJJ1kXNKjwYE"
      },
      "execution_count": null,
      "outputs": []
    },
    {
      "cell_type": "code",
      "source": [
        "stu.say_hello()"
      ],
      "metadata": {
        "colab": {
          "base_uri": "https://localhost:8080/"
        },
        "id": "zbcMGO8lkPR2",
        "outputId": "02a18ffc-2c59-41cd-c50b-4b02aa546bab"
      },
      "execution_count": null,
      "outputs": [
        {
          "output_type": "stream",
          "name": "stdout",
          "text": [
            "안녕하세요, 저는 홍길동입니다.\n"
          ]
        }
      ]
    },
    {
      "cell_type": "markdown",
      "source": [
        "# Method Overrid\n",
        "* 상위 클래스의 메서드를 하위 클래스에서 재정의하는 것.\n",
        "    * Python은 메서드의 이름만 같으면 (파라미터 개수와 상관없이) 메서드가 재정의 됨 - override\n",
        "    * __(주의)__ : Java에서는 메서드의 이름과 파라미터 (타입, 개수, 순서)가 동일한 경우 override\n",
        "* 하위 클래스에서 override가 된 상위 클래스의 메서드를 명시적으로 호출하기 위해서는 `super().method_name(arg)`와 같은 방식으로 사용함."
      ],
      "metadata": {
        "id": "HU5SQJjDpHaV"
      }
    },
    {
      "cell_type": "code",
      "source": [
        "# BusinessPerson IS A Person.\n",
        "class BusinessPerson(Person):\n",
        "  # 부모 클래스 Person 클래스의 __init__ 메서드를 override\n",
        "  def __init__(self, name, company=None):\n",
        "    # 부모 클래스 Person의 __init__ 메서드를 호출\n",
        "    super().__init__(name)\n",
        "    self.company = company # 자식 클래스만 가지고 있는 속성.\n",
        "\n",
        "  # 부모 클래스 Person의 say_hello 메서드를 override\n",
        "  def say_hello(self):\n",
        "    # 부모 클래스 Person의 say_hello 메서드를 명시적으로 호출 - 부모의 기능을 그대로 사용.\n",
        "    super().say_hello()\n",
        "    # 부모의 기능을 확장 - 추가 기능.\n",
        "    print(f'저는 {self.company} 사원입니다.')"
      ],
      "metadata": {
        "id": "ABX6Q0Hfk658"
      },
      "execution_count": null,
      "outputs": []
    },
    {
      "cell_type": "code",
      "source": [
        "gildong = BusinessPerson(name='홍길동', company='아이티윌')"
      ],
      "metadata": {
        "id": "HenZp0rttdEK"
      },
      "execution_count": null,
      "outputs": []
    },
    {
      "cell_type": "code",
      "source": [
        "gildong.say_hello()"
      ],
      "metadata": {
        "colab": {
          "base_uri": "https://localhost:8080/"
        },
        "id": "lpGygWRqtqzV",
        "outputId": "33be780c-d8e1-4510-fd74-2a91554698f7"
      },
      "execution_count": null,
      "outputs": [
        {
          "output_type": "stream",
          "name": "stdout",
          "text": [
            "안녕하세요, 저는 홍길동입니다.\n",
            "저는 아이티윌 사원입니다.\n"
          ]
        }
      ]
    },
    {
      "cell_type": "code",
      "source": [
        "def test(x=None):\n",
        "  print('test()')\n"
      ],
      "metadata": {
        "id": "UeZHPcp7tueX"
      },
      "execution_count": null,
      "outputs": []
    },
    {
      "cell_type": "code",
      "source": [
        "test()"
      ],
      "metadata": {
        "colab": {
          "base_uri": "https://localhost:8080/"
        },
        "id": "pU8m6yL9wdbC",
        "outputId": "e22e82b5-df2f-4dba-84e8-ea3f8c001b18"
      },
      "execution_count": null,
      "outputs": [
        {
          "output_type": "stream",
          "name": "stdout",
          "text": [
            "test()\n"
          ]
        }
      ]
    },
    {
      "cell_type": "markdown",
      "source": [
        "# `isinstance(obj, class)` 함수\n",
        "\n",
        "객체(obj)가 클래스(class)의 인스턴스이면 True, 그렇지 않으면 False를 리턴."
      ],
      "metadata": {
        "id": "uz0sfq5U1tS_"
      }
    },
    {
      "cell_type": "code",
      "source": [
        "isinstance(gildong, BusinessPerson)"
      ],
      "metadata": {
        "colab": {
          "base_uri": "https://localhost:8080/"
        },
        "id": "j2MoBaMQwfN9",
        "outputId": "34b7f2b7-a494-43b6-82bb-69a97b9845a7"
      },
      "execution_count": null,
      "outputs": [
        {
          "output_type": "execute_result",
          "data": {
            "text/plain": [
              "True"
            ]
          },
          "metadata": {},
          "execution_count": 21
        }
      ]
    },
    {
      "cell_type": "code",
      "source": [
        "# 회사원은 사람이다.\n",
        "isinstance(gildong, Person) # gildong은 Person 클래스의 인스턴스이다."
      ],
      "metadata": {
        "colab": {
          "base_uri": "https://localhost:8080/"
        },
        "id": "HNUEdh5G2Sp-",
        "outputId": "5d9234ab-0578-429d-a956-e6493d80c7fd"
      },
      "execution_count": null,
      "outputs": [
        {
          "output_type": "execute_result",
          "data": {
            "text/plain": [
              "True"
            ]
          },
          "metadata": {},
          "execution_count": 22
        }
      ]
    },
    {
      "cell_type": "code",
      "source": [
        "p = Person('무명')"
      ],
      "metadata": {
        "id": "2UJ0a0c22etg"
      },
      "execution_count": null,
      "outputs": []
    },
    {
      "cell_type": "code",
      "source": [
        "isinstance(p, Person) # p는 Person 클래스의 인스턴스이다."
      ],
      "metadata": {
        "colab": {
          "base_uri": "https://localhost:8080/"
        },
        "id": "GZaBBCX83BzJ",
        "outputId": "f3746717-8e63-4953-9a23-7370742d103d"
      },
      "execution_count": null,
      "outputs": [
        {
          "output_type": "execute_result",
          "data": {
            "text/plain": [
              "True"
            ]
          },
          "metadata": {},
          "execution_count": 24
        }
      ]
    },
    {
      "cell_type": "code",
      "source": [
        "# 사람은 회사원이다. (X)\n",
        "isinstance(p, BusinessPerson) # p는 BusinessPerson 클래스의 인스턴스이다.(X)"
      ],
      "metadata": {
        "colab": {
          "base_uri": "https://localhost:8080/"
        },
        "id": "N5F9dOL_3HcM",
        "outputId": "641e7e60-3780-40a7-f113-68fd58d50291"
      },
      "execution_count": null,
      "outputs": [
        {
          "output_type": "execute_result",
          "data": {
            "text/plain": [
              "False"
            ]
          },
          "metadata": {},
          "execution_count": 25
        }
      ]
    },
    {
      "cell_type": "markdown",
      "source": [
        "## `isinstance` 함수 활용"
      ],
      "metadata": {
        "id": "u6d-tozO3ocU"
      }
    },
    {
      "cell_type": "code",
      "source": [
        "class Animal:\n",
        "  def move(self):\n",
        "    pass\n",
        "\n",
        "# 강아지는 동물이다.(IS-A)\n",
        "class Dog(Animal):\n",
        "  # override\n",
        "  def move(self):\n",
        "    print('강아지는 총총총...')\n",
        "\n",
        "# 새는 동물이다.(IS-A)\n",
        "class Bird(Animal):\n",
        "  # override\n",
        "  def move(self):\n",
        "    print('새는 훨훨~~')\n",
        "\n",
        "class Tree:\n",
        "  pass"
      ],
      "metadata": {
        "id": "kuwEhmTF3QBV"
      },
      "execution_count": null,
      "outputs": []
    },
    {
      "cell_type": "code",
      "source": [
        "# Python의 리스트(list)는 다른 타입의 값들을 저장할 수 있음.\n",
        "array = [Dog(), Bird(), Tree()]\n",
        "for x in array:\n",
        "  # move() 메서드를 가지고 있으면\n",
        "  if isinstance(x, Animal):\n",
        "    x.move()"
      ],
      "metadata": {
        "colab": {
          "base_uri": "https://localhost:8080/"
        },
        "id": "10_FJUVQ4knR",
        "outputId": "a88ce009-0126-432e-993d-c74924fb88de"
      },
      "execution_count": null,
      "outputs": [
        {
          "output_type": "stream",
          "name": "stdout",
          "text": [
            "강아지는 총총총...\n",
            "새는 훨훨~~\n"
          ]
        }
      ]
    },
    {
      "cell_type": "code",
      "source": [
        ""
      ],
      "metadata": {
        "id": "TpHa4Yfo5gA-"
      },
      "execution_count": null,
      "outputs": []
    }
  ]
}