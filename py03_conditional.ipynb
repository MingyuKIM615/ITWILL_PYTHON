{
  "nbformat": 4,
  "nbformat_minor": 0,
  "metadata": {
    "colab": {
      "name": "py03_conditional.ipynb",
      "provenance": [],
      "collapsed_sections": [],
      "toc_visible": true,
      "authorship_tag": "ABX9TyPYPtir+FRitpIDPZ6OfiU6",
      "include_colab_link": true
    },
    "kernelspec": {
      "name": "python3",
      "display_name": "Python 3"
    },
    "language_info": {
      "name": "python"
    }
  },
  "cells": [
    {
      "cell_type": "markdown",
      "metadata": {
        "id": "view-in-github",
        "colab_type": "text"
      },
      "source": [
        "<a href=\"https://colab.research.google.com/github/MingyuKIM615/ITWILL_PYTHON/blob/master/py03_conditional.ipynb\" target=\"_parent\"><img src=\"https://colab.research.google.com/assets/colab-badge.svg\" alt=\"Open In Colab\"/></a>"
      ]
    },
    {
      "cell_type": "markdown",
      "source": [
        "# 조건문(Conditional Statement)"
      ],
      "metadata": {
        "id": "5AB5TM1mG0Ds"
      }
    },
    {
      "cell_type": "markdown",
      "source": [
        "## else가 없는 조건문\n",
        "\n",
        "\n",
        "```\n",
        "if 조건식:\n",
        "    조건식을 만족할 때 실행하는 코드(들)\n",
        "```\n",
        "\n",
        "* `if 조건식` 뒤에는 반드시 **콜론**(:)을 사용해야 함.\n",
        "* `if` 블록(조건식을 만족할 때 실행할 문장들)은 반드시 **들여쓰기**(indentation)을 해야 함. "
      ],
      "metadata": {
        "id": "_13zHQssG5SI"
      }
    },
    {
      "cell_type": "code",
      "execution_count": null,
      "metadata": {
        "id": "GoxT1eW3GbLh"
      },
      "outputs": [],
      "source": [
        "n = 100"
      ]
    },
    {
      "cell_type": "code",
      "source": [
        "if n > 0:\n",
        "  print(f'{n}은 양수입니다...')\n",
        "  print('if 블록 내부 끝')\n",
        "print('if 블록 바깥')"
      ],
      "metadata": {
        "colab": {
          "base_uri": "https://localhost:8080/"
        },
        "id": "BCTCHJVUIoFT",
        "outputId": "8d9055e9-6aad-4349-f31a-e37b1436f0c4"
      },
      "execution_count": null,
      "outputs": [
        {
          "output_type": "stream",
          "name": "stdout",
          "text": [
            "if 블록 바깥\n"
          ]
        }
      ]
    },
    {
      "cell_type": "markdown",
      "source": [
        "# else 있는 조건문\n",
        "\n",
        "```\n",
        "if 조건식:\n",
        "    조건식을 만족할 때 실행할 문장(즐)\n",
        "else:\n",
        "    조건식을 만족하지 못할 때 실행할 문장(들)\n",
        "```\n",
        "\n"
      ],
      "metadata": {
        "id": "lM9BDj48LJy4"
      }
    },
    {
      "cell_type": "code",
      "source": [
        "if n > 0:\n",
        "  print(f'{n}은 양수입니다...')\n",
        "else:\n",
        "  print(f'{n}은 양수가 아닙니다....')\n",
        "print('if-else 끝')"
      ],
      "metadata": {
        "colab": {
          "base_uri": "https://localhost:8080/"
        },
        "id": "iZUt6POcLppe",
        "outputId": "bbbf1ccb-c9b7-4a5e-b138-5e857a385318"
      },
      "execution_count": null,
      "outputs": [
        {
          "output_type": "stream",
          "name": "stdout",
          "text": [
            "100은 양수입니다...\n",
            "if-else 끝\n"
          ]
        }
      ]
    },
    {
      "cell_type": "code",
      "source": [
        "# 정수를 입력받아서 짝수인지 홀수인지 출력\n",
        "\n",
        "x = int(input('정수입력 >>>'))\n",
        "if x % 2 == 0:\n",
        "  print(f'{x}(은)는 짝수')\n",
        "else:\n",
        "  print(f'{x}(은)는 홀수')"
      ],
      "metadata": {
        "colab": {
          "base_uri": "https://localhost:8080/"
        },
        "id": "1zgpFkeNM0i-",
        "outputId": "0ac34dbc-1002-4769-a287-b49415906536"
      },
      "execution_count": null,
      "outputs": [
        {
          "output_type": "stream",
          "name": "stdout",
          "text": [
            "정수입력 >>>21\n",
            "21(은)는 홀수\n"
          ]
        }
      ]
    },
    {
      "cell_type": "markdown",
      "source": [
        "## chained conditional(if-elif-else)\n",
        "\n",
        "```\n",
        "if 조건식1:\n",
        "    조건식1을 만족할 때 실행할 문장(들)\n",
        "elif 조건식:\n",
        "    조건식2를 만족할 때 실행할 문장(들)\n",
        "...\n",
        "else:\n",
        "    위의 모든 조건식을 만족하지 못할 때 실행할 문장(들)\n",
        "```"
      ],
      "metadata": {
        "id": "aP4oRQm7Sw76"
      }
    },
    {
      "cell_type": "code",
      "source": [
        "# 정수를 입력받아서 양수, 음수, 0인 지를 출력\n",
        "number = int(input('정수를 입력하세요 >>>'))\n",
        "\n",
        "if number > 0:\n",
        "  print(f'{number}은(는) 양수')\n",
        "elif number < 0:\n",
        "  print(f'{number}은(는) 음수')\n",
        "else:\n",
        "  print(f'{number}은(는) 0')"
      ],
      "metadata": {
        "colab": {
          "base_uri": "https://localhost:8080/"
        },
        "id": "uzFG2ojkOhJU",
        "outputId": "54036424-3295-48b3-d228-538c4d319f31"
      },
      "execution_count": null,
      "outputs": [
        {
          "output_type": "stream",
          "name": "stdout",
          "text": [
            "정수를 입력하세요 >>>0\n",
            "0은(는) 0\n"
          ]
        }
      ]
    },
    {
      "cell_type": "markdown",
      "source": [
        "## 중첩 조건문(nested conditional)\n",
        "\n",
        "* `if` 블록, `elif` 블록, `else` 블록 안에서 조건문을 사용하는 것.\n",
        "* 중첩 조건문은 `elif`를 사용하거나 논리 연산자(and, or)를 사용해서 중첩되지 않는 조건문으로 만들 수도 있음.\n",
        "* 중첩 조건문을 사용할 때는 들여쓰기(indentation)을 주의해야 함. 들여쓰기 방법에 따라서 완전히 다른 실행 코드(로직)이 될 수 있음."
      ],
      "metadata": {
        "id": "rxmiRbE7VyI_"
      }
    },
    {
      "cell_type": "code",
      "source": [
        "number = int(input('정수 입력>>> '))\n",
        "if number > 0:\n",
        "  print('양수')\n",
        "else:\n",
        "  if number < 0:\n",
        "    print('음수')\n",
        "  else:\n",
        "    print('영')"
      ],
      "metadata": {
        "colab": {
          "base_uri": "https://localhost:8080/"
        },
        "id": "MczieUEqWoB5",
        "outputId": "780be7cb-9aab-4a1b-9e82-74cd7f778361"
      },
      "execution_count": null,
      "outputs": [
        {
          "output_type": "stream",
          "name": "stdout",
          "text": [
            "정수 입력>>> 123\n",
            "양수\n"
          ]
        }
      ]
    },
    {
      "cell_type": "markdown",
      "source": [
        "# 연습문제\n",
        "\n",
        "* 변수 3개에 정수 3개를 입력받고 저장\n",
        "* 입력받은 정수 3개의 평균을 계산\n",
        "* 평균이 \n",
        "    * 90점 이상이면 'A',\n",
        "    * 80점 이상이면 'B',\n",
        "    * 70점 이상이면 'C',\n",
        "    * 70점 미만이면 'F',"
      ],
      "metadata": {
        "id": "JqfJSnDtYEB_"
      }
    },
    {
      "cell_type": "code",
      "source": [
        "# 정수를 입력받고 변수에 저장\n",
        "x = int(input('점수1 입력>>> '))\n",
        "y = int(input('점수2 입력>>> '))\n",
        "z = int(input('점수3 입력>>> '))\n",
        "\n",
        "# 세 정수의 평균 계산\n",
        "avg = (x + y + z) / 3\n",
        "\n",
        "print(f'평균은 {avg}이고 등급은 ')\n",
        "\n",
        "# A, B, C, F를 출력\n",
        "if avg >= 90:\n",
        "  print('A')\n",
        "elif avg >= 80:\n",
        "  print('B')\n",
        "elif avg >= 70:\n",
        "  print('C')\n",
        "else:\n",
        "  print('F')"
      ],
      "metadata": {
        "colab": {
          "base_uri": "https://localhost:8080/"
        },
        "id": "TMcYmaUQXI8r",
        "outputId": "b1099dbc-c990-4d95-87c0-36c8f24a3687"
      },
      "execution_count": null,
      "outputs": [
        {
          "output_type": "stream",
          "name": "stdout",
          "text": [
            "점수1 입력>>> 100\n",
            "점수2 입력>>> 75\n",
            "점수3 입력>>> 65\n",
            "평균은 80.0이고 등급은 \n",
            "B\n"
          ]
        }
      ]
    }
  ]
}